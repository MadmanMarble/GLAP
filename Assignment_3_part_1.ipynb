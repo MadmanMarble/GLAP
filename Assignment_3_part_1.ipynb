{
  "nbformat": 4,
  "nbformat_minor": 0,
  "metadata": {
    "colab": {
      "provenance": [],
      "include_colab_link": true
    },
    "kernelspec": {
      "name": "python3",
      "display_name": "Python 3"
    },
    "language_info": {
      "name": "python"
    }
  },
  "cells": [
    {
      "cell_type": "markdown",
      "metadata": {
        "id": "view-in-github",
        "colab_type": "text"
      },
      "source": [
        "<a href=\"https://colab.research.google.com/github/MadmanMarble/GLAP/blob/main/Assignment_3_part_1.ipynb\" target=\"_parent\"><img src=\"https://colab.research.google.com/assets/colab-badge.svg\" alt=\"Open In Colab\"/></a>"
      ]
    },
    {
      "cell_type": "code",
      "metadata": {
        "id": "TzISMZfZvM7i"
      },
      "source": [
        "import pandas as pd"
      ],
      "execution_count": null,
      "outputs": []
    },
    {
      "cell_type": "code",
      "metadata": {
        "id": "87SJALZ2MeHA"
      },
      "source": [
        "df = pd.read_csv(\"https://gist.githubusercontent.com/DariaAlekseeva/299611a0daa6008685f7/raw/b431eb200bcafd2eba68a11ccbc80d051d3eeba9/titanic.csv\")"
      ],
      "execution_count": null,
      "outputs": []
    },
    {
      "cell_type": "markdown",
      "metadata": {
        "id": "vUtnW3P4NQkO"
      },
      "source": [
        "#Assigned tasks:\n",
        "##For the Titanic dataframe, write code in code cells to show\n",
        "1. Head of the Titanic dataframe\n",
        "2. Number of rows\n",
        "3. Column names\n",
        "4. Data types of columns\n"
      ]
    },
    {
      "cell_type": "code",
      "metadata": {
        "id": "pcb2zhxLN1uI"
      },
      "source": [],
      "execution_count": null,
      "outputs": []
    },
    {
      "cell_type": "markdown",
      "metadata": {
        "id": "OFmX_CdPOEVa"
      },
      "source": [
        "#Assigned tasks:\n",
        "##Write a command\n",
        "1. that finds the mean of all numerical variables in titanic\n",
        "2. that finds the minimum values of all columns in titanic\n",
        "3. that uses the code from above to find the minimum age of all passengers in titanic\n"
      ]
    },
    {
      "cell_type": "code",
      "metadata": {
        "id": "4OKg5WvqPzrI"
      },
      "source": [],
      "execution_count": null,
      "outputs": []
    },
    {
      "cell_type": "markdown",
      "metadata": {
        "id": "TJYTziAGQDGa"
      },
      "source": [
        "#Assigned tasks:\n",
        "##Subsetting is the process of retrieving parts of a data frame. Write code to\n",
        "1. create a data frame with only the columns **sex** and **survived** from the Titanic data set\n",
        "2. show the 5 rows of the resulting data frame\n",
        "3. select all the rows where the column pclass has a value of 3."
      ]
    },
    {
      "cell_type": "code",
      "metadata": {
        "id": "4VfxHOtuQE6I"
      },
      "source": [],
      "execution_count": null,
      "outputs": []
    }
  ]
}