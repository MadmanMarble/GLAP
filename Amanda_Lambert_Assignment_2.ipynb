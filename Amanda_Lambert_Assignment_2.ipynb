{
  "cells": [
    {
      "cell_type": "markdown",
      "metadata": {
        "id": "view-in-github",
        "colab_type": "text"
      },
      "source": [
        "<a href=\"https://colab.research.google.com/github/MadmanMarble/GLAP/blob/main/Amanda_Lambert_Assignment_2.ipynb\" target=\"_parent\"><img src=\"https://colab.research.google.com/assets/colab-badge.svg\" alt=\"Open In Colab\"/></a>"
      ]
    },
    {
      "cell_type": "code",
      "source": [
        "from google.colab import drive\n",
        "drive.mount('/content/drive')"
      ],
      "metadata": {
        "colab": {
          "base_uri": "https://localhost:8080/"
        },
        "id": "-SBnJ_6qQAJS",
        "outputId": "bf4ff94b-e13d-42a8-f8be-789246cfcff4"
      },
      "execution_count": 1,
      "outputs": [
        {
          "output_type": "stream",
          "name": "stdout",
          "text": [
            "Mounted at /content/drive\n"
          ]
        }
      ]
    },
    {
      "cell_type": "code",
      "execution_count": 2,
      "metadata": {
        "id": "crgx46dwOWBu"
      },
      "outputs": [],
      "source": [
        "import sys\n",
        "sys.path.insert(0,'/content/drive/MyDrive/GLAP/aipython/aipython/')"
      ]
    },
    {
      "cell_type": "code",
      "execution_count": 3,
      "metadata": {
        "id": "4BwJ35S4OiaY"
      },
      "outputs": [],
      "source": [
        "from searchGeneric import Searcher, AStarSearcher\n",
        "import searchExample\n",
        "# added during class\n",
        "from searchProblem import Arc"
      ]
    },
    {
      "cell_type": "code",
      "source": [
        "searcher_sdg = Searcher(searchExample.simp_delivery_graph)"
      ],
      "metadata": {
        "id": "Sm4NfNC0HgY-"
      },
      "execution_count": 4,
      "outputs": []
    },
    {
      "cell_type": "code",
      "source": [
        "searcher_sdg.search()"
      ],
      "metadata": {
        "id": "jnMSznnGHmj1",
        "colab": {
          "base_uri": "https://localhost:8080/"
        },
        "outputId": "5dc72638-fd0a-4af7-dea6-695fd39f3778"
      },
      "execution_count": 5,
      "outputs": [
        {
          "output_type": "stream",
          "name": "stdout",
          "text": [
            "Solution: A --> B --> F --> D --> H --> G (cost: 14)\n",
            " 7 paths have been expanded and 2 paths remain in the frontier\n"
          ]
        },
        {
          "output_type": "execute_result",
          "data": {
            "text/plain": [
              "A --> B --> F --> D --> H --> G"
            ]
          },
          "metadata": {},
          "execution_count": 5
        }
      ]
    },
    {
      "cell_type": "code",
      "source": [
        "astar_searcher_sdg = AStarSearcher(searchExample.simp_delivery_graph)"
      ],
      "metadata": {
        "id": "VHtpOifaHpeq"
      },
      "execution_count": 6,
      "outputs": []
    },
    {
      "cell_type": "code",
      "source": [
        "# the first solution it found is the optimal path\n",
        "astar_searcher_sdg.search()"
      ],
      "metadata": {
        "id": "_pQWc-WtIwcu",
        "colab": {
          "base_uri": "https://localhost:8080/"
        },
        "outputId": "caec18ed-2e42-4c9a-a3bd-8f1659d9f75d"
      },
      "execution_count": 7,
      "outputs": [
        {
          "output_type": "stream",
          "name": "stdout",
          "text": [
            "Solution: A --> D --> H --> G (cost: 11)\n",
            " 7 paths have been expanded and 2 paths remain in the frontier\n"
          ]
        },
        {
          "output_type": "execute_result",
          "data": {
            "text/plain": [
              "A --> D --> H --> G"
            ]
          },
          "metadata": {},
          "execution_count": 7
        }
      ]
    },
    {
      "cell_type": "markdown",
      "source": [
        "#Assignment\n",
        "Create a problem instance of ***Search_problem_from_explicit_graph*** which is a Word Ladder problem. You can implement the COLD to WARM word ladder problem shown in <href> https://en.wikipedia.org/wiki/Word_ladder </href>\n",
        "\n",
        "Hints:\n",
        "\n",
        "\n",
        "1.   Look inside the script searchExample.py to look up examples.\n",
        "2.   You can follow the \"problem1\" example.\n",
        "3.   You don't need positions.\n",
        "4.   Each node is a single word from all the set of words shown in the solution.\n",
        "5.   Connect two nodes with an Arc as shown by the arrows in the Wikipedia example.\n",
        "\n",
        "Your code should have\n",
        "1.   the problem instance definition code\n",
        "2.   the call to Searcher along with the call to search( )\n",
        "3.   the call to AStarSearcher along with the call to search( )\n",
        "\n",
        "\n",
        "\n"
      ],
      "metadata": {
        "id": "qPioStoxRK58"
      }
    },
    {
      "cell_type": "code",
      "source": [
        "# original code defined in \"searchExample.py\"\n",
        "\n",
        "# problem1 = Search_problem_from_explicit_graph('Problem 1',\n",
        "#     {'A','B','C','D','G'},\n",
        "#     [Arc('A','B',3), Arc('A','C',1), Arc('B','D',1), Arc('B','G',3),\n",
        "#          Arc('C','B',1), Arc('C','D',3), Arc('D','G',1)],\n",
        "#     start = 'A',\n",
        "#     goals = {'G'},\n",
        "#     positions={'A': (0, 1), 'B': (0.5, 0.5), 'C': (0,0.5), 'D': (0.5,0), 'G': (1,0)})\n",
        "\n",
        "\n",
        "\n",
        "# add searchExample. before the code to work\n",
        "problem1 = searchExample.Search_problem_from_explicit_graph('Problem 1',\n",
        "    {'A','B','C','D','G'},\n",
        "    [Arc('A','B',3), Arc('A','C',1), Arc('B','D',1), Arc('B','G',3),\n",
        "         Arc('C','B',1), Arc('C','D',3), Arc('D','G',1)],\n",
        "    start = 'A',\n",
        "    goals = {'G'},\n",
        "    positions={'A': (0, 1), 'B': (0.5, 0.5), 'C': (0,0.5), 'D': (0.5,0), 'G': (1,0)})"
      ],
      "metadata": {
        "id": "5CF7CtVBgm2K"
      },
      "execution_count": 8,
      "outputs": []
    },
    {
      "cell_type": "code",
      "source": [
        "searcher_sdg1 = Searcher(problem1)"
      ],
      "metadata": {
        "id": "15gH8KgfmuQf"
      },
      "execution_count": 9,
      "outputs": []
    },
    {
      "cell_type": "code",
      "source": [
        "searcher_sdg1.search()"
      ],
      "metadata": {
        "colab": {
          "base_uri": "https://localhost:8080/"
        },
        "id": "4tRt4qNmm5L-",
        "outputId": "6d5f53cf-a012-48f6-dcf9-ffe7c019c850"
      },
      "execution_count": 10,
      "outputs": [
        {
          "output_type": "stream",
          "name": "stdout",
          "text": [
            "Solution: A --> B --> D --> G (cost: 5)\n",
            " 4 paths have been expanded and 2 paths remain in the frontier\n"
          ]
        },
        {
          "output_type": "execute_result",
          "data": {
            "text/plain": [
              "A --> B --> D --> G"
            ]
          },
          "metadata": {},
          "execution_count": 10
        }
      ]
    },
    {
      "cell_type": "code",
      "source": [
        "astar_searcher_sdg1 = AStarSearcher(problem1)"
      ],
      "metadata": {
        "id": "1laTOcs9nazb"
      },
      "execution_count": 11,
      "outputs": []
    },
    {
      "cell_type": "code",
      "source": [
        "astar_searcher_sdg1.search()"
      ],
      "metadata": {
        "colab": {
          "base_uri": "https://localhost:8080/"
        },
        "id": "hWWb-ALWnas4",
        "outputId": "3d8d6c7b-0235-4bfe-f6b2-f625b2e4d077"
      },
      "execution_count": 12,
      "outputs": [
        {
          "output_type": "stream",
          "name": "stdout",
          "text": [
            "Solution: A --> C --> B --> D --> G (cost: 4)\n",
            " 7 paths have been expanded and 4 paths remain in the frontier\n"
          ]
        },
        {
          "output_type": "execute_result",
          "data": {
            "text/plain": [
              "A --> C --> B --> D --> G"
            ]
          },
          "metadata": {},
          "execution_count": 12
        }
      ]
    },
    {
      "cell_type": "code",
      "source": [
        "# # in class example\n",
        "# problemX = searchExample.Search_problem_from_explicit_graph('Problem 1',\n",
        "#     {'COLD','WARM','CORD','CORM','G'},\n",
        "#     [Arc('COLD','CORD',1), Arc('X','C',1), Arc('B','D',1), Arc('B','G',3),\n",
        "#          Arc('C','B',1), Arc('C','D',3), Arc('D','G',1)],\n",
        "#     start = 'X',\n",
        "#     goals = {'G'},\n",
        "#     positions={'X': (0, 1), 'B': (0.5, 0.5), 'C': (0,0.5), 'D': (0.5,0), 'G': (1,0)})"
      ],
      "metadata": {
        "id": "yLL-S2Jmgmz5"
      },
      "execution_count": null,
      "outputs": []
    },
    {
      "cell_type": "markdown",
      "source": [
        "**Assignment: My problem instance of Search_problem_from_explicit_graph for GIFT to LOAN**"
      ],
      "metadata": {
        "id": "w5JoqgHCan8M"
      }
    },
    {
      "cell_type": "code",
      "source": [
        "# start word: GIFT\n",
        "# end word: LOAN\n",
        "# each step, you can change one letter\n",
        "# each step has to be a valid word\n",
        "\n",
        "word_ladder = searchExample.Search_problem_from_explicit_graph('words',\n",
        "    {'GIFT', 'LOAN', 'LIFT', 'LOFT', 'LOOT', 'LOON', 'LEFT', 'LENT', 'LEND', 'LOAN', 'LEAP',\n",
        "     'LOAF', 'LINT', 'LIFE', 'LIVE', 'LOVE', 'LEAD', 'LOAD', 'LINE', 'LAND', 'LANE'},\n",
        "    [Arc('GIFT', 'LIFT', 1),\n",
        "     Arc('LIFT', 'LOFT', 1),\n",
        "     Arc('LIFT', 'LEFT', 1),\n",
        "     Arc('LOFT', 'LOOT', 1),\n",
        "     Arc('LOOT', 'LOON', 1),\n",
        "     Arc('LOON', 'LOAN', 1),\n",
        "     Arc('LEFT', 'LENT', 1),\n",
        "     Arc('LENT', 'LEND', 1),\n",
        "     Arc('LEND', 'LEAD', 1),\n",
        "     Arc('LEAD', 'LOAD', 1),\n",
        "     Arc('LOAD', 'LOAN', 1),\n",
        "     Arc('LIFT', 'LINT', 1),\n",
        "     Arc('LINT', 'LENT', 1),\n",
        "     Arc('LINT', 'LINE', 1),\n",
        "     Arc('LINE', 'LIVE', 1),\n",
        "     Arc('LIFT', 'LIFE', 1),\n",
        "     Arc('LIFE', 'LIVE', 1),\n",
        "     Arc('LIVE', 'LOVE', 1),\n",
        "     Arc('LEAD', 'LEAP', 1),\n",
        "     Arc('LEAD', 'LAND', 1),\n",
        "     Arc('LAND', 'LANE', 1),\n",
        "     Arc('LANE', 'LINE', 1),\n",
        "     Arc('LOAD', 'LOAF', 1)],\n",
        "    start='GIFT',\n",
        "    goals={'LOAN'},\n",
        "    positions={\n",
        "        'GIFT': (.17,.21),\n",
        "        'LOAN': (.13,.20),\n",
        "        'LIFT': (.62,.05),\n",
        "        'LOFT': (.50,.28),\n",
        "        'LOOT': (.72,.61),\n",
        "        'LOON': (.17,.75),\n",
        "        'LEFT': (.03,.67),\n",
        "        'LENT': (.48,.60),\n",
        "        'LEND': (.90,.23),\n",
        "        'LOAN': (.40,.12),\n",
        "        'LEAP': (.26,.26),\n",
        "        'LOAF': (.34,.80),\n",
        "        'LINT': (.20,.55),\n",
        "        'LIFE': (.13,.46),\n",
        "        'LIVE': (.30,.07),\n",
        "        'LOVE': (.85,.58)\n",
        "    }\n",
        ")\n"
      ],
      "metadata": {
        "id": "OtZqBWAWn4gL"
      },
      "execution_count": 37,
      "outputs": []
    },
    {
      "cell_type": "code",
      "source": [
        "searcher_sdg_wordladder = Searcher(word_ladder)"
      ],
      "metadata": {
        "id": "R29zvDEgrqwq"
      },
      "execution_count": 38,
      "outputs": []
    },
    {
      "cell_type": "code",
      "source": [
        "searcher_sdg_wordladder.search()"
      ],
      "metadata": {
        "colab": {
          "base_uri": "https://localhost:8080/"
        },
        "id": "XupcDZ0srzEm",
        "outputId": "0c05c37d-6df7-4069-fe66-be03cb3302a3"
      },
      "execution_count": 39,
      "outputs": [
        {
          "output_type": "stream",
          "name": "stdout",
          "text": [
            "Solution: GIFT --> LIFT --> LOFT --> LOOT --> LOON --> LOAN (cost: 5)\n",
            " 6 paths have been expanded and 3 paths remain in the frontier\n"
          ]
        },
        {
          "output_type": "execute_result",
          "data": {
            "text/plain": [
              "GIFT --> LIFT --> LOFT --> LOOT --> LOON --> LOAN"
            ]
          },
          "metadata": {},
          "execution_count": 39
        }
      ]
    },
    {
      "cell_type": "code",
      "source": [
        "astar_searcher_sdg_wordladder = AStarSearcher(word_ladder)"
      ],
      "metadata": {
        "id": "ovkMY-bar2YL"
      },
      "execution_count": 40,
      "outputs": []
    },
    {
      "cell_type": "code",
      "source": [
        "astar_searcher_sdg_wordladder.search()"
      ],
      "metadata": {
        "colab": {
          "base_uri": "https://localhost:8080/"
        },
        "id": "kDsu0Psgr2qH",
        "outputId": "3362f6b2-33e9-4a82-df7c-185765c7b8b7"
      },
      "execution_count": 41,
      "outputs": [
        {
          "output_type": "stream",
          "name": "stdout",
          "text": [
            "Solution: GIFT --> LIFT --> LOFT --> LOOT --> LOON --> LOAN (cost: 5)\n",
            " 20 paths have been expanded and 6 paths remain in the frontier\n"
          ]
        },
        {
          "output_type": "execute_result",
          "data": {
            "text/plain": [
              "GIFT --> LIFT --> LOFT --> LOOT --> LOON --> LOAN"
            ]
          },
          "metadata": {},
          "execution_count": 41
        }
      ]
    },
    {
      "cell_type": "markdown",
      "source": [
        "*End*"
      ],
      "metadata": {
        "id": "OSDIirpSbEIJ"
      }
    }
  ],
  "metadata": {
    "colab": {
      "provenance": [],
      "include_colab_link": true
    },
    "kernelspec": {
      "display_name": "Python 3",
      "name": "python3"
    },
    "language_info": {
      "name": "python"
    }
  },
  "nbformat": 4,
  "nbformat_minor": 0
}