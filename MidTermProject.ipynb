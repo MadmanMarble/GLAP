{
  "nbformat": 4,
  "nbformat_minor": 0,
  "metadata": {
    "colab": {
      "provenance": [],
      "include_colab_link": true
    },
    "kernelspec": {
      "name": "python3",
      "display_name": "Python 3"
    },
    "language_info": {
      "name": "python"
    }
  },
  "cells": [
    {
      "cell_type": "markdown",
      "metadata": {
        "id": "view-in-github",
        "colab_type": "text"
      },
      "source": [
        "<a href=\"https://colab.research.google.com/github/MadmanMarble/GLAP/blob/main/MidTermProject.ipynb\" target=\"_parent\"><img src=\"https://colab.research.google.com/assets/colab-badge.svg\" alt=\"Open In Colab\"/></a>"
      ]
    },
    {
      "cell_type": "markdown",
      "metadata": {
        "id": "peZYizUVGBsK"
      },
      "source": [
        "#Mid Term Project\n",
        "##Description of the mid term project: this project implements linear regression from scratch with stochastic gradient descent, without using a library function except of course the necessary functions for array processing and autograd. The given code implements linear regression with the MSE loss function and the assignment is to experiment with other loss functions.\n",
        "***Notes***: The linear regression code for this notebook is based on ***3.2. Linear Regression Implementation from Scratch*** of the [Dive into Deep Learning Book](https://d2l.ai/index.html)"
      ]
    },
    {
      "cell_type": "code",
      "metadata": {
        "id": "dmPAQhgpH61S",
        "colab": {
          "base_uri": "https://localhost:8080/",
          "height": 1000
        },
        "outputId": "3106874d-7db8-4c06-d273-5267e27956cd"
      },
      "source": [
        "!pip install -U d2l"
      ],
      "execution_count": 1,
      "outputs": [
        {
          "output_type": "stream",
          "name": "stdout",
          "text": [
            "Collecting d2l\n",
            "  Downloading d2l-1.0.3-py3-none-any.whl.metadata (556 bytes)\n",
            "Collecting jupyter==1.0.0 (from d2l)\n",
            "  Downloading jupyter-1.0.0-py2.py3-none-any.whl.metadata (995 bytes)\n",
            "Collecting numpy==1.23.5 (from d2l)\n",
            "  Downloading numpy-1.23.5-cp310-cp310-manylinux_2_17_x86_64.manylinux2014_x86_64.whl.metadata (2.3 kB)\n",
            "Collecting matplotlib==3.7.2 (from d2l)\n",
            "  Downloading matplotlib-3.7.2-cp310-cp310-manylinux_2_17_x86_64.manylinux2014_x86_64.whl.metadata (5.6 kB)\n",
            "Collecting matplotlib-inline==0.1.6 (from d2l)\n",
            "  Downloading matplotlib_inline-0.1.6-py3-none-any.whl.metadata (2.8 kB)\n",
            "Collecting requests==2.31.0 (from d2l)\n",
            "  Downloading requests-2.31.0-py3-none-any.whl.metadata (4.6 kB)\n",
            "Collecting pandas==2.0.3 (from d2l)\n",
            "  Downloading pandas-2.0.3-cp310-cp310-manylinux_2_17_x86_64.manylinux2014_x86_64.whl.metadata (18 kB)\n",
            "Collecting scipy==1.10.1 (from d2l)\n",
            "  Downloading scipy-1.10.1-cp310-cp310-manylinux_2_17_x86_64.manylinux2014_x86_64.whl.metadata (58 kB)\n",
            "\u001b[2K     \u001b[90m━━━━━━━━━━━━━━━━━━━━━━━━━━━━━━━━━━━━━━━━\u001b[0m \u001b[32m58.9/58.9 kB\u001b[0m \u001b[31m1.1 MB/s\u001b[0m eta \u001b[36m0:00:00\u001b[0m\n",
            "\u001b[?25hRequirement already satisfied: notebook in /usr/local/lib/python3.10/dist-packages (from jupyter==1.0.0->d2l) (6.5.5)\n",
            "Collecting qtconsole (from jupyter==1.0.0->d2l)\n",
            "  Downloading qtconsole-5.6.0-py3-none-any.whl.metadata (5.0 kB)\n",
            "Requirement already satisfied: jupyter-console in /usr/local/lib/python3.10/dist-packages (from jupyter==1.0.0->d2l) (6.1.0)\n",
            "Requirement already satisfied: nbconvert in /usr/local/lib/python3.10/dist-packages (from jupyter==1.0.0->d2l) (6.5.4)\n",
            "Requirement already satisfied: ipykernel in /usr/local/lib/python3.10/dist-packages (from jupyter==1.0.0->d2l) (5.5.6)\n",
            "Requirement already satisfied: ipywidgets in /usr/local/lib/python3.10/dist-packages (from jupyter==1.0.0->d2l) (7.7.1)\n",
            "Requirement already satisfied: contourpy>=1.0.1 in /usr/local/lib/python3.10/dist-packages (from matplotlib==3.7.2->d2l) (1.3.0)\n",
            "Requirement already satisfied: cycler>=0.10 in /usr/local/lib/python3.10/dist-packages (from matplotlib==3.7.2->d2l) (0.12.1)\n",
            "Requirement already satisfied: fonttools>=4.22.0 in /usr/local/lib/python3.10/dist-packages (from matplotlib==3.7.2->d2l) (4.53.1)\n",
            "Requirement already satisfied: kiwisolver>=1.0.1 in /usr/local/lib/python3.10/dist-packages (from matplotlib==3.7.2->d2l) (1.4.7)\n",
            "Requirement already satisfied: packaging>=20.0 in /usr/local/lib/python3.10/dist-packages (from matplotlib==3.7.2->d2l) (24.1)\n",
            "Requirement already satisfied: pillow>=6.2.0 in /usr/local/lib/python3.10/dist-packages (from matplotlib==3.7.2->d2l) (9.4.0)\n",
            "Collecting pyparsing<3.1,>=2.3.1 (from matplotlib==3.7.2->d2l)\n",
            "  Downloading pyparsing-3.0.9-py3-none-any.whl.metadata (4.2 kB)\n",
            "Requirement already satisfied: python-dateutil>=2.7 in /usr/local/lib/python3.10/dist-packages (from matplotlib==3.7.2->d2l) (2.8.2)\n",
            "Requirement already satisfied: traitlets in /usr/local/lib/python3.10/dist-packages (from matplotlib-inline==0.1.6->d2l) (5.7.1)\n",
            "Requirement already satisfied: pytz>=2020.1 in /usr/local/lib/python3.10/dist-packages (from pandas==2.0.3->d2l) (2024.2)\n",
            "Requirement already satisfied: tzdata>=2022.1 in /usr/local/lib/python3.10/dist-packages (from pandas==2.0.3->d2l) (2024.1)\n",
            "Requirement already satisfied: charset-normalizer<4,>=2 in /usr/local/lib/python3.10/dist-packages (from requests==2.31.0->d2l) (3.3.2)\n",
            "Requirement already satisfied: idna<4,>=2.5 in /usr/local/lib/python3.10/dist-packages (from requests==2.31.0->d2l) (3.8)\n",
            "Requirement already satisfied: urllib3<3,>=1.21.1 in /usr/local/lib/python3.10/dist-packages (from requests==2.31.0->d2l) (2.0.7)\n",
            "Requirement already satisfied: certifi>=2017.4.17 in /usr/local/lib/python3.10/dist-packages (from requests==2.31.0->d2l) (2024.8.30)\n",
            "Requirement already satisfied: six>=1.5 in /usr/local/lib/python3.10/dist-packages (from python-dateutil>=2.7->matplotlib==3.7.2->d2l) (1.16.0)\n",
            "Requirement already satisfied: ipython-genutils in /usr/local/lib/python3.10/dist-packages (from ipykernel->jupyter==1.0.0->d2l) (0.2.0)\n",
            "Requirement already satisfied: ipython>=5.0.0 in /usr/local/lib/python3.10/dist-packages (from ipykernel->jupyter==1.0.0->d2l) (7.34.0)\n",
            "Requirement already satisfied: jupyter-client in /usr/local/lib/python3.10/dist-packages (from ipykernel->jupyter==1.0.0->d2l) (6.1.12)\n",
            "Requirement already satisfied: tornado>=4.2 in /usr/local/lib/python3.10/dist-packages (from ipykernel->jupyter==1.0.0->d2l) (6.3.3)\n",
            "Requirement already satisfied: widgetsnbextension~=3.6.0 in /usr/local/lib/python3.10/dist-packages (from ipywidgets->jupyter==1.0.0->d2l) (3.6.9)\n",
            "Requirement already satisfied: jupyterlab-widgets>=1.0.0 in /usr/local/lib/python3.10/dist-packages (from ipywidgets->jupyter==1.0.0->d2l) (3.0.13)\n",
            "Requirement already satisfied: prompt-toolkit!=3.0.0,!=3.0.1,<3.1.0,>=2.0.0 in /usr/local/lib/python3.10/dist-packages (from jupyter-console->jupyter==1.0.0->d2l) (3.0.47)\n",
            "Requirement already satisfied: pygments in /usr/local/lib/python3.10/dist-packages (from jupyter-console->jupyter==1.0.0->d2l) (2.16.1)\n",
            "Requirement already satisfied: lxml in /usr/local/lib/python3.10/dist-packages (from nbconvert->jupyter==1.0.0->d2l) (4.9.4)\n",
            "Requirement already satisfied: beautifulsoup4 in /usr/local/lib/python3.10/dist-packages (from nbconvert->jupyter==1.0.0->d2l) (4.12.3)\n",
            "Requirement already satisfied: bleach in /usr/local/lib/python3.10/dist-packages (from nbconvert->jupyter==1.0.0->d2l) (6.1.0)\n",
            "Requirement already satisfied: defusedxml in /usr/local/lib/python3.10/dist-packages (from nbconvert->jupyter==1.0.0->d2l) (0.7.1)\n",
            "Requirement already satisfied: entrypoints>=0.2.2 in /usr/local/lib/python3.10/dist-packages (from nbconvert->jupyter==1.0.0->d2l) (0.4)\n",
            "Requirement already satisfied: jinja2>=3.0 in /usr/local/lib/python3.10/dist-packages (from nbconvert->jupyter==1.0.0->d2l) (3.1.4)\n",
            "Requirement already satisfied: jupyter-core>=4.7 in /usr/local/lib/python3.10/dist-packages (from nbconvert->jupyter==1.0.0->d2l) (5.7.2)\n",
            "Requirement already satisfied: jupyterlab-pygments in /usr/local/lib/python3.10/dist-packages (from nbconvert->jupyter==1.0.0->d2l) (0.3.0)\n",
            "Requirement already satisfied: MarkupSafe>=2.0 in /usr/local/lib/python3.10/dist-packages (from nbconvert->jupyter==1.0.0->d2l) (2.1.5)\n",
            "Requirement already satisfied: mistune<2,>=0.8.1 in /usr/local/lib/python3.10/dist-packages (from nbconvert->jupyter==1.0.0->d2l) (0.8.4)\n",
            "Requirement already satisfied: nbclient>=0.5.0 in /usr/local/lib/python3.10/dist-packages (from nbconvert->jupyter==1.0.0->d2l) (0.10.0)\n",
            "Requirement already satisfied: nbformat>=5.1 in /usr/local/lib/python3.10/dist-packages (from nbconvert->jupyter==1.0.0->d2l) (5.10.4)\n",
            "Requirement already satisfied: pandocfilters>=1.4.1 in /usr/local/lib/python3.10/dist-packages (from nbconvert->jupyter==1.0.0->d2l) (1.5.1)\n",
            "Requirement already satisfied: tinycss2 in /usr/local/lib/python3.10/dist-packages (from nbconvert->jupyter==1.0.0->d2l) (1.3.0)\n",
            "Requirement already satisfied: pyzmq<25,>=17 in /usr/local/lib/python3.10/dist-packages (from notebook->jupyter==1.0.0->d2l) (24.0.1)\n",
            "Requirement already satisfied: argon2-cffi in /usr/local/lib/python3.10/dist-packages (from notebook->jupyter==1.0.0->d2l) (23.1.0)\n",
            "Requirement already satisfied: nest-asyncio>=1.5 in /usr/local/lib/python3.10/dist-packages (from notebook->jupyter==1.0.0->d2l) (1.6.0)\n",
            "Requirement already satisfied: Send2Trash>=1.8.0 in /usr/local/lib/python3.10/dist-packages (from notebook->jupyter==1.0.0->d2l) (1.8.3)\n",
            "Requirement already satisfied: terminado>=0.8.3 in /usr/local/lib/python3.10/dist-packages (from notebook->jupyter==1.0.0->d2l) (0.18.1)\n",
            "Requirement already satisfied: prometheus-client in /usr/local/lib/python3.10/dist-packages (from notebook->jupyter==1.0.0->d2l) (0.20.0)\n",
            "Requirement already satisfied: nbclassic>=0.4.7 in /usr/local/lib/python3.10/dist-packages (from notebook->jupyter==1.0.0->d2l) (1.1.0)\n",
            "Collecting qtpy>=2.4.0 (from qtconsole->jupyter==1.0.0->d2l)\n",
            "  Downloading QtPy-2.4.1-py3-none-any.whl.metadata (12 kB)\n",
            "Requirement already satisfied: setuptools>=18.5 in /usr/local/lib/python3.10/dist-packages (from ipython>=5.0.0->ipykernel->jupyter==1.0.0->d2l) (71.0.4)\n",
            "Collecting jedi>=0.16 (from ipython>=5.0.0->ipykernel->jupyter==1.0.0->d2l)\n",
            "  Using cached jedi-0.19.1-py2.py3-none-any.whl.metadata (22 kB)\n",
            "Requirement already satisfied: decorator in /usr/local/lib/python3.10/dist-packages (from ipython>=5.0.0->ipykernel->jupyter==1.0.0->d2l) (4.4.2)\n",
            "Requirement already satisfied: pickleshare in /usr/local/lib/python3.10/dist-packages (from ipython>=5.0.0->ipykernel->jupyter==1.0.0->d2l) (0.7.5)\n",
            "Requirement already satisfied: backcall in /usr/local/lib/python3.10/dist-packages (from ipython>=5.0.0->ipykernel->jupyter==1.0.0->d2l) (0.2.0)\n",
            "Requirement already satisfied: pexpect>4.3 in /usr/local/lib/python3.10/dist-packages (from ipython>=5.0.0->ipykernel->jupyter==1.0.0->d2l) (4.9.0)\n",
            "Requirement already satisfied: platformdirs>=2.5 in /usr/local/lib/python3.10/dist-packages (from jupyter-core>=4.7->nbconvert->jupyter==1.0.0->d2l) (4.3.2)\n",
            "Requirement already satisfied: notebook-shim>=0.2.3 in /usr/local/lib/python3.10/dist-packages (from nbclassic>=0.4.7->notebook->jupyter==1.0.0->d2l) (0.2.4)\n",
            "Requirement already satisfied: fastjsonschema>=2.15 in /usr/local/lib/python3.10/dist-packages (from nbformat>=5.1->nbconvert->jupyter==1.0.0->d2l) (2.20.0)\n",
            "Requirement already satisfied: jsonschema>=2.6 in /usr/local/lib/python3.10/dist-packages (from nbformat>=5.1->nbconvert->jupyter==1.0.0->d2l) (4.23.0)\n",
            "Requirement already satisfied: wcwidth in /usr/local/lib/python3.10/dist-packages (from prompt-toolkit!=3.0.0,!=3.0.1,<3.1.0,>=2.0.0->jupyter-console->jupyter==1.0.0->d2l) (0.2.13)\n",
            "Requirement already satisfied: ptyprocess in /usr/local/lib/python3.10/dist-packages (from terminado>=0.8.3->notebook->jupyter==1.0.0->d2l) (0.7.0)\n",
            "Requirement already satisfied: argon2-cffi-bindings in /usr/local/lib/python3.10/dist-packages (from argon2-cffi->notebook->jupyter==1.0.0->d2l) (21.2.0)\n",
            "Requirement already satisfied: soupsieve>1.2 in /usr/local/lib/python3.10/dist-packages (from beautifulsoup4->nbconvert->jupyter==1.0.0->d2l) (2.6)\n",
            "Requirement already satisfied: webencodings in /usr/local/lib/python3.10/dist-packages (from bleach->nbconvert->jupyter==1.0.0->d2l) (0.5.1)\n",
            "Requirement already satisfied: parso<0.9.0,>=0.8.3 in /usr/local/lib/python3.10/dist-packages (from jedi>=0.16->ipython>=5.0.0->ipykernel->jupyter==1.0.0->d2l) (0.8.4)\n",
            "Requirement already satisfied: attrs>=22.2.0 in /usr/local/lib/python3.10/dist-packages (from jsonschema>=2.6->nbformat>=5.1->nbconvert->jupyter==1.0.0->d2l) (24.2.0)\n",
            "Requirement already satisfied: jsonschema-specifications>=2023.03.6 in /usr/local/lib/python3.10/dist-packages (from jsonschema>=2.6->nbformat>=5.1->nbconvert->jupyter==1.0.0->d2l) (2023.12.1)\n",
            "Requirement already satisfied: referencing>=0.28.4 in /usr/local/lib/python3.10/dist-packages (from jsonschema>=2.6->nbformat>=5.1->nbconvert->jupyter==1.0.0->d2l) (0.35.1)\n",
            "Requirement already satisfied: rpds-py>=0.7.1 in /usr/local/lib/python3.10/dist-packages (from jsonschema>=2.6->nbformat>=5.1->nbconvert->jupyter==1.0.0->d2l) (0.20.0)\n",
            "Requirement already satisfied: jupyter-server<3,>=1.8 in /usr/local/lib/python3.10/dist-packages (from notebook-shim>=0.2.3->nbclassic>=0.4.7->notebook->jupyter==1.0.0->d2l) (1.24.0)\n",
            "Requirement already satisfied: cffi>=1.0.1 in /usr/local/lib/python3.10/dist-packages (from argon2-cffi-bindings->argon2-cffi->notebook->jupyter==1.0.0->d2l) (1.17.1)\n",
            "Requirement already satisfied: pycparser in /usr/local/lib/python3.10/dist-packages (from cffi>=1.0.1->argon2-cffi-bindings->argon2-cffi->notebook->jupyter==1.0.0->d2l) (2.22)\n",
            "Requirement already satisfied: anyio<4,>=3.1.0 in /usr/local/lib/python3.10/dist-packages (from jupyter-server<3,>=1.8->notebook-shim>=0.2.3->nbclassic>=0.4.7->notebook->jupyter==1.0.0->d2l) (3.7.1)\n",
            "Requirement already satisfied: websocket-client in /usr/local/lib/python3.10/dist-packages (from jupyter-server<3,>=1.8->notebook-shim>=0.2.3->nbclassic>=0.4.7->notebook->jupyter==1.0.0->d2l) (1.8.0)\n",
            "Requirement already satisfied: sniffio>=1.1 in /usr/local/lib/python3.10/dist-packages (from anyio<4,>=3.1.0->jupyter-server<3,>=1.8->notebook-shim>=0.2.3->nbclassic>=0.4.7->notebook->jupyter==1.0.0->d2l) (1.3.1)\n",
            "Requirement already satisfied: exceptiongroup in /usr/local/lib/python3.10/dist-packages (from anyio<4,>=3.1.0->jupyter-server<3,>=1.8->notebook-shim>=0.2.3->nbclassic>=0.4.7->notebook->jupyter==1.0.0->d2l) (1.2.2)\n",
            "Downloading d2l-1.0.3-py3-none-any.whl (111 kB)\n",
            "\u001b[2K   \u001b[90m━━━━━━━━━━━━━━━━━━━━━━━━━━━━━━━━━━━━━━━━\u001b[0m \u001b[32m111.7/111.7 kB\u001b[0m \u001b[31m2.8 MB/s\u001b[0m eta \u001b[36m0:00:00\u001b[0m\n",
            "\u001b[?25hDownloading jupyter-1.0.0-py2.py3-none-any.whl (2.7 kB)\n",
            "Downloading matplotlib-3.7.2-cp310-cp310-manylinux_2_17_x86_64.manylinux2014_x86_64.whl (11.6 MB)\n",
            "\u001b[2K   \u001b[90m━━━━━━━━━━━━━━━━━━━━━━━━━━━━━━━━━━━━━━━━\u001b[0m \u001b[32m11.6/11.6 MB\u001b[0m \u001b[31m38.8 MB/s\u001b[0m eta \u001b[36m0:00:00\u001b[0m\n",
            "\u001b[?25hDownloading matplotlib_inline-0.1.6-py3-none-any.whl (9.4 kB)\n",
            "Downloading numpy-1.23.5-cp310-cp310-manylinux_2_17_x86_64.manylinux2014_x86_64.whl (17.1 MB)\n",
            "\u001b[2K   \u001b[90m━━━━━━━━━━━━━━━━━━━━━━━━━━━━━━━━━━━━━━━━\u001b[0m \u001b[32m17.1/17.1 MB\u001b[0m \u001b[31m29.2 MB/s\u001b[0m eta \u001b[36m0:00:00\u001b[0m\n",
            "\u001b[?25hDownloading pandas-2.0.3-cp310-cp310-manylinux_2_17_x86_64.manylinux2014_x86_64.whl (12.3 MB)\n",
            "\u001b[2K   \u001b[90m━━━━━━━━━━━━━━━━━━━━━━━━━━━━━━━━━━━━━━━━\u001b[0m \u001b[32m12.3/12.3 MB\u001b[0m \u001b[31m57.3 MB/s\u001b[0m eta \u001b[36m0:00:00\u001b[0m\n",
            "\u001b[?25hDownloading requests-2.31.0-py3-none-any.whl (62 kB)\n",
            "\u001b[2K   \u001b[90m━━━━━━━━━━━━━━━━━━━━━━━━━━━━━━━━━━━━━━━━\u001b[0m \u001b[32m62.6/62.6 kB\u001b[0m \u001b[31m4.1 MB/s\u001b[0m eta \u001b[36m0:00:00\u001b[0m\n",
            "\u001b[?25hDownloading scipy-1.10.1-cp310-cp310-manylinux_2_17_x86_64.manylinux2014_x86_64.whl (34.4 MB)\n",
            "\u001b[2K   \u001b[90m━━━━━━━━━━━━━━━━━━━━━━━━━━━━━━━━━━━━━━━━\u001b[0m \u001b[32m34.4/34.4 MB\u001b[0m \u001b[31m11.8 MB/s\u001b[0m eta \u001b[36m0:00:00\u001b[0m\n",
            "\u001b[?25hDownloading pyparsing-3.0.9-py3-none-any.whl (98 kB)\n",
            "\u001b[2K   \u001b[90m━━━━━━━━━━━━━━━━━━━━━━━━━━━━━━━━━━━━━━━━\u001b[0m \u001b[32m98.3/98.3 kB\u001b[0m \u001b[31m3.5 MB/s\u001b[0m eta \u001b[36m0:00:00\u001b[0m\n",
            "\u001b[?25hDownloading qtconsole-5.6.0-py3-none-any.whl (124 kB)\n",
            "\u001b[2K   \u001b[90m━━━━━━━━━━━━━━━━━━━━━━━━━━━━━━━━━━━━━━━━\u001b[0m \u001b[32m124.7/124.7 kB\u001b[0m \u001b[31m7.9 MB/s\u001b[0m eta \u001b[36m0:00:00\u001b[0m\n",
            "\u001b[?25hDownloading QtPy-2.4.1-py3-none-any.whl (93 kB)\n",
            "\u001b[2K   \u001b[90m━━━━━━━━━━━━━━━━━━━━━━━━━━━━━━━━━━━━━━━━\u001b[0m \u001b[32m93.5/93.5 kB\u001b[0m \u001b[31m5.3 MB/s\u001b[0m eta \u001b[36m0:00:00\u001b[0m\n",
            "\u001b[?25hUsing cached jedi-0.19.1-py2.py3-none-any.whl (1.6 MB)\n",
            "Installing collected packages: requests, qtpy, pyparsing, numpy, matplotlib-inline, jedi, scipy, pandas, matplotlib, qtconsole, jupyter, d2l\n",
            "  Attempting uninstall: requests\n",
            "    Found existing installation: requests 2.32.3\n",
            "    Uninstalling requests-2.32.3:\n",
            "      Successfully uninstalled requests-2.32.3\n",
            "  Attempting uninstall: pyparsing\n",
            "    Found existing installation: pyparsing 3.1.4\n",
            "    Uninstalling pyparsing-3.1.4:\n",
            "      Successfully uninstalled pyparsing-3.1.4\n",
            "  Attempting uninstall: numpy\n",
            "    Found existing installation: numpy 1.26.4\n",
            "    Uninstalling numpy-1.26.4:\n",
            "      Successfully uninstalled numpy-1.26.4\n",
            "  Attempting uninstall: matplotlib-inline\n",
            "    Found existing installation: matplotlib-inline 0.1.7\n",
            "    Uninstalling matplotlib-inline-0.1.7:\n",
            "      Successfully uninstalled matplotlib-inline-0.1.7\n",
            "  Attempting uninstall: scipy\n",
            "    Found existing installation: scipy 1.13.1\n",
            "    Uninstalling scipy-1.13.1:\n",
            "      Successfully uninstalled scipy-1.13.1\n",
            "  Attempting uninstall: pandas\n",
            "    Found existing installation: pandas 2.1.4\n",
            "    Uninstalling pandas-2.1.4:\n",
            "      Successfully uninstalled pandas-2.1.4\n",
            "  Attempting uninstall: matplotlib\n",
            "    Found existing installation: matplotlib 3.7.1\n",
            "    Uninstalling matplotlib-3.7.1:\n",
            "      Successfully uninstalled matplotlib-3.7.1\n",
            "\u001b[31mERROR: pip's dependency resolver does not currently take into account all the packages that are installed. This behaviour is the source of the following dependency conflicts.\n",
            "albucore 0.0.15 requires numpy>=1.24, but you have numpy 1.23.5 which is incompatible.\n",
            "albumentations 1.4.14 requires numpy>=1.24.4, but you have numpy 1.23.5 which is incompatible.\n",
            "bigframes 1.17.0 requires numpy>=1.24.0, but you have numpy 1.23.5 which is incompatible.\n",
            "chex 0.1.86 requires numpy>=1.24.1, but you have numpy 1.23.5 which is incompatible.\n",
            "google-colab 1.0.0 requires pandas==2.1.4, but you have pandas 2.0.3 which is incompatible.\n",
            "google-colab 1.0.0 requires requests==2.32.3, but you have requests 2.31.0 which is incompatible.\n",
            "pandas-stubs 2.1.4.231227 requires numpy>=1.26.0; python_version < \"3.13\", but you have numpy 1.23.5 which is incompatible.\u001b[0m\u001b[31m\n",
            "\u001b[0mSuccessfully installed d2l-1.0.3 jedi-0.19.1 jupyter-1.0.0 matplotlib-3.7.2 matplotlib-inline-0.1.6 numpy-1.23.5 pandas-2.0.3 pyparsing-3.0.9 qtconsole-5.6.0 qtpy-2.4.1 requests-2.31.0 scipy-1.10.1\n"
          ]
        },
        {
          "output_type": "display_data",
          "data": {
            "application/vnd.colab-display-data+json": {
              "pip_warning": {
                "packages": [
                  "matplotlib",
                  "matplotlib_inline",
                  "mpl_toolkits",
                  "numpy"
                ]
              },
              "id": "51c82ac6787b418aa2da3615dd90dd95"
            }
          },
          "metadata": {}
        }
      ]
    },
    {
      "cell_type": "code",
      "metadata": {
        "id": "ppr2eMwXHiL9"
      },
      "source": [
        "%matplotlib inline\n",
        "import random\n",
        "import torch\n",
        "from d2l import torch as d2l\n"
      ],
      "execution_count": 1,
      "outputs": []
    },
    {
      "cell_type": "code",
      "metadata": {
        "id": "5S7l1IXoH-f3"
      },
      "source": [
        "# this function generates some values that correspond to a linear function\n",
        "# this is to use sythetic data to explore linear regression\n",
        "def synthetic_data(w, b, num_examples):\n",
        "    \"\"\"Generate y = Xw + b + noise.\"\"\"\n",
        "    X = torch.normal(0, 1, (num_examples, len(w)))\n",
        "    y = torch.matmul(X, w) + b\n",
        "    y += torch.normal(0, 0.01, y.shape) # generating noise\n",
        "    return X, y.reshape((-1, 1))\n",
        "\n",
        "# the weight is chosen as two values. if you change them you will get a different line\n",
        "# the bias is 4.2\n",
        "# the\n",
        "true_w = torch.tensor([2, -3.4])\n",
        "true_b = 4.2\n",
        "features, labels = synthetic_data(true_w, true_b, 1000) # 1000 is the number of the data points chosen"
      ],
      "execution_count": 2,
      "outputs": []
    },
    {
      "cell_type": "code",
      "metadata": {
        "id": "wZkbBvxHIOi6",
        "colab": {
          "base_uri": "https://localhost:8080/"
        },
        "outputId": "b99b9981-6fd5-4e25-a41b-fc5315bee427"
      },
      "source": [
        "# this is just an example to show us features at their location and thier values\n",
        "print('features:', features[0], '\\nlabel:', labels[0])"
      ],
      "execution_count": 3,
      "outputs": [
        {
          "output_type": "stream",
          "name": "stdout",
          "text": [
            "features: tensor([-0.8425,  0.1217]) \n",
            "label: tensor([2.0920])\n"
          ]
        }
      ]
    },
    {
      "cell_type": "code",
      "metadata": {
        "id": "xyqZsF8iITV1",
        "colab": {
          "base_uri": "https://localhost:8080/",
          "height": 247
        },
        "outputId": "8465410b-66b0-4a0a-f101-c1ae1c3bae6c"
      },
      "source": [
        "# lets plot the sythetic data that has been generated\n",
        "d2l.set_figsize()\n",
        "# The semicolon is for displaying the plot only\n",
        "d2l.plt.scatter(features[:, 1].detach().numpy(),\n",
        "                labels.detach().numpy(), 1);"
      ],
      "execution_count": 4,
      "outputs": [
        {
          "output_type": "display_data",
          "data": {
            "text/plain": [
              "<Figure size 350x250 with 1 Axes>"
            ],
            "image/svg+xml": "<?xml version=\"1.0\" encoding=\"utf-8\" standalone=\"no\"?>\n<!DOCTYPE svg PUBLIC \"-//W3C//DTD SVG 1.1//EN\"\n  \"http://www.w3.org/Graphics/SVG/1.1/DTD/svg11.dtd\">\n<svg xmlns:xlink=\"http://www.w3.org/1999/xlink\" width=\"237.804688pt\" height=\"169.678125pt\" viewBox=\"0 0 237.804688 169.678125\" xmlns=\"http://www.w3.org/2000/svg\" version=\"1.1\">\n <metadata>\n  <rdf:RDF xmlns:dc=\"http://purl.org/dc/elements/1.1/\" xmlns:cc=\"http://creativecommons.org/ns#\" xmlns:rdf=\"http://www.w3.org/1999/02/22-rdf-syntax-ns#\">\n   <cc:Work>\n    <dc:type rdf:resource=\"http://purl.org/dc/dcmitype/StillImage\"/>\n    <dc:date>2024-09-16T22:50:14.565489</dc:date>\n    <dc:format>image/svg+xml</dc:format>\n    <dc:creator>\n     <cc:Agent>\n      <dc:title>Matplotlib v3.7.2, https://matplotlib.org/</dc:title>\n     </cc:Agent>\n    </dc:creator>\n   </cc:Work>\n  </rdf:RDF>\n </metadata>\n <defs>\n  <style type=\"text/css\">*{stroke-linejoin: round; stroke-linecap: butt}</style>\n </defs>\n <g id=\"figure_1\">\n  <g id=\"patch_1\">\n   <path d=\"M 0 169.678125 \nL 237.804688 169.678125 \nL 237.804688 0 \nL 0 0 \nz\n\" style=\"fill: #ffffff\"/>\n  </g>\n  <g id=\"axes_1\">\n   <g id=\"patch_2\">\n    <path d=\"M 35.304688 145.8 \nL 230.604688 145.8 \nL 230.604688 7.2 \nL 35.304688 7.2 \nz\n\" style=\"fill: #ffffff\"/>\n   </g>\n   <g id=\"PathCollection_1\">\n    <defs>\n     <path id=\"m61b8cc1ef9\" d=\"M 0 0.5 \nC 0.132602 0.5 0.25979 0.447317 0.353553 0.353553 \nC 0.447317 0.25979 0.5 0.132602 0.5 0 \nC 0.5 -0.132602 0.447317 -0.25979 0.353553 -0.353553 \nC 0.25979 -0.447317 0.132602 -0.5 0 -0.5 \nC -0.132602 -0.5 -0.25979 -0.447317 -0.353553 -0.353553 \nC -0.447317 -0.25979 -0.5 -0.132602 -0.5 0 \nC -0.5 0.132602 -0.447317 0.25979 -0.353553 0.353553 \nC -0.25979 0.447317 -0.132602 0.5 0 0.5 \nz\n\" style=\"stroke: #1f77b4\"/>\n    </defs>\n    <g clip-path=\"url(#p5789e4e978)\">\n     <use xlink:href=\"#m61b8cc1ef9\" x=\"144.426248\" y=\"85.706509\" style=\"fill: #1f77b4; stroke: #1f77b4\"/>\n     <use xlink:href=\"#m61b8cc1ef9\" x=\"150.610358\" y=\"81.313242\" style=\"fill: #1f77b4; stroke: #1f77b4\"/>\n     <use xlink:href=\"#m61b8cc1ef9\" x=\"204.663069\" y=\"106.218128\" style=\"fill: #1f77b4; stroke: #1f77b4\"/>\n     <use xlink:href=\"#m61b8cc1ef9\" x=\"184.725477\" y=\"109.589661\" style=\"fill: #1f77b4; stroke: #1f77b4\"/>\n     <use xlink:href=\"#m61b8cc1ef9\" x=\"141.308638\" y=\"95.239033\" style=\"fill: #1f77b4; stroke: #1f77b4\"/>\n     <use xlink:href=\"#m61b8cc1ef9\" x=\"121.875799\" y=\"66.462478\" style=\"fill: #1f77b4; stroke: #1f77b4\"/>\n     <use xlink:href=\"#m61b8cc1ef9\" x=\"112.074031\" y=\"60.268207\" style=\"fill: #1f77b4; stroke: #1f77b4\"/>\n     <use xlink:href=\"#m61b8cc1ef9\" x=\"93.830665\" y=\"47.760568\" style=\"fill: #1f77b4; stroke: #1f77b4\"/>\n     <use xlink:href=\"#m61b8cc1ef9\" x=\"156.760978\" y=\"102.198601\" style=\"fill: #1f77b4; stroke: #1f77b4\"/>\n     <use xlink:href=\"#m61b8cc1ef9\" x=\"147.353659\" y=\"86.128959\" style=\"fill: #1f77b4; stroke: #1f77b4\"/>\n     <use xlink:href=\"#m61b8cc1ef9\" x=\"122.272625\" y=\"66.974825\" style=\"fill: #1f77b4; stroke: #1f77b4\"/>\n     <use xlink:href=\"#m61b8cc1ef9\" x=\"82.853773\" y=\"37.525621\" style=\"fill: #1f77b4; stroke: #1f77b4\"/>\n     <use xlink:href=\"#m61b8cc1ef9\" x=\"162.282666\" y=\"82.285135\" style=\"fill: #1f77b4; stroke: #1f77b4\"/>\n     <use xlink:href=\"#m61b8cc1ef9\" x=\"202.564343\" y=\"107.784371\" style=\"fill: #1f77b4; stroke: #1f77b4\"/>\n     <use xlink:href=\"#m61b8cc1ef9\" x=\"148.091948\" y=\"83.555222\" style=\"fill: #1f77b4; stroke: #1f77b4\"/>\n     <use xlink:href=\"#m61b8cc1ef9\" x=\"166.504322\" y=\"86.699531\" style=\"fill: #1f77b4; stroke: #1f77b4\"/>\n     <use xlink:href=\"#m61b8cc1ef9\" x=\"107.550871\" y=\"55.551567\" style=\"fill: #1f77b4; stroke: #1f77b4\"/>\n     <use xlink:href=\"#m61b8cc1ef9\" x=\"123.446344\" y=\"61.327801\" style=\"fill: #1f77b4; stroke: #1f77b4\"/>\n     <use xlink:href=\"#m61b8cc1ef9\" x=\"135.022331\" y=\"63.544064\" style=\"fill: #1f77b4; stroke: #1f77b4\"/>\n     <use xlink:href=\"#m61b8cc1ef9\" x=\"131.73087\" y=\"57.504225\" style=\"fill: #1f77b4; stroke: #1f77b4\"/>\n     <use xlink:href=\"#m61b8cc1ef9\" x=\"50.233117\" y=\"33.417494\" style=\"fill: #1f77b4; stroke: #1f77b4\"/>\n     <use xlink:href=\"#m61b8cc1ef9\" x=\"170.985521\" y=\"94.042559\" style=\"fill: #1f77b4; stroke: #1f77b4\"/>\n     <use xlink:href=\"#m61b8cc1ef9\" x=\"120.837934\" y=\"64.14113\" style=\"fill: #1f77b4; stroke: #1f77b4\"/>\n     <use xlink:href=\"#m61b8cc1ef9\" x=\"111.621958\" y=\"62.875005\" style=\"fill: #1f77b4; stroke: #1f77b4\"/>\n     <use xlink:href=\"#m61b8cc1ef9\" x=\"127.872443\" y=\"60.209417\" style=\"fill: #1f77b4; stroke: #1f77b4\"/>\n     <use xlink:href=\"#m61b8cc1ef9\" x=\"119.141335\" y=\"71.727633\" style=\"fill: #1f77b4; stroke: #1f77b4\"/>\n     <use xlink:href=\"#m61b8cc1ef9\" x=\"91.04713\" y=\"43.562138\" style=\"fill: #1f77b4; stroke: #1f77b4\"/>\n     <use xlink:href=\"#m61b8cc1ef9\" x=\"145.393758\" y=\"75.974198\" style=\"fill: #1f77b4; stroke: #1f77b4\"/>\n     <use xlink:href=\"#m61b8cc1ef9\" x=\"123.088623\" y=\"75.957852\" style=\"fill: #1f77b4; stroke: #1f77b4\"/>\n     <use xlink:href=\"#m61b8cc1ef9\" x=\"98.018602\" y=\"48.861021\" style=\"fill: #1f77b4; stroke: #1f77b4\"/>\n     <use xlink:href=\"#m61b8cc1ef9\" x=\"130.512149\" y=\"59.92628\" style=\"fill: #1f77b4; stroke: #1f77b4\"/>\n     <use xlink:href=\"#m61b8cc1ef9\" x=\"131.490885\" y=\"73.339981\" style=\"fill: #1f77b4; stroke: #1f77b4\"/>\n     <use xlink:href=\"#m61b8cc1ef9\" x=\"188.769011\" y=\"113.853326\" style=\"fill: #1f77b4; stroke: #1f77b4\"/>\n     <use xlink:href=\"#m61b8cc1ef9\" x=\"145.444527\" y=\"83.956348\" style=\"fill: #1f77b4; stroke: #1f77b4\"/>\n     <use xlink:href=\"#m61b8cc1ef9\" x=\"162.132573\" y=\"98.388877\" style=\"fill: #1f77b4; stroke: #1f77b4\"/>\n     <use xlink:href=\"#m61b8cc1ef9\" x=\"194.475138\" y=\"98.670137\" style=\"fill: #1f77b4; stroke: #1f77b4\"/>\n     <use xlink:href=\"#m61b8cc1ef9\" x=\"151.92976\" y=\"81.402324\" style=\"fill: #1f77b4; stroke: #1f77b4\"/>\n     <use xlink:href=\"#m61b8cc1ef9\" x=\"158.075393\" y=\"70.630943\" style=\"fill: #1f77b4; stroke: #1f77b4\"/>\n     <use xlink:href=\"#m61b8cc1ef9\" x=\"179.422038\" y=\"99.896829\" style=\"fill: #1f77b4; stroke: #1f77b4\"/>\n     <use xlink:href=\"#m61b8cc1ef9\" x=\"107.566119\" y=\"60.792168\" style=\"fill: #1f77b4; stroke: #1f77b4\"/>\n     <use xlink:href=\"#m61b8cc1ef9\" x=\"172.994799\" y=\"91.936246\" style=\"fill: #1f77b4; stroke: #1f77b4\"/>\n     <use xlink:href=\"#m61b8cc1ef9\" x=\"174.440813\" y=\"111.193636\" style=\"fill: #1f77b4; stroke: #1f77b4\"/>\n     <use xlink:href=\"#m61b8cc1ef9\" x=\"138.526589\" y=\"70.786282\" style=\"fill: #1f77b4; stroke: #1f77b4\"/>\n     <use xlink:href=\"#m61b8cc1ef9\" x=\"119.798859\" y=\"65.239307\" style=\"fill: #1f77b4; stroke: #1f77b4\"/>\n     <use xlink:href=\"#m61b8cc1ef9\" x=\"145.394118\" y=\"85.217992\" style=\"fill: #1f77b4; stroke: #1f77b4\"/>\n     <use xlink:href=\"#m61b8cc1ef9\" x=\"155.945805\" y=\"81.403317\" style=\"fill: #1f77b4; stroke: #1f77b4\"/>\n     <use xlink:href=\"#m61b8cc1ef9\" x=\"120.293494\" y=\"48.172265\" style=\"fill: #1f77b4; stroke: #1f77b4\"/>\n     <use xlink:href=\"#m61b8cc1ef9\" x=\"151.155521\" y=\"61.749195\" style=\"fill: #1f77b4; stroke: #1f77b4\"/>\n     <use xlink:href=\"#m61b8cc1ef9\" x=\"183.815237\" y=\"99.887311\" style=\"fill: #1f77b4; stroke: #1f77b4\"/>\n     <use xlink:href=\"#m61b8cc1ef9\" x=\"192.660268\" y=\"108.679566\" style=\"fill: #1f77b4; stroke: #1f77b4\"/>\n     <use xlink:href=\"#m61b8cc1ef9\" x=\"135.043999\" y=\"88.442462\" style=\"fill: #1f77b4; stroke: #1f77b4\"/>\n     <use xlink:href=\"#m61b8cc1ef9\" x=\"158.73245\" y=\"89.683754\" style=\"fill: #1f77b4; stroke: #1f77b4\"/>\n     <use xlink:href=\"#m61b8cc1ef9\" x=\"147.449124\" y=\"77.991195\" style=\"fill: #1f77b4; stroke: #1f77b4\"/>\n     <use xlink:href=\"#m61b8cc1ef9\" x=\"117.619341\" y=\"48.387274\" style=\"fill: #1f77b4; stroke: #1f77b4\"/>\n     <use xlink:href=\"#m61b8cc1ef9\" x=\"164.427606\" y=\"113.448184\" style=\"fill: #1f77b4; stroke: #1f77b4\"/>\n     <use xlink:href=\"#m61b8cc1ef9\" x=\"107.600595\" y=\"62.59823\" style=\"fill: #1f77b4; stroke: #1f77b4\"/>\n     <use xlink:href=\"#m61b8cc1ef9\" x=\"65.932376\" y=\"35.674249\" style=\"fill: #1f77b4; stroke: #1f77b4\"/>\n     <use xlink:href=\"#m61b8cc1ef9\" x=\"153.226768\" y=\"78.115991\" style=\"fill: #1f77b4; stroke: #1f77b4\"/>\n     <use xlink:href=\"#m61b8cc1ef9\" x=\"101.522913\" y=\"47.695392\" style=\"fill: #1f77b4; stroke: #1f77b4\"/>\n     <use xlink:href=\"#m61b8cc1ef9\" x=\"121.748262\" y=\"71.003888\" style=\"fill: #1f77b4; stroke: #1f77b4\"/>\n     <use xlink:href=\"#m61b8cc1ef9\" x=\"156.77772\" y=\"87.882517\" style=\"fill: #1f77b4; stroke: #1f77b4\"/>\n     <use xlink:href=\"#m61b8cc1ef9\" x=\"168.095425\" y=\"96.528319\" style=\"fill: #1f77b4; stroke: #1f77b4\"/>\n     <use xlink:href=\"#m61b8cc1ef9\" x=\"172.370247\" y=\"90.358869\" style=\"fill: #1f77b4; stroke: #1f77b4\"/>\n     <use xlink:href=\"#m61b8cc1ef9\" x=\"179.490275\" y=\"84.003868\" style=\"fill: #1f77b4; stroke: #1f77b4\"/>\n     <use xlink:href=\"#m61b8cc1ef9\" x=\"196.38501\" y=\"104.917338\" style=\"fill: #1f77b4; stroke: #1f77b4\"/>\n     <use xlink:href=\"#m61b8cc1ef9\" x=\"124.971275\" y=\"73.538928\" style=\"fill: #1f77b4; stroke: #1f77b4\"/>\n     <use xlink:href=\"#m61b8cc1ef9\" x=\"122.467881\" y=\"66.980907\" style=\"fill: #1f77b4; stroke: #1f77b4\"/>\n     <use xlink:href=\"#m61b8cc1ef9\" x=\"139.828074\" y=\"72.361421\" style=\"fill: #1f77b4; stroke: #1f77b4\"/>\n     <use xlink:href=\"#m61b8cc1ef9\" x=\"133.911726\" y=\"73.311579\" style=\"fill: #1f77b4; stroke: #1f77b4\"/>\n     <use xlink:href=\"#m61b8cc1ef9\" x=\"147.239131\" y=\"81.524099\" style=\"fill: #1f77b4; stroke: #1f77b4\"/>\n     <use xlink:href=\"#m61b8cc1ef9\" x=\"139.542658\" y=\"65.243649\" style=\"fill: #1f77b4; stroke: #1f77b4\"/>\n     <use xlink:href=\"#m61b8cc1ef9\" x=\"143.891579\" y=\"86.750301\" style=\"fill: #1f77b4; stroke: #1f77b4\"/>\n     <use xlink:href=\"#m61b8cc1ef9\" x=\"122.23282\" y=\"60.488656\" style=\"fill: #1f77b4; stroke: #1f77b4\"/>\n     <use xlink:href=\"#m61b8cc1ef9\" x=\"109.132636\" y=\"57.981213\" style=\"fill: #1f77b4; stroke: #1f77b4\"/>\n     <use xlink:href=\"#m61b8cc1ef9\" x=\"160.530941\" y=\"93.84305\" style=\"fill: #1f77b4; stroke: #1f77b4\"/>\n     <use xlink:href=\"#m61b8cc1ef9\" x=\"139.873461\" y=\"69.213286\" style=\"fill: #1f77b4; stroke: #1f77b4\"/>\n     <use xlink:href=\"#m61b8cc1ef9\" x=\"95.858654\" y=\"50.616051\" style=\"fill: #1f77b4; stroke: #1f77b4\"/>\n     <use xlink:href=\"#m61b8cc1ef9\" x=\"105.378716\" y=\"68.110036\" style=\"fill: #1f77b4; stroke: #1f77b4\"/>\n     <use xlink:href=\"#m61b8cc1ef9\" x=\"152.744821\" y=\"72.899881\" style=\"fill: #1f77b4; stroke: #1f77b4\"/>\n     <use xlink:href=\"#m61b8cc1ef9\" x=\"147.977978\" y=\"92.799832\" style=\"fill: #1f77b4; stroke: #1f77b4\"/>\n     <use xlink:href=\"#m61b8cc1ef9\" x=\"118.357581\" y=\"77.079599\" style=\"fill: #1f77b4; stroke: #1f77b4\"/>\n     <use xlink:href=\"#m61b8cc1ef9\" x=\"130.979982\" y=\"69.338606\" style=\"fill: #1f77b4; stroke: #1f77b4\"/>\n     <use xlink:href=\"#m61b8cc1ef9\" x=\"147.475443\" y=\"69.917922\" style=\"fill: #1f77b4; stroke: #1f77b4\"/>\n     <use xlink:href=\"#m61b8cc1ef9\" x=\"149.6855\" y=\"80.885564\" style=\"fill: #1f77b4; stroke: #1f77b4\"/>\n     <use xlink:href=\"#m61b8cc1ef9\" x=\"101.121252\" y=\"53.568914\" style=\"fill: #1f77b4; stroke: #1f77b4\"/>\n     <use xlink:href=\"#m61b8cc1ef9\" x=\"137.931522\" y=\"64.84233\" style=\"fill: #1f77b4; stroke: #1f77b4\"/>\n     <use xlink:href=\"#m61b8cc1ef9\" x=\"126.042886\" y=\"65.202495\" style=\"fill: #1f77b4; stroke: #1f77b4\"/>\n     <use xlink:href=\"#m61b8cc1ef9\" x=\"99.158807\" y=\"51.423218\" style=\"fill: #1f77b4; stroke: #1f77b4\"/>\n     <use xlink:href=\"#m61b8cc1ef9\" x=\"80.18202\" y=\"35.4488\" style=\"fill: #1f77b4; stroke: #1f77b4\"/>\n     <use xlink:href=\"#m61b8cc1ef9\" x=\"164.752741\" y=\"76.737041\" style=\"fill: #1f77b4; stroke: #1f77b4\"/>\n     <use xlink:href=\"#m61b8cc1ef9\" x=\"159.325387\" y=\"79.313124\" style=\"fill: #1f77b4; stroke: #1f77b4\"/>\n     <use xlink:href=\"#m61b8cc1ef9\" x=\"135.758278\" y=\"73.22272\" style=\"fill: #1f77b4; stroke: #1f77b4\"/>\n     <use xlink:href=\"#m61b8cc1ef9\" x=\"192.823775\" y=\"95.666525\" style=\"fill: #1f77b4; stroke: #1f77b4\"/>\n     <use xlink:href=\"#m61b8cc1ef9\" x=\"165.650941\" y=\"83.494628\" style=\"fill: #1f77b4; stroke: #1f77b4\"/>\n     <use xlink:href=\"#m61b8cc1ef9\" x=\"144.950206\" y=\"92.035053\" style=\"fill: #1f77b4; stroke: #1f77b4\"/>\n     <use xlink:href=\"#m61b8cc1ef9\" x=\"106.86522\" y=\"59.068156\" style=\"fill: #1f77b4; stroke: #1f77b4\"/>\n     <use xlink:href=\"#m61b8cc1ef9\" x=\"127.046986\" y=\"83.95159\" style=\"fill: #1f77b4; stroke: #1f77b4\"/>\n     <use xlink:href=\"#m61b8cc1ef9\" x=\"147.655695\" y=\"78.479425\" style=\"fill: #1f77b4; stroke: #1f77b4\"/>\n     <use xlink:href=\"#m61b8cc1ef9\" x=\"132.74684\" y=\"67.062615\" style=\"fill: #1f77b4; stroke: #1f77b4\"/>\n     <use xlink:href=\"#m61b8cc1ef9\" x=\"186.756857\" y=\"99.042122\" style=\"fill: #1f77b4; stroke: #1f77b4\"/>\n     <use xlink:href=\"#m61b8cc1ef9\" x=\"134.360769\" y=\"79.435757\" style=\"fill: #1f77b4; stroke: #1f77b4\"/>\n     <use xlink:href=\"#m61b8cc1ef9\" x=\"106.166746\" y=\"46.817096\" style=\"fill: #1f77b4; stroke: #1f77b4\"/>\n     <use xlink:href=\"#m61b8cc1ef9\" x=\"156.977383\" y=\"73.171546\" style=\"fill: #1f77b4; stroke: #1f77b4\"/>\n     <use xlink:href=\"#m61b8cc1ef9\" x=\"193.152516\" y=\"109.692985\" style=\"fill: #1f77b4; stroke: #1f77b4\"/>\n     <use xlink:href=\"#m61b8cc1ef9\" x=\"141.603151\" y=\"75.506284\" style=\"fill: #1f77b4; stroke: #1f77b4\"/>\n     <use xlink:href=\"#m61b8cc1ef9\" x=\"139.799223\" y=\"71.63883\" style=\"fill: #1f77b4; stroke: #1f77b4\"/>\n     <use xlink:href=\"#m61b8cc1ef9\" x=\"142.960489\" y=\"88.028597\" style=\"fill: #1f77b4; stroke: #1f77b4\"/>\n     <use xlink:href=\"#m61b8cc1ef9\" x=\"139.27558\" y=\"67.566981\" style=\"fill: #1f77b4; stroke: #1f77b4\"/>\n     <use xlink:href=\"#m61b8cc1ef9\" x=\"133.907058\" y=\"60.722153\" style=\"fill: #1f77b4; stroke: #1f77b4\"/>\n     <use xlink:href=\"#m61b8cc1ef9\" x=\"165.718384\" y=\"109.369006\" style=\"fill: #1f77b4; stroke: #1f77b4\"/>\n     <use xlink:href=\"#m61b8cc1ef9\" x=\"194.000087\" y=\"95.880505\" style=\"fill: #1f77b4; stroke: #1f77b4\"/>\n     <use xlink:href=\"#m61b8cc1ef9\" x=\"123.081883\" y=\"72.463759\" style=\"fill: #1f77b4; stroke: #1f77b4\"/>\n     <use xlink:href=\"#m61b8cc1ef9\" x=\"112.826613\" y=\"84.818872\" style=\"fill: #1f77b4; stroke: #1f77b4\"/>\n     <use xlink:href=\"#m61b8cc1ef9\" x=\"130.409781\" y=\"67.413094\" style=\"fill: #1f77b4; stroke: #1f77b4\"/>\n     <use xlink:href=\"#m61b8cc1ef9\" x=\"117.894501\" y=\"70.132255\" style=\"fill: #1f77b4; stroke: #1f77b4\"/>\n     <use xlink:href=\"#m61b8cc1ef9\" x=\"110.29834\" y=\"78.509056\" style=\"fill: #1f77b4; stroke: #1f77b4\"/>\n     <use xlink:href=\"#m61b8cc1ef9\" x=\"187.241921\" y=\"107.197117\" style=\"fill: #1f77b4; stroke: #1f77b4\"/>\n     <use xlink:href=\"#m61b8cc1ef9\" x=\"119.147755\" y=\"56.284473\" style=\"fill: #1f77b4; stroke: #1f77b4\"/>\n     <use xlink:href=\"#m61b8cc1ef9\" x=\"144.242855\" y=\"75.043043\" style=\"fill: #1f77b4; stroke: #1f77b4\"/>\n     <use xlink:href=\"#m61b8cc1ef9\" x=\"187.195575\" y=\"111.485874\" style=\"fill: #1f77b4; stroke: #1f77b4\"/>\n     <use xlink:href=\"#m61b8cc1ef9\" x=\"157.329351\" y=\"83.879212\" style=\"fill: #1f77b4; stroke: #1f77b4\"/>\n     <use xlink:href=\"#m61b8cc1ef9\" x=\"131.009921\" y=\"66.498037\" style=\"fill: #1f77b4; stroke: #1f77b4\"/>\n     <use xlink:href=\"#m61b8cc1ef9\" x=\"165.531084\" y=\"74.306082\" style=\"fill: #1f77b4; stroke: #1f77b4\"/>\n     <use xlink:href=\"#m61b8cc1ef9\" x=\"122.591948\" y=\"67.160342\" style=\"fill: #1f77b4; stroke: #1f77b4\"/>\n     <use xlink:href=\"#m61b8cc1ef9\" x=\"198.9292\" y=\"109.147818\" style=\"fill: #1f77b4; stroke: #1f77b4\"/>\n     <use xlink:href=\"#m61b8cc1ef9\" x=\"147.339205\" y=\"61.689934\" style=\"fill: #1f77b4; stroke: #1f77b4\"/>\n     <use xlink:href=\"#m61b8cc1ef9\" x=\"191.000449\" y=\"85.919093\" style=\"fill: #1f77b4; stroke: #1f77b4\"/>\n     <use xlink:href=\"#m61b8cc1ef9\" x=\"182.248417\" y=\"108.216259\" style=\"fill: #1f77b4; stroke: #1f77b4\"/>\n     <use xlink:href=\"#m61b8cc1ef9\" x=\"98.845752\" y=\"46.471648\" style=\"fill: #1f77b4; stroke: #1f77b4\"/>\n     <use xlink:href=\"#m61b8cc1ef9\" x=\"93.452138\" y=\"56.189027\" style=\"fill: #1f77b4; stroke: #1f77b4\"/>\n     <use xlink:href=\"#m61b8cc1ef9\" x=\"160.747242\" y=\"56.014619\" style=\"fill: #1f77b4; stroke: #1f77b4\"/>\n     <use xlink:href=\"#m61b8cc1ef9\" x=\"141.859658\" y=\"79.357124\" style=\"fill: #1f77b4; stroke: #1f77b4\"/>\n     <use xlink:href=\"#m61b8cc1ef9\" x=\"109.672346\" y=\"60.380517\" style=\"fill: #1f77b4; stroke: #1f77b4\"/>\n     <use xlink:href=\"#m61b8cc1ef9\" x=\"127.572107\" y=\"57.454319\" style=\"fill: #1f77b4; stroke: #1f77b4\"/>\n     <use xlink:href=\"#m61b8cc1ef9\" x=\"123.526494\" y=\"58.876198\" style=\"fill: #1f77b4; stroke: #1f77b4\"/>\n     <use xlink:href=\"#m61b8cc1ef9\" x=\"157.554736\" y=\"86.242545\" style=\"fill: #1f77b4; stroke: #1f77b4\"/>\n     <use xlink:href=\"#m61b8cc1ef9\" x=\"169.076197\" y=\"101.595516\" style=\"fill: #1f77b4; stroke: #1f77b4\"/>\n     <use xlink:href=\"#m61b8cc1ef9\" x=\"145.877182\" y=\"74.437348\" style=\"fill: #1f77b4; stroke: #1f77b4\"/>\n     <use xlink:href=\"#m61b8cc1ef9\" x=\"152.467941\" y=\"86.460233\" style=\"fill: #1f77b4; stroke: #1f77b4\"/>\n     <use xlink:href=\"#m61b8cc1ef9\" x=\"125.674449\" y=\"56.545773\" style=\"fill: #1f77b4; stroke: #1f77b4\"/>\n     <use xlink:href=\"#m61b8cc1ef9\" x=\"85.02241\" y=\"43.821514\" style=\"fill: #1f77b4; stroke: #1f77b4\"/>\n     <use xlink:href=\"#m61b8cc1ef9\" x=\"114.293663\" y=\"58.681211\" style=\"fill: #1f77b4; stroke: #1f77b4\"/>\n     <use xlink:href=\"#m61b8cc1ef9\" x=\"172.472456\" y=\"73.450638\" style=\"fill: #1f77b4; stroke: #1f77b4\"/>\n     <use xlink:href=\"#m61b8cc1ef9\" x=\"144.071454\" y=\"64.09213\" style=\"fill: #1f77b4; stroke: #1f77b4\"/>\n     <use xlink:href=\"#m61b8cc1ef9\" x=\"67.327934\" y=\"45.640874\" style=\"fill: #1f77b4; stroke: #1f77b4\"/>\n     <use xlink:href=\"#m61b8cc1ef9\" x=\"137.6669\" y=\"77.846071\" style=\"fill: #1f77b4; stroke: #1f77b4\"/>\n     <use xlink:href=\"#m61b8cc1ef9\" x=\"188.507198\" y=\"96.59172\" style=\"fill: #1f77b4; stroke: #1f77b4\"/>\n     <use xlink:href=\"#m61b8cc1ef9\" x=\"151.114212\" y=\"73.037152\" style=\"fill: #1f77b4; stroke: #1f77b4\"/>\n     <use xlink:href=\"#m61b8cc1ef9\" x=\"111.193772\" y=\"54.503602\" style=\"fill: #1f77b4; stroke: #1f77b4\"/>\n     <use xlink:href=\"#m61b8cc1ef9\" x=\"175.330644\" y=\"86.637926\" style=\"fill: #1f77b4; stroke: #1f77b4\"/>\n     <use xlink:href=\"#m61b8cc1ef9\" x=\"177.617786\" y=\"97.815817\" style=\"fill: #1f77b4; stroke: #1f77b4\"/>\n     <use xlink:href=\"#m61b8cc1ef9\" x=\"114.074143\" y=\"68.668437\" style=\"fill: #1f77b4; stroke: #1f77b4\"/>\n     <use xlink:href=\"#m61b8cc1ef9\" x=\"137.726478\" y=\"90.190714\" style=\"fill: #1f77b4; stroke: #1f77b4\"/>\n     <use xlink:href=\"#m61b8cc1ef9\" x=\"134.615113\" y=\"80.065939\" style=\"fill: #1f77b4; stroke: #1f77b4\"/>\n     <use xlink:href=\"#m61b8cc1ef9\" x=\"120.918762\" y=\"66.497119\" style=\"fill: #1f77b4; stroke: #1f77b4\"/>\n     <use xlink:href=\"#m61b8cc1ef9\" x=\"180.869573\" y=\"111.992087\" style=\"fill: #1f77b4; stroke: #1f77b4\"/>\n     <use xlink:href=\"#m61b8cc1ef9\" x=\"164.648042\" y=\"66.550684\" style=\"fill: #1f77b4; stroke: #1f77b4\"/>\n     <use xlink:href=\"#m61b8cc1ef9\" x=\"156.963333\" y=\"76.632576\" style=\"fill: #1f77b4; stroke: #1f77b4\"/>\n     <use xlink:href=\"#m61b8cc1ef9\" x=\"199.091724\" y=\"139.5\" style=\"fill: #1f77b4; stroke: #1f77b4\"/>\n     <use xlink:href=\"#m61b8cc1ef9\" x=\"107.743834\" y=\"58.186699\" style=\"fill: #1f77b4; stroke: #1f77b4\"/>\n     <use xlink:href=\"#m61b8cc1ef9\" x=\"147.291922\" y=\"97.613486\" style=\"fill: #1f77b4; stroke: #1f77b4\"/>\n     <use xlink:href=\"#m61b8cc1ef9\" x=\"138.1402\" y=\"84.182742\" style=\"fill: #1f77b4; stroke: #1f77b4\"/>\n     <use xlink:href=\"#m61b8cc1ef9\" x=\"133.886443\" y=\"92.328512\" style=\"fill: #1f77b4; stroke: #1f77b4\"/>\n     <use xlink:href=\"#m61b8cc1ef9\" x=\"188.969562\" y=\"105.917342\" style=\"fill: #1f77b4; stroke: #1f77b4\"/>\n     <use xlink:href=\"#m61b8cc1ef9\" x=\"135.220794\" y=\"72.136298\" style=\"fill: #1f77b4; stroke: #1f77b4\"/>\n     <use xlink:href=\"#m61b8cc1ef9\" x=\"123.965467\" y=\"80.247182\" style=\"fill: #1f77b4; stroke: #1f77b4\"/>\n     <use xlink:href=\"#m61b8cc1ef9\" x=\"117.822344\" y=\"70.559038\" style=\"fill: #1f77b4; stroke: #1f77b4\"/>\n     <use xlink:href=\"#m61b8cc1ef9\" x=\"155.662857\" y=\"71.70873\" style=\"fill: #1f77b4; stroke: #1f77b4\"/>\n     <use xlink:href=\"#m61b8cc1ef9\" x=\"150.872878\" y=\"81.493356\" style=\"fill: #1f77b4; stroke: #1f77b4\"/>\n     <use xlink:href=\"#m61b8cc1ef9\" x=\"130.474325\" y=\"72.238291\" style=\"fill: #1f77b4; stroke: #1f77b4\"/>\n     <use xlink:href=\"#m61b8cc1ef9\" x=\"153.887351\" y=\"101.466577\" style=\"fill: #1f77b4; stroke: #1f77b4\"/>\n     <use xlink:href=\"#m61b8cc1ef9\" x=\"138.785543\" y=\"78.670436\" style=\"fill: #1f77b4; stroke: #1f77b4\"/>\n     <use xlink:href=\"#m61b8cc1ef9\" x=\"139.041352\" y=\"73.445476\" style=\"fill: #1f77b4; stroke: #1f77b4\"/>\n     <use xlink:href=\"#m61b8cc1ef9\" x=\"139.265371\" y=\"71.36565\" style=\"fill: #1f77b4; stroke: #1f77b4\"/>\n     <use xlink:href=\"#m61b8cc1ef9\" x=\"128.654649\" y=\"71.852409\" style=\"fill: #1f77b4; stroke: #1f77b4\"/>\n     <use xlink:href=\"#m61b8cc1ef9\" x=\"135.885599\" y=\"72.594237\" style=\"fill: #1f77b4; stroke: #1f77b4\"/>\n     <use xlink:href=\"#m61b8cc1ef9\" x=\"207.53347\" y=\"118.700884\" style=\"fill: #1f77b4; stroke: #1f77b4\"/>\n     <use xlink:href=\"#m61b8cc1ef9\" x=\"152.466243\" y=\"88.49025\" style=\"fill: #1f77b4; stroke: #1f77b4\"/>\n     <use xlink:href=\"#m61b8cc1ef9\" x=\"144.096032\" y=\"90.669361\" style=\"fill: #1f77b4; stroke: #1f77b4\"/>\n     <use xlink:href=\"#m61b8cc1ef9\" x=\"123.772687\" y=\"67.970883\" style=\"fill: #1f77b4; stroke: #1f77b4\"/>\n     <use xlink:href=\"#m61b8cc1ef9\" x=\"113.591251\" y=\"64.513988\" style=\"fill: #1f77b4; stroke: #1f77b4\"/>\n     <use xlink:href=\"#m61b8cc1ef9\" x=\"82.969494\" y=\"43.338784\" style=\"fill: #1f77b4; stroke: #1f77b4\"/>\n     <use xlink:href=\"#m61b8cc1ef9\" x=\"131.963553\" y=\"75.515463\" style=\"fill: #1f77b4; stroke: #1f77b4\"/>\n     <use xlink:href=\"#m61b8cc1ef9\" x=\"119.551901\" y=\"89.762068\" style=\"fill: #1f77b4; stroke: #1f77b4\"/>\n     <use xlink:href=\"#m61b8cc1ef9\" x=\"112.403891\" y=\"89.984091\" style=\"fill: #1f77b4; stroke: #1f77b4\"/>\n     <use xlink:href=\"#m61b8cc1ef9\" x=\"142.994895\" y=\"83.174424\" style=\"fill: #1f77b4; stroke: #1f77b4\"/>\n     <use xlink:href=\"#m61b8cc1ef9\" x=\"154.037241\" y=\"80.427169\" style=\"fill: #1f77b4; stroke: #1f77b4\"/>\n     <use xlink:href=\"#m61b8cc1ef9\" x=\"122.066173\" y=\"50.056245\" style=\"fill: #1f77b4; stroke: #1f77b4\"/>\n     <use xlink:href=\"#m61b8cc1ef9\" x=\"159.807804\" y=\"83.972617\" style=\"fill: #1f77b4; stroke: #1f77b4\"/>\n     <use xlink:href=\"#m61b8cc1ef9\" x=\"117.125489\" y=\"55.524957\" style=\"fill: #1f77b4; stroke: #1f77b4\"/>\n     <use xlink:href=\"#m61b8cc1ef9\" x=\"184.383286\" y=\"88.880612\" style=\"fill: #1f77b4; stroke: #1f77b4\"/>\n     <use xlink:href=\"#m61b8cc1ef9\" x=\"161.661999\" y=\"86.954738\" style=\"fill: #1f77b4; stroke: #1f77b4\"/>\n     <use xlink:href=\"#m61b8cc1ef9\" x=\"134.150421\" y=\"64.040077\" style=\"fill: #1f77b4; stroke: #1f77b4\"/>\n     <use xlink:href=\"#m61b8cc1ef9\" x=\"149.416352\" y=\"74.912049\" style=\"fill: #1f77b4; stroke: #1f77b4\"/>\n     <use xlink:href=\"#m61b8cc1ef9\" x=\"102.195933\" y=\"56.997375\" style=\"fill: #1f77b4; stroke: #1f77b4\"/>\n     <use xlink:href=\"#m61b8cc1ef9\" x=\"90.992145\" y=\"61.282934\" style=\"fill: #1f77b4; stroke: #1f77b4\"/>\n     <use xlink:href=\"#m61b8cc1ef9\" x=\"137.858977\" y=\"78.337079\" style=\"fill: #1f77b4; stroke: #1f77b4\"/>\n     <use xlink:href=\"#m61b8cc1ef9\" x=\"126.297208\" y=\"64.524131\" style=\"fill: #1f77b4; stroke: #1f77b4\"/>\n     <use xlink:href=\"#m61b8cc1ef9\" x=\"144.574581\" y=\"73.42236\" style=\"fill: #1f77b4; stroke: #1f77b4\"/>\n     <use xlink:href=\"#m61b8cc1ef9\" x=\"152.670876\" y=\"97.797899\" style=\"fill: #1f77b4; stroke: #1f77b4\"/>\n     <use xlink:href=\"#m61b8cc1ef9\" x=\"128.179351\" y=\"95.92887\" style=\"fill: #1f77b4; stroke: #1f77b4\"/>\n     <use xlink:href=\"#m61b8cc1ef9\" x=\"143.973918\" y=\"73.826361\" style=\"fill: #1f77b4; stroke: #1f77b4\"/>\n     <use xlink:href=\"#m61b8cc1ef9\" x=\"204.069905\" y=\"96.271282\" style=\"fill: #1f77b4; stroke: #1f77b4\"/>\n     <use xlink:href=\"#m61b8cc1ef9\" x=\"121.584275\" y=\"52.194414\" style=\"fill: #1f77b4; stroke: #1f77b4\"/>\n     <use xlink:href=\"#m61b8cc1ef9\" x=\"129.649076\" y=\"69.710648\" style=\"fill: #1f77b4; stroke: #1f77b4\"/>\n     <use xlink:href=\"#m61b8cc1ef9\" x=\"178.157019\" y=\"88.691893\" style=\"fill: #1f77b4; stroke: #1f77b4\"/>\n     <use xlink:href=\"#m61b8cc1ef9\" x=\"75.642509\" y=\"47.179541\" style=\"fill: #1f77b4; stroke: #1f77b4\"/>\n     <use xlink:href=\"#m61b8cc1ef9\" x=\"116.869866\" y=\"58.655528\" style=\"fill: #1f77b4; stroke: #1f77b4\"/>\n     <use xlink:href=\"#m61b8cc1ef9\" x=\"116.911096\" y=\"61.556231\" style=\"fill: #1f77b4; stroke: #1f77b4\"/>\n     <use xlink:href=\"#m61b8cc1ef9\" x=\"162.114754\" y=\"93.106981\" style=\"fill: #1f77b4; stroke: #1f77b4\"/>\n     <use xlink:href=\"#m61b8cc1ef9\" x=\"158.606018\" y=\"93.982282\" style=\"fill: #1f77b4; stroke: #1f77b4\"/>\n     <use xlink:href=\"#m61b8cc1ef9\" x=\"138.217529\" y=\"71.953973\" style=\"fill: #1f77b4; stroke: #1f77b4\"/>\n     <use xlink:href=\"#m61b8cc1ef9\" x=\"134.372456\" y=\"77.863529\" style=\"fill: #1f77b4; stroke: #1f77b4\"/>\n     <use xlink:href=\"#m61b8cc1ef9\" x=\"170.329558\" y=\"81.884969\" style=\"fill: #1f77b4; stroke: #1f77b4\"/>\n     <use xlink:href=\"#m61b8cc1ef9\" x=\"154.50699\" y=\"80.375178\" style=\"fill: #1f77b4; stroke: #1f77b4\"/>\n     <use xlink:href=\"#m61b8cc1ef9\" x=\"93.61746\" y=\"45.749733\" style=\"fill: #1f77b4; stroke: #1f77b4\"/>\n     <use xlink:href=\"#m61b8cc1ef9\" x=\"172.801892\" y=\"87.622093\" style=\"fill: #1f77b4; stroke: #1f77b4\"/>\n     <use xlink:href=\"#m61b8cc1ef9\" x=\"97.85926\" y=\"38.798958\" style=\"fill: #1f77b4; stroke: #1f77b4\"/>\n     <use xlink:href=\"#m61b8cc1ef9\" x=\"102.697952\" y=\"72.485329\" style=\"fill: #1f77b4; stroke: #1f77b4\"/>\n     <use xlink:href=\"#m61b8cc1ef9\" x=\"93.02956\" y=\"49.725582\" style=\"fill: #1f77b4; stroke: #1f77b4\"/>\n     <use xlink:href=\"#m61b8cc1ef9\" x=\"145.574425\" y=\"74.184199\" style=\"fill: #1f77b4; stroke: #1f77b4\"/>\n     <use xlink:href=\"#m61b8cc1ef9\" x=\"133.577368\" y=\"64.244215\" style=\"fill: #1f77b4; stroke: #1f77b4\"/>\n     <use xlink:href=\"#m61b8cc1ef9\" x=\"111.216821\" y=\"75.026459\" style=\"fill: #1f77b4; stroke: #1f77b4\"/>\n     <use xlink:href=\"#m61b8cc1ef9\" x=\"118.344004\" y=\"52.484711\" style=\"fill: #1f77b4; stroke: #1f77b4\"/>\n     <use xlink:href=\"#m61b8cc1ef9\" x=\"131.860302\" y=\"74.590949\" style=\"fill: #1f77b4; stroke: #1f77b4\"/>\n     <use xlink:href=\"#m61b8cc1ef9\" x=\"166.853078\" y=\"82.419076\" style=\"fill: #1f77b4; stroke: #1f77b4\"/>\n     <use xlink:href=\"#m61b8cc1ef9\" x=\"151.484327\" y=\"80.743311\" style=\"fill: #1f77b4; stroke: #1f77b4\"/>\n     <use xlink:href=\"#m61b8cc1ef9\" x=\"188.255823\" y=\"98.008024\" style=\"fill: #1f77b4; stroke: #1f77b4\"/>\n     <use xlink:href=\"#m61b8cc1ef9\" x=\"114.065166\" y=\"66.748824\" style=\"fill: #1f77b4; stroke: #1f77b4\"/>\n     <use xlink:href=\"#m61b8cc1ef9\" x=\"136.687908\" y=\"72.853647\" style=\"fill: #1f77b4; stroke: #1f77b4\"/>\n     <use xlink:href=\"#m61b8cc1ef9\" x=\"140.991054\" y=\"82.237221\" style=\"fill: #1f77b4; stroke: #1f77b4\"/>\n     <use xlink:href=\"#m61b8cc1ef9\" x=\"137.608701\" y=\"79.691142\" style=\"fill: #1f77b4; stroke: #1f77b4\"/>\n     <use xlink:href=\"#m61b8cc1ef9\" x=\"137.879954\" y=\"70.451083\" style=\"fill: #1f77b4; stroke: #1f77b4\"/>\n     <use xlink:href=\"#m61b8cc1ef9\" x=\"132.653592\" y=\"60.068372\" style=\"fill: #1f77b4; stroke: #1f77b4\"/>\n     <use xlink:href=\"#m61b8cc1ef9\" x=\"144.420549\" y=\"74.091246\" style=\"fill: #1f77b4; stroke: #1f77b4\"/>\n     <use xlink:href=\"#m61b8cc1ef9\" x=\"169.95392\" y=\"95.402906\" style=\"fill: #1f77b4; stroke: #1f77b4\"/>\n     <use xlink:href=\"#m61b8cc1ef9\" x=\"119.314325\" y=\"56.49303\" style=\"fill: #1f77b4; stroke: #1f77b4\"/>\n     <use xlink:href=\"#m61b8cc1ef9\" x=\"120.11205\" y=\"69.610785\" style=\"fill: #1f77b4; stroke: #1f77b4\"/>\n     <use xlink:href=\"#m61b8cc1ef9\" x=\"186.419507\" y=\"99.841116\" style=\"fill: #1f77b4; stroke: #1f77b4\"/>\n     <use xlink:href=\"#m61b8cc1ef9\" x=\"161.410196\" y=\"86.729788\" style=\"fill: #1f77b4; stroke: #1f77b4\"/>\n     <use xlink:href=\"#m61b8cc1ef9\" x=\"180.516827\" y=\"116.87796\" style=\"fill: #1f77b4; stroke: #1f77b4\"/>\n     <use xlink:href=\"#m61b8cc1ef9\" x=\"114.383002\" y=\"62.847574\" style=\"fill: #1f77b4; stroke: #1f77b4\"/>\n     <use xlink:href=\"#m61b8cc1ef9\" x=\"153.401497\" y=\"93.856791\" style=\"fill: #1f77b4; stroke: #1f77b4\"/>\n     <use xlink:href=\"#m61b8cc1ef9\" x=\"115.890748\" y=\"63.268527\" style=\"fill: #1f77b4; stroke: #1f77b4\"/>\n     <use xlink:href=\"#m61b8cc1ef9\" x=\"131.739131\" y=\"65.474619\" style=\"fill: #1f77b4; stroke: #1f77b4\"/>\n     <use xlink:href=\"#m61b8cc1ef9\" x=\"141.908962\" y=\"65.889874\" style=\"fill: #1f77b4; stroke: #1f77b4\"/>\n     <use xlink:href=\"#m61b8cc1ef9\" x=\"157.636056\" y=\"71.230092\" style=\"fill: #1f77b4; stroke: #1f77b4\"/>\n     <use xlink:href=\"#m61b8cc1ef9\" x=\"175.306834\" y=\"96.843145\" style=\"fill: #1f77b4; stroke: #1f77b4\"/>\n     <use xlink:href=\"#m61b8cc1ef9\" x=\"160.204727\" y=\"90.473627\" style=\"fill: #1f77b4; stroke: #1f77b4\"/>\n     <use xlink:href=\"#m61b8cc1ef9\" x=\"123.754764\" y=\"64.560135\" style=\"fill: #1f77b4; stroke: #1f77b4\"/>\n     <use xlink:href=\"#m61b8cc1ef9\" x=\"179.540195\" y=\"93.459455\" style=\"fill: #1f77b4; stroke: #1f77b4\"/>\n     <use xlink:href=\"#m61b8cc1ef9\" x=\"149.343859\" y=\"99.435539\" style=\"fill: #1f77b4; stroke: #1f77b4\"/>\n     <use xlink:href=\"#m61b8cc1ef9\" x=\"96.677497\" y=\"63.441136\" style=\"fill: #1f77b4; stroke: #1f77b4\"/>\n     <use xlink:href=\"#m61b8cc1ef9\" x=\"161.289963\" y=\"82.530789\" style=\"fill: #1f77b4; stroke: #1f77b4\"/>\n     <use xlink:href=\"#m61b8cc1ef9\" x=\"180.608638\" y=\"92.675937\" style=\"fill: #1f77b4; stroke: #1f77b4\"/>\n     <use xlink:href=\"#m61b8cc1ef9\" x=\"155.840183\" y=\"81.609472\" style=\"fill: #1f77b4; stroke: #1f77b4\"/>\n     <use xlink:href=\"#m61b8cc1ef9\" x=\"153.965488\" y=\"69.972575\" style=\"fill: #1f77b4; stroke: #1f77b4\"/>\n     <use xlink:href=\"#m61b8cc1ef9\" x=\"188.267964\" y=\"107.02859\" style=\"fill: #1f77b4; stroke: #1f77b4\"/>\n     <use xlink:href=\"#m61b8cc1ef9\" x=\"127.764172\" y=\"64.789183\" style=\"fill: #1f77b4; stroke: #1f77b4\"/>\n     <use xlink:href=\"#m61b8cc1ef9\" x=\"186.291305\" y=\"104.876359\" style=\"fill: #1f77b4; stroke: #1f77b4\"/>\n     <use xlink:href=\"#m61b8cc1ef9\" x=\"155.094144\" y=\"80.519594\" style=\"fill: #1f77b4; stroke: #1f77b4\"/>\n     <use xlink:href=\"#m61b8cc1ef9\" x=\"104.584873\" y=\"50.174822\" style=\"fill: #1f77b4; stroke: #1f77b4\"/>\n     <use xlink:href=\"#m61b8cc1ef9\" x=\"150.283098\" y=\"89.713626\" style=\"fill: #1f77b4; stroke: #1f77b4\"/>\n     <use xlink:href=\"#m61b8cc1ef9\" x=\"137.551287\" y=\"76.839255\" style=\"fill: #1f77b4; stroke: #1f77b4\"/>\n     <use xlink:href=\"#m61b8cc1ef9\" x=\"129.708206\" y=\"66.557291\" style=\"fill: #1f77b4; stroke: #1f77b4\"/>\n     <use xlink:href=\"#m61b8cc1ef9\" x=\"156.736395\" y=\"77.11846\" style=\"fill: #1f77b4; stroke: #1f77b4\"/>\n     <use xlink:href=\"#m61b8cc1ef9\" x=\"147.955283\" y=\"84.907709\" style=\"fill: #1f77b4; stroke: #1f77b4\"/>\n     <use xlink:href=\"#m61b8cc1ef9\" x=\"82.894316\" y=\"54.585401\" style=\"fill: #1f77b4; stroke: #1f77b4\"/>\n     <use xlink:href=\"#m61b8cc1ef9\" x=\"168.978652\" y=\"90.126153\" style=\"fill: #1f77b4; stroke: #1f77b4\"/>\n     <use xlink:href=\"#m61b8cc1ef9\" x=\"147.093746\" y=\"84.791333\" style=\"fill: #1f77b4; stroke: #1f77b4\"/>\n     <use xlink:href=\"#m61b8cc1ef9\" x=\"154.054787\" y=\"72.80466\" style=\"fill: #1f77b4; stroke: #1f77b4\"/>\n     <use xlink:href=\"#m61b8cc1ef9\" x=\"128.090238\" y=\"73.201503\" style=\"fill: #1f77b4; stroke: #1f77b4\"/>\n     <use xlink:href=\"#m61b8cc1ef9\" x=\"133.073226\" y=\"70.958856\" style=\"fill: #1f77b4; stroke: #1f77b4\"/>\n     <use xlink:href=\"#m61b8cc1ef9\" x=\"155.143821\" y=\"86.508542\" style=\"fill: #1f77b4; stroke: #1f77b4\"/>\n     <use xlink:href=\"#m61b8cc1ef9\" x=\"145.191557\" y=\"82.935339\" style=\"fill: #1f77b4; stroke: #1f77b4\"/>\n     <use xlink:href=\"#m61b8cc1ef9\" x=\"171.435881\" y=\"73.96385\" style=\"fill: #1f77b4; stroke: #1f77b4\"/>\n     <use xlink:href=\"#m61b8cc1ef9\" x=\"132.602629\" y=\"76.898098\" style=\"fill: #1f77b4; stroke: #1f77b4\"/>\n     <use xlink:href=\"#m61b8cc1ef9\" x=\"163.091122\" y=\"81.281534\" style=\"fill: #1f77b4; stroke: #1f77b4\"/>\n     <use xlink:href=\"#m61b8cc1ef9\" x=\"106.835\" y=\"49.411538\" style=\"fill: #1f77b4; stroke: #1f77b4\"/>\n     <use xlink:href=\"#m61b8cc1ef9\" x=\"154.37912\" y=\"86.137167\" style=\"fill: #1f77b4; stroke: #1f77b4\"/>\n     <use xlink:href=\"#m61b8cc1ef9\" x=\"146.843465\" y=\"73.191607\" style=\"fill: #1f77b4; stroke: #1f77b4\"/>\n     <use xlink:href=\"#m61b8cc1ef9\" x=\"142.554977\" y=\"81.15807\" style=\"fill: #1f77b4; stroke: #1f77b4\"/>\n     <use xlink:href=\"#m61b8cc1ef9\" x=\"94.081717\" y=\"55.67163\" style=\"fill: #1f77b4; stroke: #1f77b4\"/>\n     <use xlink:href=\"#m61b8cc1ef9\" x=\"143.387625\" y=\"67.475687\" style=\"fill: #1f77b4; stroke: #1f77b4\"/>\n     <use xlink:href=\"#m61b8cc1ef9\" x=\"163.076324\" y=\"79.669906\" style=\"fill: #1f77b4; stroke: #1f77b4\"/>\n     <use xlink:href=\"#m61b8cc1ef9\" x=\"151.003108\" y=\"85.358801\" style=\"fill: #1f77b4; stroke: #1f77b4\"/>\n     <use xlink:href=\"#m61b8cc1ef9\" x=\"138.676789\" y=\"61.719959\" style=\"fill: #1f77b4; stroke: #1f77b4\"/>\n     <use xlink:href=\"#m61b8cc1ef9\" x=\"131.022813\" y=\"75.256195\" style=\"fill: #1f77b4; stroke: #1f77b4\"/>\n     <use xlink:href=\"#m61b8cc1ef9\" x=\"132.985646\" y=\"77.158742\" style=\"fill: #1f77b4; stroke: #1f77b4\"/>\n     <use xlink:href=\"#m61b8cc1ef9\" x=\"159.924733\" y=\"96.457449\" style=\"fill: #1f77b4; stroke: #1f77b4\"/>\n     <use xlink:href=\"#m61b8cc1ef9\" x=\"163.211554\" y=\"83.950766\" style=\"fill: #1f77b4; stroke: #1f77b4\"/>\n     <use xlink:href=\"#m61b8cc1ef9\" x=\"162.503151\" y=\"85.299793\" style=\"fill: #1f77b4; stroke: #1f77b4\"/>\n     <use xlink:href=\"#m61b8cc1ef9\" x=\"127.995524\" y=\"82.434834\" style=\"fill: #1f77b4; stroke: #1f77b4\"/>\n     <use xlink:href=\"#m61b8cc1ef9\" x=\"200.490586\" y=\"111.73563\" style=\"fill: #1f77b4; stroke: #1f77b4\"/>\n     <use xlink:href=\"#m61b8cc1ef9\" x=\"171.272367\" y=\"77.150748\" style=\"fill: #1f77b4; stroke: #1f77b4\"/>\n     <use xlink:href=\"#m61b8cc1ef9\" x=\"144.468394\" y=\"67.520256\" style=\"fill: #1f77b4; stroke: #1f77b4\"/>\n     <use xlink:href=\"#m61b8cc1ef9\" x=\"121.013728\" y=\"55.016412\" style=\"fill: #1f77b4; stroke: #1f77b4\"/>\n     <use xlink:href=\"#m61b8cc1ef9\" x=\"76.097529\" y=\"37.697107\" style=\"fill: #1f77b4; stroke: #1f77b4\"/>\n     <use xlink:href=\"#m61b8cc1ef9\" x=\"105.081566\" y=\"53.846409\" style=\"fill: #1f77b4; stroke: #1f77b4\"/>\n     <use xlink:href=\"#m61b8cc1ef9\" x=\"163.063404\" y=\"84.472117\" style=\"fill: #1f77b4; stroke: #1f77b4\"/>\n     <use xlink:href=\"#m61b8cc1ef9\" x=\"187.246895\" y=\"87.410037\" style=\"fill: #1f77b4; stroke: #1f77b4\"/>\n     <use xlink:href=\"#m61b8cc1ef9\" x=\"163.794584\" y=\"78.108029\" style=\"fill: #1f77b4; stroke: #1f77b4\"/>\n     <use xlink:href=\"#m61b8cc1ef9\" x=\"156.245259\" y=\"89.255355\" style=\"fill: #1f77b4; stroke: #1f77b4\"/>\n     <use xlink:href=\"#m61b8cc1ef9\" x=\"162.825158\" y=\"86.081466\" style=\"fill: #1f77b4; stroke: #1f77b4\"/>\n     <use xlink:href=\"#m61b8cc1ef9\" x=\"107.848347\" y=\"65.346422\" style=\"fill: #1f77b4; stroke: #1f77b4\"/>\n     <use xlink:href=\"#m61b8cc1ef9\" x=\"138.903245\" y=\"76.729167\" style=\"fill: #1f77b4; stroke: #1f77b4\"/>\n     <use xlink:href=\"#m61b8cc1ef9\" x=\"107.518478\" y=\"53.475604\" style=\"fill: #1f77b4; stroke: #1f77b4\"/>\n     <use xlink:href=\"#m61b8cc1ef9\" x=\"153.554483\" y=\"78.732924\" style=\"fill: #1f77b4; stroke: #1f77b4\"/>\n     <use xlink:href=\"#m61b8cc1ef9\" x=\"91.048497\" y=\"48.85778\" style=\"fill: #1f77b4; stroke: #1f77b4\"/>\n     <use xlink:href=\"#m61b8cc1ef9\" x=\"153.040369\" y=\"73.42924\" style=\"fill: #1f77b4; stroke: #1f77b4\"/>\n     <use xlink:href=\"#m61b8cc1ef9\" x=\"153.891472\" y=\"70.810911\" style=\"fill: #1f77b4; stroke: #1f77b4\"/>\n     <use xlink:href=\"#m61b8cc1ef9\" x=\"131.402941\" y=\"75.009088\" style=\"fill: #1f77b4; stroke: #1f77b4\"/>\n     <use xlink:href=\"#m61b8cc1ef9\" x=\"122.48379\" y=\"72.188045\" style=\"fill: #1f77b4; stroke: #1f77b4\"/>\n     <use xlink:href=\"#m61b8cc1ef9\" x=\"136.702997\" y=\"77.594803\" style=\"fill: #1f77b4; stroke: #1f77b4\"/>\n     <use xlink:href=\"#m61b8cc1ef9\" x=\"141.520713\" y=\"80.506543\" style=\"fill: #1f77b4; stroke: #1f77b4\"/>\n     <use xlink:href=\"#m61b8cc1ef9\" x=\"99.844102\" y=\"61.744625\" style=\"fill: #1f77b4; stroke: #1f77b4\"/>\n     <use xlink:href=\"#m61b8cc1ef9\" x=\"149.822121\" y=\"74.63549\" style=\"fill: #1f77b4; stroke: #1f77b4\"/>\n     <use xlink:href=\"#m61b8cc1ef9\" x=\"112.790587\" y=\"63.552994\" style=\"fill: #1f77b4; stroke: #1f77b4\"/>\n     <use xlink:href=\"#m61b8cc1ef9\" x=\"117.337165\" y=\"70.332145\" style=\"fill: #1f77b4; stroke: #1f77b4\"/>\n     <use xlink:href=\"#m61b8cc1ef9\" x=\"115.428425\" y=\"65.779357\" style=\"fill: #1f77b4; stroke: #1f77b4\"/>\n     <use xlink:href=\"#m61b8cc1ef9\" x=\"147.3661\" y=\"77.204653\" style=\"fill: #1f77b4; stroke: #1f77b4\"/>\n     <use xlink:href=\"#m61b8cc1ef9\" x=\"126.843313\" y=\"51.665634\" style=\"fill: #1f77b4; stroke: #1f77b4\"/>\n     <use xlink:href=\"#m61b8cc1ef9\" x=\"105.461026\" y=\"55.720925\" style=\"fill: #1f77b4; stroke: #1f77b4\"/>\n     <use xlink:href=\"#m61b8cc1ef9\" x=\"191.349501\" y=\"105.846756\" style=\"fill: #1f77b4; stroke: #1f77b4\"/>\n     <use xlink:href=\"#m61b8cc1ef9\" x=\"170.236752\" y=\"77.463286\" style=\"fill: #1f77b4; stroke: #1f77b4\"/>\n     <use xlink:href=\"#m61b8cc1ef9\" x=\"171.320933\" y=\"104.299598\" style=\"fill: #1f77b4; stroke: #1f77b4\"/>\n     <use xlink:href=\"#m61b8cc1ef9\" x=\"114.024508\" y=\"80.78157\" style=\"fill: #1f77b4; stroke: #1f77b4\"/>\n     <use xlink:href=\"#m61b8cc1ef9\" x=\"94.907721\" y=\"31.664277\" style=\"fill: #1f77b4; stroke: #1f77b4\"/>\n     <use xlink:href=\"#m61b8cc1ef9\" x=\"116.330811\" y=\"59.939835\" style=\"fill: #1f77b4; stroke: #1f77b4\"/>\n     <use xlink:href=\"#m61b8cc1ef9\" x=\"145.151435\" y=\"84.990057\" style=\"fill: #1f77b4; stroke: #1f77b4\"/>\n     <use xlink:href=\"#m61b8cc1ef9\" x=\"158.106331\" y=\"84.357052\" style=\"fill: #1f77b4; stroke: #1f77b4\"/>\n     <use xlink:href=\"#m61b8cc1ef9\" x=\"107.987807\" y=\"57.513319\" style=\"fill: #1f77b4; stroke: #1f77b4\"/>\n     <use xlink:href=\"#m61b8cc1ef9\" x=\"136.081852\" y=\"76.333118\" style=\"fill: #1f77b4; stroke: #1f77b4\"/>\n     <use xlink:href=\"#m61b8cc1ef9\" x=\"56.394121\" y=\"13.5\" style=\"fill: #1f77b4; stroke: #1f77b4\"/>\n     <use xlink:href=\"#m61b8cc1ef9\" x=\"111.78412\" y=\"72.43624\" style=\"fill: #1f77b4; stroke: #1f77b4\"/>\n     <use xlink:href=\"#m61b8cc1ef9\" x=\"174.082584\" y=\"100.224451\" style=\"fill: #1f77b4; stroke: #1f77b4\"/>\n     <use xlink:href=\"#m61b8cc1ef9\" x=\"161.656862\" y=\"88.594478\" style=\"fill: #1f77b4; stroke: #1f77b4\"/>\n     <use xlink:href=\"#m61b8cc1ef9\" x=\"179.814289\" y=\"102.657035\" style=\"fill: #1f77b4; stroke: #1f77b4\"/>\n     <use xlink:href=\"#m61b8cc1ef9\" x=\"87.059959\" y=\"27.059408\" style=\"fill: #1f77b4; stroke: #1f77b4\"/>\n     <use xlink:href=\"#m61b8cc1ef9\" x=\"140.681556\" y=\"82.931896\" style=\"fill: #1f77b4; stroke: #1f77b4\"/>\n     <use xlink:href=\"#m61b8cc1ef9\" x=\"92.391942\" y=\"39.326374\" style=\"fill: #1f77b4; stroke: #1f77b4\"/>\n     <use xlink:href=\"#m61b8cc1ef9\" x=\"155.346162\" y=\"75.980518\" style=\"fill: #1f77b4; stroke: #1f77b4\"/>\n     <use xlink:href=\"#m61b8cc1ef9\" x=\"136.229279\" y=\"64.62846\" style=\"fill: #1f77b4; stroke: #1f77b4\"/>\n     <use xlink:href=\"#m61b8cc1ef9\" x=\"131.992024\" y=\"73.029029\" style=\"fill: #1f77b4; stroke: #1f77b4\"/>\n     <use xlink:href=\"#m61b8cc1ef9\" x=\"147.085214\" y=\"63.417151\" style=\"fill: #1f77b4; stroke: #1f77b4\"/>\n     <use xlink:href=\"#m61b8cc1ef9\" x=\"200.710272\" y=\"107.716884\" style=\"fill: #1f77b4; stroke: #1f77b4\"/>\n     <use xlink:href=\"#m61b8cc1ef9\" x=\"187.575401\" y=\"91.37695\" style=\"fill: #1f77b4; stroke: #1f77b4\"/>\n     <use xlink:href=\"#m61b8cc1ef9\" x=\"190.705976\" y=\"109.000638\" style=\"fill: #1f77b4; stroke: #1f77b4\"/>\n     <use xlink:href=\"#m61b8cc1ef9\" x=\"144.421226\" y=\"84.828671\" style=\"fill: #1f77b4; stroke: #1f77b4\"/>\n     <use xlink:href=\"#m61b8cc1ef9\" x=\"146.930138\" y=\"92.24628\" style=\"fill: #1f77b4; stroke: #1f77b4\"/>\n     <use xlink:href=\"#m61b8cc1ef9\" x=\"124.928038\" y=\"58.937003\" style=\"fill: #1f77b4; stroke: #1f77b4\"/>\n     <use xlink:href=\"#m61b8cc1ef9\" x=\"116.892156\" y=\"52.738331\" style=\"fill: #1f77b4; stroke: #1f77b4\"/>\n     <use xlink:href=\"#m61b8cc1ef9\" x=\"125.465144\" y=\"76.884326\" style=\"fill: #1f77b4; stroke: #1f77b4\"/>\n     <use xlink:href=\"#m61b8cc1ef9\" x=\"109.36917\" y=\"58.135069\" style=\"fill: #1f77b4; stroke: #1f77b4\"/>\n     <use xlink:href=\"#m61b8cc1ef9\" x=\"179.241387\" y=\"92.808408\" style=\"fill: #1f77b4; stroke: #1f77b4\"/>\n     <use xlink:href=\"#m61b8cc1ef9\" x=\"125.682343\" y=\"67.44823\" style=\"fill: #1f77b4; stroke: #1f77b4\"/>\n     <use xlink:href=\"#m61b8cc1ef9\" x=\"155.13079\" y=\"77.196825\" style=\"fill: #1f77b4; stroke: #1f77b4\"/>\n     <use xlink:href=\"#m61b8cc1ef9\" x=\"124.457439\" y=\"60.393182\" style=\"fill: #1f77b4; stroke: #1f77b4\"/>\n     <use xlink:href=\"#m61b8cc1ef9\" x=\"103.615872\" y=\"55.395274\" style=\"fill: #1f77b4; stroke: #1f77b4\"/>\n     <use xlink:href=\"#m61b8cc1ef9\" x=\"151.18423\" y=\"92.617888\" style=\"fill: #1f77b4; stroke: #1f77b4\"/>\n     <use xlink:href=\"#m61b8cc1ef9\" x=\"148.459399\" y=\"83.801625\" style=\"fill: #1f77b4; stroke: #1f77b4\"/>\n     <use xlink:href=\"#m61b8cc1ef9\" x=\"152.862188\" y=\"89.539025\" style=\"fill: #1f77b4; stroke: #1f77b4\"/>\n     <use xlink:href=\"#m61b8cc1ef9\" x=\"183.60323\" y=\"95.151799\" style=\"fill: #1f77b4; stroke: #1f77b4\"/>\n     <use xlink:href=\"#m61b8cc1ef9\" x=\"132.847964\" y=\"79.122244\" style=\"fill: #1f77b4; stroke: #1f77b4\"/>\n     <use xlink:href=\"#m61b8cc1ef9\" x=\"193.056553\" y=\"112.98916\" style=\"fill: #1f77b4; stroke: #1f77b4\"/>\n     <use xlink:href=\"#m61b8cc1ef9\" x=\"159.190391\" y=\"75.481278\" style=\"fill: #1f77b4; stroke: #1f77b4\"/>\n     <use xlink:href=\"#m61b8cc1ef9\" x=\"135.214242\" y=\"62.651364\" style=\"fill: #1f77b4; stroke: #1f77b4\"/>\n     <use xlink:href=\"#m61b8cc1ef9\" x=\"109.701436\" y=\"43.125245\" style=\"fill: #1f77b4; stroke: #1f77b4\"/>\n     <use xlink:href=\"#m61b8cc1ef9\" x=\"173.412968\" y=\"87.816786\" style=\"fill: #1f77b4; stroke: #1f77b4\"/>\n     <use xlink:href=\"#m61b8cc1ef9\" x=\"120.941346\" y=\"54.188858\" style=\"fill: #1f77b4; stroke: #1f77b4\"/>\n     <use xlink:href=\"#m61b8cc1ef9\" x=\"141.292694\" y=\"64.530565\" style=\"fill: #1f77b4; stroke: #1f77b4\"/>\n     <use xlink:href=\"#m61b8cc1ef9\" x=\"145.75537\" y=\"68.444526\" style=\"fill: #1f77b4; stroke: #1f77b4\"/>\n     <use xlink:href=\"#m61b8cc1ef9\" x=\"124.718428\" y=\"70.082313\" style=\"fill: #1f77b4; stroke: #1f77b4\"/>\n     <use xlink:href=\"#m61b8cc1ef9\" x=\"134.425212\" y=\"70.991694\" style=\"fill: #1f77b4; stroke: #1f77b4\"/>\n     <use xlink:href=\"#m61b8cc1ef9\" x=\"117.926047\" y=\"51.946888\" style=\"fill: #1f77b4; stroke: #1f77b4\"/>\n     <use xlink:href=\"#m61b8cc1ef9\" x=\"138.342323\" y=\"88.93014\" style=\"fill: #1f77b4; stroke: #1f77b4\"/>\n     <use xlink:href=\"#m61b8cc1ef9\" x=\"174.216729\" y=\"108.195691\" style=\"fill: #1f77b4; stroke: #1f77b4\"/>\n     <use xlink:href=\"#m61b8cc1ef9\" x=\"78.17333\" y=\"53.555696\" style=\"fill: #1f77b4; stroke: #1f77b4\"/>\n     <use xlink:href=\"#m61b8cc1ef9\" x=\"151.098412\" y=\"79.768627\" style=\"fill: #1f77b4; stroke: #1f77b4\"/>\n     <use xlink:href=\"#m61b8cc1ef9\" x=\"94.965967\" y=\"76.146779\" style=\"fill: #1f77b4; stroke: #1f77b4\"/>\n     <use xlink:href=\"#m61b8cc1ef9\" x=\"187.086936\" y=\"97.276826\" style=\"fill: #1f77b4; stroke: #1f77b4\"/>\n     <use xlink:href=\"#m61b8cc1ef9\" x=\"120.404796\" y=\"45.60831\" style=\"fill: #1f77b4; stroke: #1f77b4\"/>\n     <use xlink:href=\"#m61b8cc1ef9\" x=\"120.23445\" y=\"52.85303\" style=\"fill: #1f77b4; stroke: #1f77b4\"/>\n     <use xlink:href=\"#m61b8cc1ef9\" x=\"171.754047\" y=\"97.025115\" style=\"fill: #1f77b4; stroke: #1f77b4\"/>\n     <use xlink:href=\"#m61b8cc1ef9\" x=\"128.4213\" y=\"71.344464\" style=\"fill: #1f77b4; stroke: #1f77b4\"/>\n     <use xlink:href=\"#m61b8cc1ef9\" x=\"115.461967\" y=\"49.652545\" style=\"fill: #1f77b4; stroke: #1f77b4\"/>\n     <use xlink:href=\"#m61b8cc1ef9\" x=\"153.103709\" y=\"84.14053\" style=\"fill: #1f77b4; stroke: #1f77b4\"/>\n     <use xlink:href=\"#m61b8cc1ef9\" x=\"112.632044\" y=\"83.383137\" style=\"fill: #1f77b4; stroke: #1f77b4\"/>\n     <use xlink:href=\"#m61b8cc1ef9\" x=\"144.883365\" y=\"85.779627\" style=\"fill: #1f77b4; stroke: #1f77b4\"/>\n     <use xlink:href=\"#m61b8cc1ef9\" x=\"149.291623\" y=\"92.308478\" style=\"fill: #1f77b4; stroke: #1f77b4\"/>\n     <use xlink:href=\"#m61b8cc1ef9\" x=\"118.84679\" y=\"67.556945\" style=\"fill: #1f77b4; stroke: #1f77b4\"/>\n     <use xlink:href=\"#m61b8cc1ef9\" x=\"162.047602\" y=\"76.456894\" style=\"fill: #1f77b4; stroke: #1f77b4\"/>\n     <use xlink:href=\"#m61b8cc1ef9\" x=\"108.33845\" y=\"61.575263\" style=\"fill: #1f77b4; stroke: #1f77b4\"/>\n     <use xlink:href=\"#m61b8cc1ef9\" x=\"175.703227\" y=\"102.391238\" style=\"fill: #1f77b4; stroke: #1f77b4\"/>\n     <use xlink:href=\"#m61b8cc1ef9\" x=\"149.843307\" y=\"79.696321\" style=\"fill: #1f77b4; stroke: #1f77b4\"/>\n     <use xlink:href=\"#m61b8cc1ef9\" x=\"171.643077\" y=\"116.77327\" style=\"fill: #1f77b4; stroke: #1f77b4\"/>\n     <use xlink:href=\"#m61b8cc1ef9\" x=\"140.428169\" y=\"73.933991\" style=\"fill: #1f77b4; stroke: #1f77b4\"/>\n     <use xlink:href=\"#m61b8cc1ef9\" x=\"86.972306\" y=\"34.226219\" style=\"fill: #1f77b4; stroke: #1f77b4\"/>\n     <use xlink:href=\"#m61b8cc1ef9\" x=\"144.319048\" y=\"73.614241\" style=\"fill: #1f77b4; stroke: #1f77b4\"/>\n     <use xlink:href=\"#m61b8cc1ef9\" x=\"163.153585\" y=\"91.375003\" style=\"fill: #1f77b4; stroke: #1f77b4\"/>\n     <use xlink:href=\"#m61b8cc1ef9\" x=\"142.057136\" y=\"73.654391\" style=\"fill: #1f77b4; stroke: #1f77b4\"/>\n     <use xlink:href=\"#m61b8cc1ef9\" x=\"117.86459\" y=\"46.031866\" style=\"fill: #1f77b4; stroke: #1f77b4\"/>\n     <use xlink:href=\"#m61b8cc1ef9\" x=\"155.024768\" y=\"93.026832\" style=\"fill: #1f77b4; stroke: #1f77b4\"/>\n     <use xlink:href=\"#m61b8cc1ef9\" x=\"147.0013\" y=\"73.027267\" style=\"fill: #1f77b4; stroke: #1f77b4\"/>\n     <use xlink:href=\"#m61b8cc1ef9\" x=\"165.713218\" y=\"77.08796\" style=\"fill: #1f77b4; stroke: #1f77b4\"/>\n     <use xlink:href=\"#m61b8cc1ef9\" x=\"144.488355\" y=\"72.449384\" style=\"fill: #1f77b4; stroke: #1f77b4\"/>\n     <use xlink:href=\"#m61b8cc1ef9\" x=\"150.767277\" y=\"97.944958\" style=\"fill: #1f77b4; stroke: #1f77b4\"/>\n     <use xlink:href=\"#m61b8cc1ef9\" x=\"136.831164\" y=\"80.788728\" style=\"fill: #1f77b4; stroke: #1f77b4\"/>\n     <use xlink:href=\"#m61b8cc1ef9\" x=\"192.285717\" y=\"131.451022\" style=\"fill: #1f77b4; stroke: #1f77b4\"/>\n     <use xlink:href=\"#m61b8cc1ef9\" x=\"109.702464\" y=\"61.889332\" style=\"fill: #1f77b4; stroke: #1f77b4\"/>\n     <use xlink:href=\"#m61b8cc1ef9\" x=\"142.48248\" y=\"70.89155\" style=\"fill: #1f77b4; stroke: #1f77b4\"/>\n     <use xlink:href=\"#m61b8cc1ef9\" x=\"172.571731\" y=\"94.173937\" style=\"fill: #1f77b4; stroke: #1f77b4\"/>\n     <use xlink:href=\"#m61b8cc1ef9\" x=\"183.872686\" y=\"105.217746\" style=\"fill: #1f77b4; stroke: #1f77b4\"/>\n     <use xlink:href=\"#m61b8cc1ef9\" x=\"101.149184\" y=\"48.996077\" style=\"fill: #1f77b4; stroke: #1f77b4\"/>\n     <use xlink:href=\"#m61b8cc1ef9\" x=\"147.424905\" y=\"57.682167\" style=\"fill: #1f77b4; stroke: #1f77b4\"/>\n     <use xlink:href=\"#m61b8cc1ef9\" x=\"156.488583\" y=\"68.096175\" style=\"fill: #1f77b4; stroke: #1f77b4\"/>\n     <use xlink:href=\"#m61b8cc1ef9\" x=\"172.096172\" y=\"85.342661\" style=\"fill: #1f77b4; stroke: #1f77b4\"/>\n     <use xlink:href=\"#m61b8cc1ef9\" x=\"107.428752\" y=\"59.716477\" style=\"fill: #1f77b4; stroke: #1f77b4\"/>\n     <use xlink:href=\"#m61b8cc1ef9\" x=\"91.228033\" y=\"38.240217\" style=\"fill: #1f77b4; stroke: #1f77b4\"/>\n     <use xlink:href=\"#m61b8cc1ef9\" x=\"123.475572\" y=\"57.699454\" style=\"fill: #1f77b4; stroke: #1f77b4\"/>\n     <use xlink:href=\"#m61b8cc1ef9\" x=\"135.01872\" y=\"89.119651\" style=\"fill: #1f77b4; stroke: #1f77b4\"/>\n     <use xlink:href=\"#m61b8cc1ef9\" x=\"116.558606\" y=\"52.609217\" style=\"fill: #1f77b4; stroke: #1f77b4\"/>\n     <use xlink:href=\"#m61b8cc1ef9\" x=\"124.717819\" y=\"69.589574\" style=\"fill: #1f77b4; stroke: #1f77b4\"/>\n     <use xlink:href=\"#m61b8cc1ef9\" x=\"162.348541\" y=\"87.227921\" style=\"fill: #1f77b4; stroke: #1f77b4\"/>\n     <use xlink:href=\"#m61b8cc1ef9\" x=\"137.736809\" y=\"70.628749\" style=\"fill: #1f77b4; stroke: #1f77b4\"/>\n     <use xlink:href=\"#m61b8cc1ef9\" x=\"142.295949\" y=\"79.162543\" style=\"fill: #1f77b4; stroke: #1f77b4\"/>\n     <use xlink:href=\"#m61b8cc1ef9\" x=\"122.727233\" y=\"57.337599\" style=\"fill: #1f77b4; stroke: #1f77b4\"/>\n     <use xlink:href=\"#m61b8cc1ef9\" x=\"138.961721\" y=\"65.566999\" style=\"fill: #1f77b4; stroke: #1f77b4\"/>\n     <use xlink:href=\"#m61b8cc1ef9\" x=\"123.126525\" y=\"79.363278\" style=\"fill: #1f77b4; stroke: #1f77b4\"/>\n     <use xlink:href=\"#m61b8cc1ef9\" x=\"141.65846\" y=\"77.853216\" style=\"fill: #1f77b4; stroke: #1f77b4\"/>\n     <use xlink:href=\"#m61b8cc1ef9\" x=\"134.240943\" y=\"77.887465\" style=\"fill: #1f77b4; stroke: #1f77b4\"/>\n     <use xlink:href=\"#m61b8cc1ef9\" x=\"138.023141\" y=\"56.409544\" style=\"fill: #1f77b4; stroke: #1f77b4\"/>\n     <use xlink:href=\"#m61b8cc1ef9\" x=\"126.027192\" y=\"83.985665\" style=\"fill: #1f77b4; stroke: #1f77b4\"/>\n     <use xlink:href=\"#m61b8cc1ef9\" x=\"158.998512\" y=\"89.851917\" style=\"fill: #1f77b4; stroke: #1f77b4\"/>\n     <use xlink:href=\"#m61b8cc1ef9\" x=\"114.253233\" y=\"51.54253\" style=\"fill: #1f77b4; stroke: #1f77b4\"/>\n     <use xlink:href=\"#m61b8cc1ef9\" x=\"150.609594\" y=\"66.123583\" style=\"fill: #1f77b4; stroke: #1f77b4\"/>\n     <use xlink:href=\"#m61b8cc1ef9\" x=\"144.300284\" y=\"68.565252\" style=\"fill: #1f77b4; stroke: #1f77b4\"/>\n     <use xlink:href=\"#m61b8cc1ef9\" x=\"138.232055\" y=\"81.056\" style=\"fill: #1f77b4; stroke: #1f77b4\"/>\n     <use xlink:href=\"#m61b8cc1ef9\" x=\"185.597755\" y=\"93.254919\" style=\"fill: #1f77b4; stroke: #1f77b4\"/>\n     <use xlink:href=\"#m61b8cc1ef9\" x=\"154.57021\" y=\"71.41483\" style=\"fill: #1f77b4; stroke: #1f77b4\"/>\n     <use xlink:href=\"#m61b8cc1ef9\" x=\"143.028001\" y=\"80.633079\" style=\"fill: #1f77b4; stroke: #1f77b4\"/>\n     <use xlink:href=\"#m61b8cc1ef9\" x=\"144.532275\" y=\"75.297766\" style=\"fill: #1f77b4; stroke: #1f77b4\"/>\n     <use xlink:href=\"#m61b8cc1ef9\" x=\"104.026677\" y=\"61.530857\" style=\"fill: #1f77b4; stroke: #1f77b4\"/>\n     <use xlink:href=\"#m61b8cc1ef9\" x=\"144.958694\" y=\"87.682618\" style=\"fill: #1f77b4; stroke: #1f77b4\"/>\n     <use xlink:href=\"#m61b8cc1ef9\" x=\"112.421434\" y=\"52.462811\" style=\"fill: #1f77b4; stroke: #1f77b4\"/>\n     <use xlink:href=\"#m61b8cc1ef9\" x=\"174.159407\" y=\"95.854959\" style=\"fill: #1f77b4; stroke: #1f77b4\"/>\n     <use xlink:href=\"#m61b8cc1ef9\" x=\"116.350961\" y=\"72.08264\" style=\"fill: #1f77b4; stroke: #1f77b4\"/>\n     <use xlink:href=\"#m61b8cc1ef9\" x=\"99.52935\" y=\"53.695862\" style=\"fill: #1f77b4; stroke: #1f77b4\"/>\n     <use xlink:href=\"#m61b8cc1ef9\" x=\"101.669477\" y=\"61.857133\" style=\"fill: #1f77b4; stroke: #1f77b4\"/>\n     <use xlink:href=\"#m61b8cc1ef9\" x=\"132.285216\" y=\"52.988134\" style=\"fill: #1f77b4; stroke: #1f77b4\"/>\n     <use xlink:href=\"#m61b8cc1ef9\" x=\"193.305667\" y=\"101.821644\" style=\"fill: #1f77b4; stroke: #1f77b4\"/>\n     <use xlink:href=\"#m61b8cc1ef9\" x=\"150.276357\" y=\"77.716402\" style=\"fill: #1f77b4; stroke: #1f77b4\"/>\n     <use xlink:href=\"#m61b8cc1ef9\" x=\"119.911855\" y=\"71.896902\" style=\"fill: #1f77b4; stroke: #1f77b4\"/>\n     <use xlink:href=\"#m61b8cc1ef9\" x=\"98.615993\" y=\"44.612719\" style=\"fill: #1f77b4; stroke: #1f77b4\"/>\n     <use xlink:href=\"#m61b8cc1ef9\" x=\"145.71466\" y=\"74.163723\" style=\"fill: #1f77b4; stroke: #1f77b4\"/>\n     <use xlink:href=\"#m61b8cc1ef9\" x=\"152.435035\" y=\"70.451735\" style=\"fill: #1f77b4; stroke: #1f77b4\"/>\n     <use xlink:href=\"#m61b8cc1ef9\" x=\"166.923997\" y=\"87.803958\" style=\"fill: #1f77b4; stroke: #1f77b4\"/>\n     <use xlink:href=\"#m61b8cc1ef9\" x=\"138.985993\" y=\"71.314448\" style=\"fill: #1f77b4; stroke: #1f77b4\"/>\n     <use xlink:href=\"#m61b8cc1ef9\" x=\"160.602925\" y=\"82.3375\" style=\"fill: #1f77b4; stroke: #1f77b4\"/>\n     <use xlink:href=\"#m61b8cc1ef9\" x=\"131.043456\" y=\"80.340749\" style=\"fill: #1f77b4; stroke: #1f77b4\"/>\n     <use xlink:href=\"#m61b8cc1ef9\" x=\"173.995766\" y=\"107.60595\" style=\"fill: #1f77b4; stroke: #1f77b4\"/>\n     <use xlink:href=\"#m61b8cc1ef9\" x=\"147.157404\" y=\"89.93761\" style=\"fill: #1f77b4; stroke: #1f77b4\"/>\n     <use xlink:href=\"#m61b8cc1ef9\" x=\"157.297434\" y=\"76.447881\" style=\"fill: #1f77b4; stroke: #1f77b4\"/>\n     <use xlink:href=\"#m61b8cc1ef9\" x=\"153.051254\" y=\"67.816938\" style=\"fill: #1f77b4; stroke: #1f77b4\"/>\n     <use xlink:href=\"#m61b8cc1ef9\" x=\"147.599463\" y=\"88.930897\" style=\"fill: #1f77b4; stroke: #1f77b4\"/>\n     <use xlink:href=\"#m61b8cc1ef9\" x=\"152.903033\" y=\"78.597019\" style=\"fill: #1f77b4; stroke: #1f77b4\"/>\n     <use xlink:href=\"#m61b8cc1ef9\" x=\"120.865597\" y=\"90.50187\" style=\"fill: #1f77b4; stroke: #1f77b4\"/>\n     <use xlink:href=\"#m61b8cc1ef9\" x=\"136.379623\" y=\"69.739889\" style=\"fill: #1f77b4; stroke: #1f77b4\"/>\n     <use xlink:href=\"#m61b8cc1ef9\" x=\"149.621698\" y=\"84.700912\" style=\"fill: #1f77b4; stroke: #1f77b4\"/>\n     <use xlink:href=\"#m61b8cc1ef9\" x=\"173.962394\" y=\"103.219557\" style=\"fill: #1f77b4; stroke: #1f77b4\"/>\n     <use xlink:href=\"#m61b8cc1ef9\" x=\"148.656792\" y=\"92.416877\" style=\"fill: #1f77b4; stroke: #1f77b4\"/>\n     <use xlink:href=\"#m61b8cc1ef9\" x=\"104.230006\" y=\"56.022124\" style=\"fill: #1f77b4; stroke: #1f77b4\"/>\n     <use xlink:href=\"#m61b8cc1ef9\" x=\"151.607831\" y=\"73.494549\" style=\"fill: #1f77b4; stroke: #1f77b4\"/>\n     <use xlink:href=\"#m61b8cc1ef9\" x=\"118.278288\" y=\"71.435973\" style=\"fill: #1f77b4; stroke: #1f77b4\"/>\n     <use xlink:href=\"#m61b8cc1ef9\" x=\"110.159625\" y=\"59.05208\" style=\"fill: #1f77b4; stroke: #1f77b4\"/>\n     <use xlink:href=\"#m61b8cc1ef9\" x=\"118.168837\" y=\"63.464675\" style=\"fill: #1f77b4; stroke: #1f77b4\"/>\n     <use xlink:href=\"#m61b8cc1ef9\" x=\"114.487714\" y=\"53.336211\" style=\"fill: #1f77b4; stroke: #1f77b4\"/>\n     <use xlink:href=\"#m61b8cc1ef9\" x=\"122.99903\" y=\"70.024787\" style=\"fill: #1f77b4; stroke: #1f77b4\"/>\n     <use xlink:href=\"#m61b8cc1ef9\" x=\"221.727415\" y=\"124.603843\" style=\"fill: #1f77b4; stroke: #1f77b4\"/>\n     <use xlink:href=\"#m61b8cc1ef9\" x=\"160.189697\" y=\"87.727305\" style=\"fill: #1f77b4; stroke: #1f77b4\"/>\n     <use xlink:href=\"#m61b8cc1ef9\" x=\"155.842722\" y=\"87.187193\" style=\"fill: #1f77b4; stroke: #1f77b4\"/>\n     <use xlink:href=\"#m61b8cc1ef9\" x=\"81.941565\" y=\"46.553986\" style=\"fill: #1f77b4; stroke: #1f77b4\"/>\n     <use xlink:href=\"#m61b8cc1ef9\" x=\"151.477115\" y=\"94.454259\" style=\"fill: #1f77b4; stroke: #1f77b4\"/>\n     <use xlink:href=\"#m61b8cc1ef9\" x=\"152.344046\" y=\"87.608973\" style=\"fill: #1f77b4; stroke: #1f77b4\"/>\n     <use xlink:href=\"#m61b8cc1ef9\" x=\"134.498659\" y=\"76.938722\" style=\"fill: #1f77b4; stroke: #1f77b4\"/>\n     <use xlink:href=\"#m61b8cc1ef9\" x=\"120.672741\" y=\"64.552373\" style=\"fill: #1f77b4; stroke: #1f77b4\"/>\n     <use xlink:href=\"#m61b8cc1ef9\" x=\"94.143406\" y=\"61.15977\" style=\"fill: #1f77b4; stroke: #1f77b4\"/>\n     <use xlink:href=\"#m61b8cc1ef9\" x=\"144.812694\" y=\"82.800428\" style=\"fill: #1f77b4; stroke: #1f77b4\"/>\n     <use xlink:href=\"#m61b8cc1ef9\" x=\"125.960656\" y=\"81.47112\" style=\"fill: #1f77b4; stroke: #1f77b4\"/>\n     <use xlink:href=\"#m61b8cc1ef9\" x=\"125.817104\" y=\"67.37847\" style=\"fill: #1f77b4; stroke: #1f77b4\"/>\n     <use xlink:href=\"#m61b8cc1ef9\" x=\"153.222906\" y=\"85.359602\" style=\"fill: #1f77b4; stroke: #1f77b4\"/>\n     <use xlink:href=\"#m61b8cc1ef9\" x=\"108.765317\" y=\"59.064745\" style=\"fill: #1f77b4; stroke: #1f77b4\"/>\n     <use xlink:href=\"#m61b8cc1ef9\" x=\"184.905094\" y=\"117.740671\" style=\"fill: #1f77b4; stroke: #1f77b4\"/>\n     <use xlink:href=\"#m61b8cc1ef9\" x=\"151.436093\" y=\"87.632584\" style=\"fill: #1f77b4; stroke: #1f77b4\"/>\n     <use xlink:href=\"#m61b8cc1ef9\" x=\"124.097875\" y=\"81.062743\" style=\"fill: #1f77b4; stroke: #1f77b4\"/>\n     <use xlink:href=\"#m61b8cc1ef9\" x=\"128.007959\" y=\"65.975205\" style=\"fill: #1f77b4; stroke: #1f77b4\"/>\n     <use xlink:href=\"#m61b8cc1ef9\" x=\"151.91666\" y=\"78.179329\" style=\"fill: #1f77b4; stroke: #1f77b4\"/>\n     <use xlink:href=\"#m61b8cc1ef9\" x=\"161.84107\" y=\"81.260607\" style=\"fill: #1f77b4; stroke: #1f77b4\"/>\n     <use xlink:href=\"#m61b8cc1ef9\" x=\"132.91895\" y=\"71.611494\" style=\"fill: #1f77b4; stroke: #1f77b4\"/>\n     <use xlink:href=\"#m61b8cc1ef9\" x=\"115.838005\" y=\"70.546604\" style=\"fill: #1f77b4; stroke: #1f77b4\"/>\n     <use xlink:href=\"#m61b8cc1ef9\" x=\"130.834216\" y=\"50.789066\" style=\"fill: #1f77b4; stroke: #1f77b4\"/>\n     <use xlink:href=\"#m61b8cc1ef9\" x=\"140.040876\" y=\"85.867684\" style=\"fill: #1f77b4; stroke: #1f77b4\"/>\n     <use xlink:href=\"#m61b8cc1ef9\" x=\"140.397263\" y=\"66.741831\" style=\"fill: #1f77b4; stroke: #1f77b4\"/>\n     <use xlink:href=\"#m61b8cc1ef9\" x=\"160.759942\" y=\"96.270789\" style=\"fill: #1f77b4; stroke: #1f77b4\"/>\n     <use xlink:href=\"#m61b8cc1ef9\" x=\"124.202738\" y=\"78.618203\" style=\"fill: #1f77b4; stroke: #1f77b4\"/>\n     <use xlink:href=\"#m61b8cc1ef9\" x=\"135.117748\" y=\"53.263471\" style=\"fill: #1f77b4; stroke: #1f77b4\"/>\n     <use xlink:href=\"#m61b8cc1ef9\" x=\"168.111628\" y=\"91.160127\" style=\"fill: #1f77b4; stroke: #1f77b4\"/>\n     <use xlink:href=\"#m61b8cc1ef9\" x=\"138.95347\" y=\"74.238794\" style=\"fill: #1f77b4; stroke: #1f77b4\"/>\n     <use xlink:href=\"#m61b8cc1ef9\" x=\"166.432073\" y=\"96.403124\" style=\"fill: #1f77b4; stroke: #1f77b4\"/>\n     <use xlink:href=\"#m61b8cc1ef9\" x=\"118.477751\" y=\"73.06472\" style=\"fill: #1f77b4; stroke: #1f77b4\"/>\n     <use xlink:href=\"#m61b8cc1ef9\" x=\"138.882211\" y=\"84.427821\" style=\"fill: #1f77b4; stroke: #1f77b4\"/>\n     <use xlink:href=\"#m61b8cc1ef9\" x=\"162.740537\" y=\"103.396705\" style=\"fill: #1f77b4; stroke: #1f77b4\"/>\n     <use xlink:href=\"#m61b8cc1ef9\" x=\"132.490221\" y=\"59.557593\" style=\"fill: #1f77b4; stroke: #1f77b4\"/>\n     <use xlink:href=\"#m61b8cc1ef9\" x=\"186.971717\" y=\"93.886477\" style=\"fill: #1f77b4; stroke: #1f77b4\"/>\n     <use xlink:href=\"#m61b8cc1ef9\" x=\"107.037115\" y=\"56.899257\" style=\"fill: #1f77b4; stroke: #1f77b4\"/>\n     <use xlink:href=\"#m61b8cc1ef9\" x=\"130.118817\" y=\"69.168991\" style=\"fill: #1f77b4; stroke: #1f77b4\"/>\n     <use xlink:href=\"#m61b8cc1ef9\" x=\"186.952111\" y=\"93.608389\" style=\"fill: #1f77b4; stroke: #1f77b4\"/>\n     <use xlink:href=\"#m61b8cc1ef9\" x=\"184.035798\" y=\"106.191484\" style=\"fill: #1f77b4; stroke: #1f77b4\"/>\n     <use xlink:href=\"#m61b8cc1ef9\" x=\"155.910835\" y=\"83.637191\" style=\"fill: #1f77b4; stroke: #1f77b4\"/>\n     <use xlink:href=\"#m61b8cc1ef9\" x=\"113.337983\" y=\"65.078025\" style=\"fill: #1f77b4; stroke: #1f77b4\"/>\n     <use xlink:href=\"#m61b8cc1ef9\" x=\"137.589834\" y=\"86.164592\" style=\"fill: #1f77b4; stroke: #1f77b4\"/>\n     <use xlink:href=\"#m61b8cc1ef9\" x=\"112.460205\" y=\"50.941749\" style=\"fill: #1f77b4; stroke: #1f77b4\"/>\n     <use xlink:href=\"#m61b8cc1ef9\" x=\"147.540203\" y=\"68.10306\" style=\"fill: #1f77b4; stroke: #1f77b4\"/>\n     <use xlink:href=\"#m61b8cc1ef9\" x=\"92.341229\" y=\"39.821515\" style=\"fill: #1f77b4; stroke: #1f77b4\"/>\n     <use xlink:href=\"#m61b8cc1ef9\" x=\"66.619557\" y=\"42.110294\" style=\"fill: #1f77b4; stroke: #1f77b4\"/>\n     <use xlink:href=\"#m61b8cc1ef9\" x=\"157.071095\" y=\"87.088005\" style=\"fill: #1f77b4; stroke: #1f77b4\"/>\n     <use xlink:href=\"#m61b8cc1ef9\" x=\"161.784664\" y=\"98.440027\" style=\"fill: #1f77b4; stroke: #1f77b4\"/>\n     <use xlink:href=\"#m61b8cc1ef9\" x=\"145.992586\" y=\"83.006614\" style=\"fill: #1f77b4; stroke: #1f77b4\"/>\n     <use xlink:href=\"#m61b8cc1ef9\" x=\"141.493393\" y=\"83.900174\" style=\"fill: #1f77b4; stroke: #1f77b4\"/>\n     <use xlink:href=\"#m61b8cc1ef9\" x=\"137.217587\" y=\"73.581605\" style=\"fill: #1f77b4; stroke: #1f77b4\"/>\n     <use xlink:href=\"#m61b8cc1ef9\" x=\"153.166098\" y=\"85.874737\" style=\"fill: #1f77b4; stroke: #1f77b4\"/>\n     <use xlink:href=\"#m61b8cc1ef9\" x=\"169.93655\" y=\"90.096788\" style=\"fill: #1f77b4; stroke: #1f77b4\"/>\n     <use xlink:href=\"#m61b8cc1ef9\" x=\"179.619443\" y=\"101.235072\" style=\"fill: #1f77b4; stroke: #1f77b4\"/>\n     <use xlink:href=\"#m61b8cc1ef9\" x=\"158.224274\" y=\"79.538042\" style=\"fill: #1f77b4; stroke: #1f77b4\"/>\n     <use xlink:href=\"#m61b8cc1ef9\" x=\"114.908\" y=\"77.874217\" style=\"fill: #1f77b4; stroke: #1f77b4\"/>\n     <use xlink:href=\"#m61b8cc1ef9\" x=\"134.999843\" y=\"76.067858\" style=\"fill: #1f77b4; stroke: #1f77b4\"/>\n     <use xlink:href=\"#m61b8cc1ef9\" x=\"148.299681\" y=\"85.937891\" style=\"fill: #1f77b4; stroke: #1f77b4\"/>\n     <use xlink:href=\"#m61b8cc1ef9\" x=\"166.617904\" y=\"108.111588\" style=\"fill: #1f77b4; stroke: #1f77b4\"/>\n     <use xlink:href=\"#m61b8cc1ef9\" x=\"160.12065\" y=\"90.385631\" style=\"fill: #1f77b4; stroke: #1f77b4\"/>\n     <use xlink:href=\"#m61b8cc1ef9\" x=\"148.323193\" y=\"79.233272\" style=\"fill: #1f77b4; stroke: #1f77b4\"/>\n     <use xlink:href=\"#m61b8cc1ef9\" x=\"148.525419\" y=\"80.375655\" style=\"fill: #1f77b4; stroke: #1f77b4\"/>\n     <use xlink:href=\"#m61b8cc1ef9\" x=\"123.988503\" y=\"42.597688\" style=\"fill: #1f77b4; stroke: #1f77b4\"/>\n     <use xlink:href=\"#m61b8cc1ef9\" x=\"134.680104\" y=\"76.051369\" style=\"fill: #1f77b4; stroke: #1f77b4\"/>\n     <use xlink:href=\"#m61b8cc1ef9\" x=\"101.846199\" y=\"64.810587\" style=\"fill: #1f77b4; stroke: #1f77b4\"/>\n     <use xlink:href=\"#m61b8cc1ef9\" x=\"124.556027\" y=\"67.748966\" style=\"fill: #1f77b4; stroke: #1f77b4\"/>\n     <use xlink:href=\"#m61b8cc1ef9\" x=\"123.768151\" y=\"73.168928\" style=\"fill: #1f77b4; stroke: #1f77b4\"/>\n     <use xlink:href=\"#m61b8cc1ef9\" x=\"104.968814\" y=\"62.345896\" style=\"fill: #1f77b4; stroke: #1f77b4\"/>\n     <use xlink:href=\"#m61b8cc1ef9\" x=\"125.268126\" y=\"51.046565\" style=\"fill: #1f77b4; stroke: #1f77b4\"/>\n     <use xlink:href=\"#m61b8cc1ef9\" x=\"183.404807\" y=\"104.846978\" style=\"fill: #1f77b4; stroke: #1f77b4\"/>\n     <use xlink:href=\"#m61b8cc1ef9\" x=\"146.052714\" y=\"88.298099\" style=\"fill: #1f77b4; stroke: #1f77b4\"/>\n     <use xlink:href=\"#m61b8cc1ef9\" x=\"154.651149\" y=\"81.080641\" style=\"fill: #1f77b4; stroke: #1f77b4\"/>\n     <use xlink:href=\"#m61b8cc1ef9\" x=\"185.291271\" y=\"82.183693\" style=\"fill: #1f77b4; stroke: #1f77b4\"/>\n     <use xlink:href=\"#m61b8cc1ef9\" x=\"103.165894\" y=\"47.091894\" style=\"fill: #1f77b4; stroke: #1f77b4\"/>\n     <use xlink:href=\"#m61b8cc1ef9\" x=\"116.284696\" y=\"77.13738\" style=\"fill: #1f77b4; stroke: #1f77b4\"/>\n     <use xlink:href=\"#m61b8cc1ef9\" x=\"135.806051\" y=\"79.261182\" style=\"fill: #1f77b4; stroke: #1f77b4\"/>\n     <use xlink:href=\"#m61b8cc1ef9\" x=\"126.46085\" y=\"54.931423\" style=\"fill: #1f77b4; stroke: #1f77b4\"/>\n     <use xlink:href=\"#m61b8cc1ef9\" x=\"178.21506\" y=\"94.585363\" style=\"fill: #1f77b4; stroke: #1f77b4\"/>\n     <use xlink:href=\"#m61b8cc1ef9\" x=\"126.238304\" y=\"78.99713\" style=\"fill: #1f77b4; stroke: #1f77b4\"/>\n     <use xlink:href=\"#m61b8cc1ef9\" x=\"145.876002\" y=\"95.99217\" style=\"fill: #1f77b4; stroke: #1f77b4\"/>\n     <use xlink:href=\"#m61b8cc1ef9\" x=\"156.734254\" y=\"99.729229\" style=\"fill: #1f77b4; stroke: #1f77b4\"/>\n     <use xlink:href=\"#m61b8cc1ef9\" x=\"146.534091\" y=\"78.768372\" style=\"fill: #1f77b4; stroke: #1f77b4\"/>\n     <use xlink:href=\"#m61b8cc1ef9\" x=\"155.935574\" y=\"78.926447\" style=\"fill: #1f77b4; stroke: #1f77b4\"/>\n     <use xlink:href=\"#m61b8cc1ef9\" x=\"156.266037\" y=\"106.778089\" style=\"fill: #1f77b4; stroke: #1f77b4\"/>\n     <use xlink:href=\"#m61b8cc1ef9\" x=\"152.108617\" y=\"91.333644\" style=\"fill: #1f77b4; stroke: #1f77b4\"/>\n     <use xlink:href=\"#m61b8cc1ef9\" x=\"161.723537\" y=\"99.32058\" style=\"fill: #1f77b4; stroke: #1f77b4\"/>\n     <use xlink:href=\"#m61b8cc1ef9\" x=\"186.47583\" y=\"109.655548\" style=\"fill: #1f77b4; stroke: #1f77b4\"/>\n     <use xlink:href=\"#m61b8cc1ef9\" x=\"119.684155\" y=\"69.123969\" style=\"fill: #1f77b4; stroke: #1f77b4\"/>\n     <use xlink:href=\"#m61b8cc1ef9\" x=\"161.382395\" y=\"87.425523\" style=\"fill: #1f77b4; stroke: #1f77b4\"/>\n     <use xlink:href=\"#m61b8cc1ef9\" x=\"98.663573\" y=\"52.058423\" style=\"fill: #1f77b4; stroke: #1f77b4\"/>\n     <use xlink:href=\"#m61b8cc1ef9\" x=\"82.211162\" y=\"31.991882\" style=\"fill: #1f77b4; stroke: #1f77b4\"/>\n     <use xlink:href=\"#m61b8cc1ef9\" x=\"161.936172\" y=\"88.157375\" style=\"fill: #1f77b4; stroke: #1f77b4\"/>\n     <use xlink:href=\"#m61b8cc1ef9\" x=\"102.272635\" y=\"63.343585\" style=\"fill: #1f77b4; stroke: #1f77b4\"/>\n     <use xlink:href=\"#m61b8cc1ef9\" x=\"100.29406\" y=\"72.544103\" style=\"fill: #1f77b4; stroke: #1f77b4\"/>\n     <use xlink:href=\"#m61b8cc1ef9\" x=\"156.297537\" y=\"102.59159\" style=\"fill: #1f77b4; stroke: #1f77b4\"/>\n     <use xlink:href=\"#m61b8cc1ef9\" x=\"123.722864\" y=\"56.142498\" style=\"fill: #1f77b4; stroke: #1f77b4\"/>\n     <use xlink:href=\"#m61b8cc1ef9\" x=\"127.533356\" y=\"71.849703\" style=\"fill: #1f77b4; stroke: #1f77b4\"/>\n     <use xlink:href=\"#m61b8cc1ef9\" x=\"138.085771\" y=\"64.282054\" style=\"fill: #1f77b4; stroke: #1f77b4\"/>\n     <use xlink:href=\"#m61b8cc1ef9\" x=\"146.193274\" y=\"75.048104\" style=\"fill: #1f77b4; stroke: #1f77b4\"/>\n     <use xlink:href=\"#m61b8cc1ef9\" x=\"135.406294\" y=\"68.21959\" style=\"fill: #1f77b4; stroke: #1f77b4\"/>\n     <use xlink:href=\"#m61b8cc1ef9\" x=\"160.92611\" y=\"92.94268\" style=\"fill: #1f77b4; stroke: #1f77b4\"/>\n     <use xlink:href=\"#m61b8cc1ef9\" x=\"194.16346\" y=\"98.960737\" style=\"fill: #1f77b4; stroke: #1f77b4\"/>\n     <use xlink:href=\"#m61b8cc1ef9\" x=\"149.083919\" y=\"94.273943\" style=\"fill: #1f77b4; stroke: #1f77b4\"/>\n     <use xlink:href=\"#m61b8cc1ef9\" x=\"116.540734\" y=\"71.717826\" style=\"fill: #1f77b4; stroke: #1f77b4\"/>\n     <use xlink:href=\"#m61b8cc1ef9\" x=\"214.195658\" y=\"100.555498\" style=\"fill: #1f77b4; stroke: #1f77b4\"/>\n     <use xlink:href=\"#m61b8cc1ef9\" x=\"115.245782\" y=\"52.366609\" style=\"fill: #1f77b4; stroke: #1f77b4\"/>\n     <use xlink:href=\"#m61b8cc1ef9\" x=\"97.572848\" y=\"49.610016\" style=\"fill: #1f77b4; stroke: #1f77b4\"/>\n     <use xlink:href=\"#m61b8cc1ef9\" x=\"188.224562\" y=\"111.736764\" style=\"fill: #1f77b4; stroke: #1f77b4\"/>\n     <use xlink:href=\"#m61b8cc1ef9\" x=\"94.71531\" y=\"26.576987\" style=\"fill: #1f77b4; stroke: #1f77b4\"/>\n     <use xlink:href=\"#m61b8cc1ef9\" x=\"158.96365\" y=\"88.943134\" style=\"fill: #1f77b4; stroke: #1f77b4\"/>\n     <use xlink:href=\"#m61b8cc1ef9\" x=\"179.911776\" y=\"97.914374\" style=\"fill: #1f77b4; stroke: #1f77b4\"/>\n     <use xlink:href=\"#m61b8cc1ef9\" x=\"139.878638\" y=\"75.455329\" style=\"fill: #1f77b4; stroke: #1f77b4\"/>\n     <use xlink:href=\"#m61b8cc1ef9\" x=\"160.635431\" y=\"92.638115\" style=\"fill: #1f77b4; stroke: #1f77b4\"/>\n     <use xlink:href=\"#m61b8cc1ef9\" x=\"132.935367\" y=\"83.565803\" style=\"fill: #1f77b4; stroke: #1f77b4\"/>\n     <use xlink:href=\"#m61b8cc1ef9\" x=\"122.848031\" y=\"61.005201\" style=\"fill: #1f77b4; stroke: #1f77b4\"/>\n     <use xlink:href=\"#m61b8cc1ef9\" x=\"130.626041\" y=\"75.356101\" style=\"fill: #1f77b4; stroke: #1f77b4\"/>\n     <use xlink:href=\"#m61b8cc1ef9\" x=\"180.996766\" y=\"102.588743\" style=\"fill: #1f77b4; stroke: #1f77b4\"/>\n     <use xlink:href=\"#m61b8cc1ef9\" x=\"141.686558\" y=\"76.852488\" style=\"fill: #1f77b4; stroke: #1f77b4\"/>\n     <use xlink:href=\"#m61b8cc1ef9\" x=\"149.794446\" y=\"71.275802\" style=\"fill: #1f77b4; stroke: #1f77b4\"/>\n     <use xlink:href=\"#m61b8cc1ef9\" x=\"129.381928\" y=\"78.491065\" style=\"fill: #1f77b4; stroke: #1f77b4\"/>\n     <use xlink:href=\"#m61b8cc1ef9\" x=\"171.745175\" y=\"90.290076\" style=\"fill: #1f77b4; stroke: #1f77b4\"/>\n     <use xlink:href=\"#m61b8cc1ef9\" x=\"144.729821\" y=\"77.100774\" style=\"fill: #1f77b4; stroke: #1f77b4\"/>\n     <use xlink:href=\"#m61b8cc1ef9\" x=\"112.867981\" y=\"48.015433\" style=\"fill: #1f77b4; stroke: #1f77b4\"/>\n     <use xlink:href=\"#m61b8cc1ef9\" x=\"83.138547\" y=\"62.771906\" style=\"fill: #1f77b4; stroke: #1f77b4\"/>\n     <use xlink:href=\"#m61b8cc1ef9\" x=\"152.942983\" y=\"73.918469\" style=\"fill: #1f77b4; stroke: #1f77b4\"/>\n     <use xlink:href=\"#m61b8cc1ef9\" x=\"174.050967\" y=\"101.99138\" style=\"fill: #1f77b4; stroke: #1f77b4\"/>\n     <use xlink:href=\"#m61b8cc1ef9\" x=\"163.523378\" y=\"85.747569\" style=\"fill: #1f77b4; stroke: #1f77b4\"/>\n     <use xlink:href=\"#m61b8cc1ef9\" x=\"179.794132\" y=\"100.653809\" style=\"fill: #1f77b4; stroke: #1f77b4\"/>\n     <use xlink:href=\"#m61b8cc1ef9\" x=\"176.70204\" y=\"99.221852\" style=\"fill: #1f77b4; stroke: #1f77b4\"/>\n     <use xlink:href=\"#m61b8cc1ef9\" x=\"115.022598\" y=\"55.656064\" style=\"fill: #1f77b4; stroke: #1f77b4\"/>\n     <use xlink:href=\"#m61b8cc1ef9\" x=\"128.463263\" y=\"64.944939\" style=\"fill: #1f77b4; stroke: #1f77b4\"/>\n     <use xlink:href=\"#m61b8cc1ef9\" x=\"138.312028\" y=\"79.853504\" style=\"fill: #1f77b4; stroke: #1f77b4\"/>\n     <use xlink:href=\"#m61b8cc1ef9\" x=\"150.623949\" y=\"72.04302\" style=\"fill: #1f77b4; stroke: #1f77b4\"/>\n     <use xlink:href=\"#m61b8cc1ef9\" x=\"152.42609\" y=\"87.824186\" style=\"fill: #1f77b4; stroke: #1f77b4\"/>\n     <use xlink:href=\"#m61b8cc1ef9\" x=\"111.230879\" y=\"47.224283\" style=\"fill: #1f77b4; stroke: #1f77b4\"/>\n     <use xlink:href=\"#m61b8cc1ef9\" x=\"127.647595\" y=\"63.105047\" style=\"fill: #1f77b4; stroke: #1f77b4\"/>\n     <use xlink:href=\"#m61b8cc1ef9\" x=\"150.268173\" y=\"94.818884\" style=\"fill: #1f77b4; stroke: #1f77b4\"/>\n     <use xlink:href=\"#m61b8cc1ef9\" x=\"127.616156\" y=\"60.42927\" style=\"fill: #1f77b4; stroke: #1f77b4\"/>\n     <use xlink:href=\"#m61b8cc1ef9\" x=\"105.69068\" y=\"65.317079\" style=\"fill: #1f77b4; stroke: #1f77b4\"/>\n     <use xlink:href=\"#m61b8cc1ef9\" x=\"152.841592\" y=\"85.393001\" style=\"fill: #1f77b4; stroke: #1f77b4\"/>\n     <use xlink:href=\"#m61b8cc1ef9\" x=\"154.517068\" y=\"77.499568\" style=\"fill: #1f77b4; stroke: #1f77b4\"/>\n     <use xlink:href=\"#m61b8cc1ef9\" x=\"135.028088\" y=\"75.86932\" style=\"fill: #1f77b4; stroke: #1f77b4\"/>\n     <use xlink:href=\"#m61b8cc1ef9\" x=\"162.99623\" y=\"98.720733\" style=\"fill: #1f77b4; stroke: #1f77b4\"/>\n     <use xlink:href=\"#m61b8cc1ef9\" x=\"137.059209\" y=\"64.575158\" style=\"fill: #1f77b4; stroke: #1f77b4\"/>\n     <use xlink:href=\"#m61b8cc1ef9\" x=\"115.346592\" y=\"50.905987\" style=\"fill: #1f77b4; stroke: #1f77b4\"/>\n     <use xlink:href=\"#m61b8cc1ef9\" x=\"104.442591\" y=\"55.840551\" style=\"fill: #1f77b4; stroke: #1f77b4\"/>\n     <use xlink:href=\"#m61b8cc1ef9\" x=\"118.44025\" y=\"70.381074\" style=\"fill: #1f77b4; stroke: #1f77b4\"/>\n     <use xlink:href=\"#m61b8cc1ef9\" x=\"122.418617\" y=\"68.866902\" style=\"fill: #1f77b4; stroke: #1f77b4\"/>\n     <use xlink:href=\"#m61b8cc1ef9\" x=\"182.693956\" y=\"100.489865\" style=\"fill: #1f77b4; stroke: #1f77b4\"/>\n     <use xlink:href=\"#m61b8cc1ef9\" x=\"106.508515\" y=\"65.504692\" style=\"fill: #1f77b4; stroke: #1f77b4\"/>\n     <use xlink:href=\"#m61b8cc1ef9\" x=\"123.037375\" y=\"71.087187\" style=\"fill: #1f77b4; stroke: #1f77b4\"/>\n     <use xlink:href=\"#m61b8cc1ef9\" x=\"136.908205\" y=\"64.212009\" style=\"fill: #1f77b4; stroke: #1f77b4\"/>\n     <use xlink:href=\"#m61b8cc1ef9\" x=\"93.085707\" y=\"45.385699\" style=\"fill: #1f77b4; stroke: #1f77b4\"/>\n     <use xlink:href=\"#m61b8cc1ef9\" x=\"177.986423\" y=\"99.603852\" style=\"fill: #1f77b4; stroke: #1f77b4\"/>\n     <use xlink:href=\"#m61b8cc1ef9\" x=\"87.832845\" y=\"37.68795\" style=\"fill: #1f77b4; stroke: #1f77b4\"/>\n     <use xlink:href=\"#m61b8cc1ef9\" x=\"160.860969\" y=\"89.897351\" style=\"fill: #1f77b4; stroke: #1f77b4\"/>\n     <use xlink:href=\"#m61b8cc1ef9\" x=\"130.53737\" y=\"65.768774\" style=\"fill: #1f77b4; stroke: #1f77b4\"/>\n     <use xlink:href=\"#m61b8cc1ef9\" x=\"183.783725\" y=\"87.362516\" style=\"fill: #1f77b4; stroke: #1f77b4\"/>\n     <use xlink:href=\"#m61b8cc1ef9\" x=\"131.550767\" y=\"81.607568\" style=\"fill: #1f77b4; stroke: #1f77b4\"/>\n     <use xlink:href=\"#m61b8cc1ef9\" x=\"131.864586\" y=\"48.178059\" style=\"fill: #1f77b4; stroke: #1f77b4\"/>\n     <use xlink:href=\"#m61b8cc1ef9\" x=\"130.442847\" y=\"82.882906\" style=\"fill: #1f77b4; stroke: #1f77b4\"/>\n     <use xlink:href=\"#m61b8cc1ef9\" x=\"179.843438\" y=\"110.647832\" style=\"fill: #1f77b4; stroke: #1f77b4\"/>\n     <use xlink:href=\"#m61b8cc1ef9\" x=\"126.971186\" y=\"68.022488\" style=\"fill: #1f77b4; stroke: #1f77b4\"/>\n     <use xlink:href=\"#m61b8cc1ef9\" x=\"134.753491\" y=\"75.068497\" style=\"fill: #1f77b4; stroke: #1f77b4\"/>\n     <use xlink:href=\"#m61b8cc1ef9\" x=\"178.923661\" y=\"93.925054\" style=\"fill: #1f77b4; stroke: #1f77b4\"/>\n     <use xlink:href=\"#m61b8cc1ef9\" x=\"106.156834\" y=\"64.488183\" style=\"fill: #1f77b4; stroke: #1f77b4\"/>\n     <use xlink:href=\"#m61b8cc1ef9\" x=\"169.431087\" y=\"102.389214\" style=\"fill: #1f77b4; stroke: #1f77b4\"/>\n     <use xlink:href=\"#m61b8cc1ef9\" x=\"82.46786\" y=\"35.083381\" style=\"fill: #1f77b4; stroke: #1f77b4\"/>\n     <use xlink:href=\"#m61b8cc1ef9\" x=\"174.18476\" y=\"108.805861\" style=\"fill: #1f77b4; stroke: #1f77b4\"/>\n     <use xlink:href=\"#m61b8cc1ef9\" x=\"140.605809\" y=\"73.144119\" style=\"fill: #1f77b4; stroke: #1f77b4\"/>\n     <use xlink:href=\"#m61b8cc1ef9\" x=\"101.686247\" y=\"68.643598\" style=\"fill: #1f77b4; stroke: #1f77b4\"/>\n     <use xlink:href=\"#m61b8cc1ef9\" x=\"134.580428\" y=\"59.271837\" style=\"fill: #1f77b4; stroke: #1f77b4\"/>\n     <use xlink:href=\"#m61b8cc1ef9\" x=\"192.575537\" y=\"111.491056\" style=\"fill: #1f77b4; stroke: #1f77b4\"/>\n     <use xlink:href=\"#m61b8cc1ef9\" x=\"149.747587\" y=\"83.926947\" style=\"fill: #1f77b4; stroke: #1f77b4\"/>\n     <use xlink:href=\"#m61b8cc1ef9\" x=\"122.760928\" y=\"71.963793\" style=\"fill: #1f77b4; stroke: #1f77b4\"/>\n     <use xlink:href=\"#m61b8cc1ef9\" x=\"109.732089\" y=\"62.744158\" style=\"fill: #1f77b4; stroke: #1f77b4\"/>\n     <use xlink:href=\"#m61b8cc1ef9\" x=\"102.567361\" y=\"44.646243\" style=\"fill: #1f77b4; stroke: #1f77b4\"/>\n     <use xlink:href=\"#m61b8cc1ef9\" x=\"135.360747\" y=\"86.255699\" style=\"fill: #1f77b4; stroke: #1f77b4\"/>\n     <use xlink:href=\"#m61b8cc1ef9\" x=\"179.678877\" y=\"102.347418\" style=\"fill: #1f77b4; stroke: #1f77b4\"/>\n     <use xlink:href=\"#m61b8cc1ef9\" x=\"158.801731\" y=\"88.92425\" style=\"fill: #1f77b4; stroke: #1f77b4\"/>\n     <use xlink:href=\"#m61b8cc1ef9\" x=\"123.857542\" y=\"65.240211\" style=\"fill: #1f77b4; stroke: #1f77b4\"/>\n     <use xlink:href=\"#m61b8cc1ef9\" x=\"44.18196\" y=\"36.424679\" style=\"fill: #1f77b4; stroke: #1f77b4\"/>\n     <use xlink:href=\"#m61b8cc1ef9\" x=\"129.845577\" y=\"70.224643\" style=\"fill: #1f77b4; stroke: #1f77b4\"/>\n     <use xlink:href=\"#m61b8cc1ef9\" x=\"132.332496\" y=\"71.118286\" style=\"fill: #1f77b4; stroke: #1f77b4\"/>\n     <use xlink:href=\"#m61b8cc1ef9\" x=\"178.040266\" y=\"94.96585\" style=\"fill: #1f77b4; stroke: #1f77b4\"/>\n     <use xlink:href=\"#m61b8cc1ef9\" x=\"154.195224\" y=\"80.008042\" style=\"fill: #1f77b4; stroke: #1f77b4\"/>\n     <use xlink:href=\"#m61b8cc1ef9\" x=\"198.126819\" y=\"110.165995\" style=\"fill: #1f77b4; stroke: #1f77b4\"/>\n     <use xlink:href=\"#m61b8cc1ef9\" x=\"157.313696\" y=\"73.172889\" style=\"fill: #1f77b4; stroke: #1f77b4\"/>\n     <use xlink:href=\"#m61b8cc1ef9\" x=\"139.338822\" y=\"67.134883\" style=\"fill: #1f77b4; stroke: #1f77b4\"/>\n     <use xlink:href=\"#m61b8cc1ef9\" x=\"112.984274\" y=\"74.377104\" style=\"fill: #1f77b4; stroke: #1f77b4\"/>\n     <use xlink:href=\"#m61b8cc1ef9\" x=\"94.580518\" y=\"63.627103\" style=\"fill: #1f77b4; stroke: #1f77b4\"/>\n     <use xlink:href=\"#m61b8cc1ef9\" x=\"200.199258\" y=\"95.341319\" style=\"fill: #1f77b4; stroke: #1f77b4\"/>\n     <use xlink:href=\"#m61b8cc1ef9\" x=\"190.734498\" y=\"103.538904\" style=\"fill: #1f77b4; stroke: #1f77b4\"/>\n     <use xlink:href=\"#m61b8cc1ef9\" x=\"131.156752\" y=\"59.658363\" style=\"fill: #1f77b4; stroke: #1f77b4\"/>\n     <use xlink:href=\"#m61b8cc1ef9\" x=\"131.054708\" y=\"64.270588\" style=\"fill: #1f77b4; stroke: #1f77b4\"/>\n     <use xlink:href=\"#m61b8cc1ef9\" x=\"157.802309\" y=\"87.916603\" style=\"fill: #1f77b4; stroke: #1f77b4\"/>\n     <use xlink:href=\"#m61b8cc1ef9\" x=\"127.511791\" y=\"88.36457\" style=\"fill: #1f77b4; stroke: #1f77b4\"/>\n     <use xlink:href=\"#m61b8cc1ef9\" x=\"138.673147\" y=\"82.02103\" style=\"fill: #1f77b4; stroke: #1f77b4\"/>\n     <use xlink:href=\"#m61b8cc1ef9\" x=\"150.9622\" y=\"79.0328\" style=\"fill: #1f77b4; stroke: #1f77b4\"/>\n     <use xlink:href=\"#m61b8cc1ef9\" x=\"103.76806\" y=\"53.23608\" style=\"fill: #1f77b4; stroke: #1f77b4\"/>\n     <use xlink:href=\"#m61b8cc1ef9\" x=\"129.031916\" y=\"91.1405\" style=\"fill: #1f77b4; stroke: #1f77b4\"/>\n     <use xlink:href=\"#m61b8cc1ef9\" x=\"107.996671\" y=\"62.342624\" style=\"fill: #1f77b4; stroke: #1f77b4\"/>\n     <use xlink:href=\"#m61b8cc1ef9\" x=\"161.195131\" y=\"97.434023\" style=\"fill: #1f77b4; stroke: #1f77b4\"/>\n     <use xlink:href=\"#m61b8cc1ef9\" x=\"131.215865\" y=\"63.036837\" style=\"fill: #1f77b4; stroke: #1f77b4\"/>\n     <use xlink:href=\"#m61b8cc1ef9\" x=\"137.704744\" y=\"80.793259\" style=\"fill: #1f77b4; stroke: #1f77b4\"/>\n     <use xlink:href=\"#m61b8cc1ef9\" x=\"147.19863\" y=\"81.951607\" style=\"fill: #1f77b4; stroke: #1f77b4\"/>\n     <use xlink:href=\"#m61b8cc1ef9\" x=\"139.132256\" y=\"60.932317\" style=\"fill: #1f77b4; stroke: #1f77b4\"/>\n     <use xlink:href=\"#m61b8cc1ef9\" x=\"152.818842\" y=\"83.102238\" style=\"fill: #1f77b4; stroke: #1f77b4\"/>\n     <use xlink:href=\"#m61b8cc1ef9\" x=\"202.141223\" y=\"110.401577\" style=\"fill: #1f77b4; stroke: #1f77b4\"/>\n     <use xlink:href=\"#m61b8cc1ef9\" x=\"99.362351\" y=\"50.089225\" style=\"fill: #1f77b4; stroke: #1f77b4\"/>\n     <use xlink:href=\"#m61b8cc1ef9\" x=\"144.746751\" y=\"91.47667\" style=\"fill: #1f77b4; stroke: #1f77b4\"/>\n     <use xlink:href=\"#m61b8cc1ef9\" x=\"155.213645\" y=\"80.313914\" style=\"fill: #1f77b4; stroke: #1f77b4\"/>\n     <use xlink:href=\"#m61b8cc1ef9\" x=\"149.594887\" y=\"78.080065\" style=\"fill: #1f77b4; stroke: #1f77b4\"/>\n     <use xlink:href=\"#m61b8cc1ef9\" x=\"192.311651\" y=\"97.846472\" style=\"fill: #1f77b4; stroke: #1f77b4\"/>\n     <use xlink:href=\"#m61b8cc1ef9\" x=\"158.730895\" y=\"85.567568\" style=\"fill: #1f77b4; stroke: #1f77b4\"/>\n     <use xlink:href=\"#m61b8cc1ef9\" x=\"81.999243\" y=\"44.154848\" style=\"fill: #1f77b4; stroke: #1f77b4\"/>\n     <use xlink:href=\"#m61b8cc1ef9\" x=\"158.589799\" y=\"91.301545\" style=\"fill: #1f77b4; stroke: #1f77b4\"/>\n     <use xlink:href=\"#m61b8cc1ef9\" x=\"137.140423\" y=\"62.942818\" style=\"fill: #1f77b4; stroke: #1f77b4\"/>\n     <use xlink:href=\"#m61b8cc1ef9\" x=\"157.738304\" y=\"94.80228\" style=\"fill: #1f77b4; stroke: #1f77b4\"/>\n     <use xlink:href=\"#m61b8cc1ef9\" x=\"152.337562\" y=\"81.160765\" style=\"fill: #1f77b4; stroke: #1f77b4\"/>\n     <use xlink:href=\"#m61b8cc1ef9\" x=\"159.234316\" y=\"86.195444\" style=\"fill: #1f77b4; stroke: #1f77b4\"/>\n     <use xlink:href=\"#m61b8cc1ef9\" x=\"195.40935\" y=\"98.681125\" style=\"fill: #1f77b4; stroke: #1f77b4\"/>\n     <use xlink:href=\"#m61b8cc1ef9\" x=\"160.805188\" y=\"83.619714\" style=\"fill: #1f77b4; stroke: #1f77b4\"/>\n     <use xlink:href=\"#m61b8cc1ef9\" x=\"136.863895\" y=\"70.668147\" style=\"fill: #1f77b4; stroke: #1f77b4\"/>\n     <use xlink:href=\"#m61b8cc1ef9\" x=\"176.469151\" y=\"109.687296\" style=\"fill: #1f77b4; stroke: #1f77b4\"/>\n     <use xlink:href=\"#m61b8cc1ef9\" x=\"150.569485\" y=\"74.599681\" style=\"fill: #1f77b4; stroke: #1f77b4\"/>\n     <use xlink:href=\"#m61b8cc1ef9\" x=\"144.816429\" y=\"90.99919\" style=\"fill: #1f77b4; stroke: #1f77b4\"/>\n     <use xlink:href=\"#m61b8cc1ef9\" x=\"154.550561\" y=\"85.464875\" style=\"fill: #1f77b4; stroke: #1f77b4\"/>\n     <use xlink:href=\"#m61b8cc1ef9\" x=\"168.851797\" y=\"92.547119\" style=\"fill: #1f77b4; stroke: #1f77b4\"/>\n     <use xlink:href=\"#m61b8cc1ef9\" x=\"158.533061\" y=\"96.10449\" style=\"fill: #1f77b4; stroke: #1f77b4\"/>\n     <use xlink:href=\"#m61b8cc1ef9\" x=\"169.719259\" y=\"92.871975\" style=\"fill: #1f77b4; stroke: #1f77b4\"/>\n     <use xlink:href=\"#m61b8cc1ef9\" x=\"153.54184\" y=\"82.934238\" style=\"fill: #1f77b4; stroke: #1f77b4\"/>\n     <use xlink:href=\"#m61b8cc1ef9\" x=\"171.150383\" y=\"80.888364\" style=\"fill: #1f77b4; stroke: #1f77b4\"/>\n     <use xlink:href=\"#m61b8cc1ef9\" x=\"71.903517\" y=\"39.67742\" style=\"fill: #1f77b4; stroke: #1f77b4\"/>\n     <use xlink:href=\"#m61b8cc1ef9\" x=\"133.65035\" y=\"82.850351\" style=\"fill: #1f77b4; stroke: #1f77b4\"/>\n     <use xlink:href=\"#m61b8cc1ef9\" x=\"106.536062\" y=\"39.595816\" style=\"fill: #1f77b4; stroke: #1f77b4\"/>\n     <use xlink:href=\"#m61b8cc1ef9\" x=\"124.228179\" y=\"65.3255\" style=\"fill: #1f77b4; stroke: #1f77b4\"/>\n     <use xlink:href=\"#m61b8cc1ef9\" x=\"112.645191\" y=\"57.703217\" style=\"fill: #1f77b4; stroke: #1f77b4\"/>\n     <use xlink:href=\"#m61b8cc1ef9\" x=\"154.978223\" y=\"86.977454\" style=\"fill: #1f77b4; stroke: #1f77b4\"/>\n     <use xlink:href=\"#m61b8cc1ef9\" x=\"139.190538\" y=\"77.4835\" style=\"fill: #1f77b4; stroke: #1f77b4\"/>\n     <use xlink:href=\"#m61b8cc1ef9\" x=\"162.02764\" y=\"74.459496\" style=\"fill: #1f77b4; stroke: #1f77b4\"/>\n     <use xlink:href=\"#m61b8cc1ef9\" x=\"153.757187\" y=\"89.245175\" style=\"fill: #1f77b4; stroke: #1f77b4\"/>\n     <use xlink:href=\"#m61b8cc1ef9\" x=\"141.058266\" y=\"74.743455\" style=\"fill: #1f77b4; stroke: #1f77b4\"/>\n     <use xlink:href=\"#m61b8cc1ef9\" x=\"138.590161\" y=\"69.590094\" style=\"fill: #1f77b4; stroke: #1f77b4\"/>\n     <use xlink:href=\"#m61b8cc1ef9\" x=\"169.611602\" y=\"79.649909\" style=\"fill: #1f77b4; stroke: #1f77b4\"/>\n     <use xlink:href=\"#m61b8cc1ef9\" x=\"137.715771\" y=\"72.960463\" style=\"fill: #1f77b4; stroke: #1f77b4\"/>\n     <use xlink:href=\"#m61b8cc1ef9\" x=\"122.127144\" y=\"64.526845\" style=\"fill: #1f77b4; stroke: #1f77b4\"/>\n     <use xlink:href=\"#m61b8cc1ef9\" x=\"160.582231\" y=\"97.507463\" style=\"fill: #1f77b4; stroke: #1f77b4\"/>\n     <use xlink:href=\"#m61b8cc1ef9\" x=\"129.819659\" y=\"85.715569\" style=\"fill: #1f77b4; stroke: #1f77b4\"/>\n     <use xlink:href=\"#m61b8cc1ef9\" x=\"196.736424\" y=\"91.050569\" style=\"fill: #1f77b4; stroke: #1f77b4\"/>\n     <use xlink:href=\"#m61b8cc1ef9\" x=\"133.557455\" y=\"69.385796\" style=\"fill: #1f77b4; stroke: #1f77b4\"/>\n     <use xlink:href=\"#m61b8cc1ef9\" x=\"166.571765\" y=\"98.598753\" style=\"fill: #1f77b4; stroke: #1f77b4\"/>\n     <use xlink:href=\"#m61b8cc1ef9\" x=\"169.800439\" y=\"96.436316\" style=\"fill: #1f77b4; stroke: #1f77b4\"/>\n     <use xlink:href=\"#m61b8cc1ef9\" x=\"94.589464\" y=\"55.365733\" style=\"fill: #1f77b4; stroke: #1f77b4\"/>\n     <use xlink:href=\"#m61b8cc1ef9\" x=\"163.488251\" y=\"102.611978\" style=\"fill: #1f77b4; stroke: #1f77b4\"/>\n     <use xlink:href=\"#m61b8cc1ef9\" x=\"188.019435\" y=\"104.278664\" style=\"fill: #1f77b4; stroke: #1f77b4\"/>\n     <use xlink:href=\"#m61b8cc1ef9\" x=\"149.608276\" y=\"84.966795\" style=\"fill: #1f77b4; stroke: #1f77b4\"/>\n     <use xlink:href=\"#m61b8cc1ef9\" x=\"146.744368\" y=\"91.090395\" style=\"fill: #1f77b4; stroke: #1f77b4\"/>\n     <use xlink:href=\"#m61b8cc1ef9\" x=\"130.729076\" y=\"71.013224\" style=\"fill: #1f77b4; stroke: #1f77b4\"/>\n     <use xlink:href=\"#m61b8cc1ef9\" x=\"138.206556\" y=\"78.100129\" style=\"fill: #1f77b4; stroke: #1f77b4\"/>\n     <use xlink:href=\"#m61b8cc1ef9\" x=\"161.993404\" y=\"83.371933\" style=\"fill: #1f77b4; stroke: #1f77b4\"/>\n     <use xlink:href=\"#m61b8cc1ef9\" x=\"142.027285\" y=\"66.857197\" style=\"fill: #1f77b4; stroke: #1f77b4\"/>\n     <use xlink:href=\"#m61b8cc1ef9\" x=\"130.694964\" y=\"74.041722\" style=\"fill: #1f77b4; stroke: #1f77b4\"/>\n     <use xlink:href=\"#m61b8cc1ef9\" x=\"126.865071\" y=\"61.733495\" style=\"fill: #1f77b4; stroke: #1f77b4\"/>\n     <use xlink:href=\"#m61b8cc1ef9\" x=\"143.84248\" y=\"78.4182\" style=\"fill: #1f77b4; stroke: #1f77b4\"/>\n     <use xlink:href=\"#m61b8cc1ef9\" x=\"137.679995\" y=\"74.657712\" style=\"fill: #1f77b4; stroke: #1f77b4\"/>\n     <use xlink:href=\"#m61b8cc1ef9\" x=\"121.903474\" y=\"73.250315\" style=\"fill: #1f77b4; stroke: #1f77b4\"/>\n     <use xlink:href=\"#m61b8cc1ef9\" x=\"89.612896\" y=\"41.849194\" style=\"fill: #1f77b4; stroke: #1f77b4\"/>\n     <use xlink:href=\"#m61b8cc1ef9\" x=\"154.823284\" y=\"89.42249\" style=\"fill: #1f77b4; stroke: #1f77b4\"/>\n     <use xlink:href=\"#m61b8cc1ef9\" x=\"144.121841\" y=\"66.748009\" style=\"fill: #1f77b4; stroke: #1f77b4\"/>\n     <use xlink:href=\"#m61b8cc1ef9\" x=\"130.376011\" y=\"59.148299\" style=\"fill: #1f77b4; stroke: #1f77b4\"/>\n     <use xlink:href=\"#m61b8cc1ef9\" x=\"146.427487\" y=\"67.180124\" style=\"fill: #1f77b4; stroke: #1f77b4\"/>\n     <use xlink:href=\"#m61b8cc1ef9\" x=\"162.573135\" y=\"81.765253\" style=\"fill: #1f77b4; stroke: #1f77b4\"/>\n     <use xlink:href=\"#m61b8cc1ef9\" x=\"128.457906\" y=\"81.940589\" style=\"fill: #1f77b4; stroke: #1f77b4\"/>\n     <use xlink:href=\"#m61b8cc1ef9\" x=\"141.888375\" y=\"84.692107\" style=\"fill: #1f77b4; stroke: #1f77b4\"/>\n     <use xlink:href=\"#m61b8cc1ef9\" x=\"120.98676\" y=\"47.995708\" style=\"fill: #1f77b4; stroke: #1f77b4\"/>\n     <use xlink:href=\"#m61b8cc1ef9\" x=\"114.473696\" y=\"49.103378\" style=\"fill: #1f77b4; stroke: #1f77b4\"/>\n     <use xlink:href=\"#m61b8cc1ef9\" x=\"102.744445\" y=\"45.663657\" style=\"fill: #1f77b4; stroke: #1f77b4\"/>\n     <use xlink:href=\"#m61b8cc1ef9\" x=\"200.685977\" y=\"108.335936\" style=\"fill: #1f77b4; stroke: #1f77b4\"/>\n     <use xlink:href=\"#m61b8cc1ef9\" x=\"123.894752\" y=\"75.838676\" style=\"fill: #1f77b4; stroke: #1f77b4\"/>\n     <use xlink:href=\"#m61b8cc1ef9\" x=\"149.607199\" y=\"70.421961\" style=\"fill: #1f77b4; stroke: #1f77b4\"/>\n     <use xlink:href=\"#m61b8cc1ef9\" x=\"165.630714\" y=\"80.200262\" style=\"fill: #1f77b4; stroke: #1f77b4\"/>\n     <use xlink:href=\"#m61b8cc1ef9\" x=\"177.824751\" y=\"86.439185\" style=\"fill: #1f77b4; stroke: #1f77b4\"/>\n     <use xlink:href=\"#m61b8cc1ef9\" x=\"182.70143\" y=\"104.325473\" style=\"fill: #1f77b4; stroke: #1f77b4\"/>\n     <use xlink:href=\"#m61b8cc1ef9\" x=\"202.444457\" y=\"120.223437\" style=\"fill: #1f77b4; stroke: #1f77b4\"/>\n     <use xlink:href=\"#m61b8cc1ef9\" x=\"166.359189\" y=\"98.754279\" style=\"fill: #1f77b4; stroke: #1f77b4\"/>\n     <use xlink:href=\"#m61b8cc1ef9\" x=\"120.283048\" y=\"71.284968\" style=\"fill: #1f77b4; stroke: #1f77b4\"/>\n     <use xlink:href=\"#m61b8cc1ef9\" x=\"150.49316\" y=\"71.06932\" style=\"fill: #1f77b4; stroke: #1f77b4\"/>\n     <use xlink:href=\"#m61b8cc1ef9\" x=\"190.062908\" y=\"98.599198\" style=\"fill: #1f77b4; stroke: #1f77b4\"/>\n     <use xlink:href=\"#m61b8cc1ef9\" x=\"181.95126\" y=\"114.396723\" style=\"fill: #1f77b4; stroke: #1f77b4\"/>\n     <use xlink:href=\"#m61b8cc1ef9\" x=\"156.09044\" y=\"89.465176\" style=\"fill: #1f77b4; stroke: #1f77b4\"/>\n     <use xlink:href=\"#m61b8cc1ef9\" x=\"115.211202\" y=\"44.001762\" style=\"fill: #1f77b4; stroke: #1f77b4\"/>\n     <use xlink:href=\"#m61b8cc1ef9\" x=\"115.339602\" y=\"47.564192\" style=\"fill: #1f77b4; stroke: #1f77b4\"/>\n     <use xlink:href=\"#m61b8cc1ef9\" x=\"133.995282\" y=\"74.92395\" style=\"fill: #1f77b4; stroke: #1f77b4\"/>\n     <use xlink:href=\"#m61b8cc1ef9\" x=\"176.208536\" y=\"103.387739\" style=\"fill: #1f77b4; stroke: #1f77b4\"/>\n     <use xlink:href=\"#m61b8cc1ef9\" x=\"150.894724\" y=\"86.582665\" style=\"fill: #1f77b4; stroke: #1f77b4\"/>\n     <use xlink:href=\"#m61b8cc1ef9\" x=\"148.647319\" y=\"73.633144\" style=\"fill: #1f77b4; stroke: #1f77b4\"/>\n     <use xlink:href=\"#m61b8cc1ef9\" x=\"116.982125\" y=\"46.534691\" style=\"fill: #1f77b4; stroke: #1f77b4\"/>\n     <use xlink:href=\"#m61b8cc1ef9\" x=\"177.428002\" y=\"87.204316\" style=\"fill: #1f77b4; stroke: #1f77b4\"/>\n     <use xlink:href=\"#m61b8cc1ef9\" x=\"147.724469\" y=\"77.915259\" style=\"fill: #1f77b4; stroke: #1f77b4\"/>\n     <use xlink:href=\"#m61b8cc1ef9\" x=\"140.81807\" y=\"74.529908\" style=\"fill: #1f77b4; stroke: #1f77b4\"/>\n     <use xlink:href=\"#m61b8cc1ef9\" x=\"180.5555\" y=\"110.48103\" style=\"fill: #1f77b4; stroke: #1f77b4\"/>\n     <use xlink:href=\"#m61b8cc1ef9\" x=\"181.552648\" y=\"92.340986\" style=\"fill: #1f77b4; stroke: #1f77b4\"/>\n     <use xlink:href=\"#m61b8cc1ef9\" x=\"133.789705\" y=\"60.736167\" style=\"fill: #1f77b4; stroke: #1f77b4\"/>\n     <use xlink:href=\"#m61b8cc1ef9\" x=\"152.76694\" y=\"84.479201\" style=\"fill: #1f77b4; stroke: #1f77b4\"/>\n     <use xlink:href=\"#m61b8cc1ef9\" x=\"167.691382\" y=\"77.50565\" style=\"fill: #1f77b4; stroke: #1f77b4\"/>\n     <use xlink:href=\"#m61b8cc1ef9\" x=\"151.010037\" y=\"64.113788\" style=\"fill: #1f77b4; stroke: #1f77b4\"/>\n     <use xlink:href=\"#m61b8cc1ef9\" x=\"102.095443\" y=\"76.207015\" style=\"fill: #1f77b4; stroke: #1f77b4\"/>\n     <use xlink:href=\"#m61b8cc1ef9\" x=\"107.961735\" y=\"56.81166\" style=\"fill: #1f77b4; stroke: #1f77b4\"/>\n     <use xlink:href=\"#m61b8cc1ef9\" x=\"139.9236\" y=\"81.63054\" style=\"fill: #1f77b4; stroke: #1f77b4\"/>\n     <use xlink:href=\"#m61b8cc1ef9\" x=\"162.144626\" y=\"72.477174\" style=\"fill: #1f77b4; stroke: #1f77b4\"/>\n     <use xlink:href=\"#m61b8cc1ef9\" x=\"153.374529\" y=\"87.19816\" style=\"fill: #1f77b4; stroke: #1f77b4\"/>\n     <use xlink:href=\"#m61b8cc1ef9\" x=\"174.926252\" y=\"98.371261\" style=\"fill: #1f77b4; stroke: #1f77b4\"/>\n     <use xlink:href=\"#m61b8cc1ef9\" x=\"117.669533\" y=\"63.140465\" style=\"fill: #1f77b4; stroke: #1f77b4\"/>\n     <use xlink:href=\"#m61b8cc1ef9\" x=\"143.507293\" y=\"68.410666\" style=\"fill: #1f77b4; stroke: #1f77b4\"/>\n     <use xlink:href=\"#m61b8cc1ef9\" x=\"166.311369\" y=\"81.748572\" style=\"fill: #1f77b4; stroke: #1f77b4\"/>\n     <use xlink:href=\"#m61b8cc1ef9\" x=\"106.034741\" y=\"52.574818\" style=\"fill: #1f77b4; stroke: #1f77b4\"/>\n     <use xlink:href=\"#m61b8cc1ef9\" x=\"134.937222\" y=\"66.942672\" style=\"fill: #1f77b4; stroke: #1f77b4\"/>\n     <use xlink:href=\"#m61b8cc1ef9\" x=\"120.579589\" y=\"58.977968\" style=\"fill: #1f77b4; stroke: #1f77b4\"/>\n     <use xlink:href=\"#m61b8cc1ef9\" x=\"119.01624\" y=\"71.05902\" style=\"fill: #1f77b4; stroke: #1f77b4\"/>\n     <use xlink:href=\"#m61b8cc1ef9\" x=\"127.514828\" y=\"60.993113\" style=\"fill: #1f77b4; stroke: #1f77b4\"/>\n     <use xlink:href=\"#m61b8cc1ef9\" x=\"142.376921\" y=\"92.663946\" style=\"fill: #1f77b4; stroke: #1f77b4\"/>\n     <use xlink:href=\"#m61b8cc1ef9\" x=\"145.513617\" y=\"74.735749\" style=\"fill: #1f77b4; stroke: #1f77b4\"/>\n     <use xlink:href=\"#m61b8cc1ef9\" x=\"190.46231\" y=\"104.024228\" style=\"fill: #1f77b4; stroke: #1f77b4\"/>\n     <use xlink:href=\"#m61b8cc1ef9\" x=\"128.436433\" y=\"61.86172\" style=\"fill: #1f77b4; stroke: #1f77b4\"/>\n     <use xlink:href=\"#m61b8cc1ef9\" x=\"167.651787\" y=\"95.579273\" style=\"fill: #1f77b4; stroke: #1f77b4\"/>\n     <use xlink:href=\"#m61b8cc1ef9\" x=\"161.454467\" y=\"87.828688\" style=\"fill: #1f77b4; stroke: #1f77b4\"/>\n     <use xlink:href=\"#m61b8cc1ef9\" x=\"125.656009\" y=\"54.257465\" style=\"fill: #1f77b4; stroke: #1f77b4\"/>\n     <use xlink:href=\"#m61b8cc1ef9\" x=\"184.834837\" y=\"98.830243\" style=\"fill: #1f77b4; stroke: #1f77b4\"/>\n     <use xlink:href=\"#m61b8cc1ef9\" x=\"108.239394\" y=\"68.69909\" style=\"fill: #1f77b4; stroke: #1f77b4\"/>\n     <use xlink:href=\"#m61b8cc1ef9\" x=\"119.64269\" y=\"57.192845\" style=\"fill: #1f77b4; stroke: #1f77b4\"/>\n     <use xlink:href=\"#m61b8cc1ef9\" x=\"155.250529\" y=\"74.502691\" style=\"fill: #1f77b4; stroke: #1f77b4\"/>\n     <use xlink:href=\"#m61b8cc1ef9\" x=\"150.977758\" y=\"90.051813\" style=\"fill: #1f77b4; stroke: #1f77b4\"/>\n     <use xlink:href=\"#m61b8cc1ef9\" x=\"181.782149\" y=\"116.269553\" style=\"fill: #1f77b4; stroke: #1f77b4\"/>\n     <use xlink:href=\"#m61b8cc1ef9\" x=\"68.208398\" y=\"41.789303\" style=\"fill: #1f77b4; stroke: #1f77b4\"/>\n     <use xlink:href=\"#m61b8cc1ef9\" x=\"142.093817\" y=\"83.377829\" style=\"fill: #1f77b4; stroke: #1f77b4\"/>\n     <use xlink:href=\"#m61b8cc1ef9\" x=\"148.472746\" y=\"79.015661\" style=\"fill: #1f77b4; stroke: #1f77b4\"/>\n     <use xlink:href=\"#m61b8cc1ef9\" x=\"164.608948\" y=\"82.050049\" style=\"fill: #1f77b4; stroke: #1f77b4\"/>\n     <use xlink:href=\"#m61b8cc1ef9\" x=\"133.318958\" y=\"71.040999\" style=\"fill: #1f77b4; stroke: #1f77b4\"/>\n     <use xlink:href=\"#m61b8cc1ef9\" x=\"145.045749\" y=\"70.295162\" style=\"fill: #1f77b4; stroke: #1f77b4\"/>\n     <use xlink:href=\"#m61b8cc1ef9\" x=\"153.566377\" y=\"86.281069\" style=\"fill: #1f77b4; stroke: #1f77b4\"/>\n     <use xlink:href=\"#m61b8cc1ef9\" x=\"139.062059\" y=\"85.101751\" style=\"fill: #1f77b4; stroke: #1f77b4\"/>\n     <use xlink:href=\"#m61b8cc1ef9\" x=\"137.165279\" y=\"68.294808\" style=\"fill: #1f77b4; stroke: #1f77b4\"/>\n     <use xlink:href=\"#m61b8cc1ef9\" x=\"91.215696\" y=\"48.970687\" style=\"fill: #1f77b4; stroke: #1f77b4\"/>\n     <use xlink:href=\"#m61b8cc1ef9\" x=\"126.711548\" y=\"70.625491\" style=\"fill: #1f77b4; stroke: #1f77b4\"/>\n     <use xlink:href=\"#m61b8cc1ef9\" x=\"148.23757\" y=\"70.232892\" style=\"fill: #1f77b4; stroke: #1f77b4\"/>\n     <use xlink:href=\"#m61b8cc1ef9\" x=\"138.292976\" y=\"76.591842\" style=\"fill: #1f77b4; stroke: #1f77b4\"/>\n     <use xlink:href=\"#m61b8cc1ef9\" x=\"148.662026\" y=\"70.777956\" style=\"fill: #1f77b4; stroke: #1f77b4\"/>\n     <use xlink:href=\"#m61b8cc1ef9\" x=\"151.738471\" y=\"79.04993\" style=\"fill: #1f77b4; stroke: #1f77b4\"/>\n     <use xlink:href=\"#m61b8cc1ef9\" x=\"109.561712\" y=\"44.1001\" style=\"fill: #1f77b4; stroke: #1f77b4\"/>\n     <use xlink:href=\"#m61b8cc1ef9\" x=\"104.000361\" y=\"55.05231\" style=\"fill: #1f77b4; stroke: #1f77b4\"/>\n     <use xlink:href=\"#m61b8cc1ef9\" x=\"132.704667\" y=\"72.545966\" style=\"fill: #1f77b4; stroke: #1f77b4\"/>\n     <use xlink:href=\"#m61b8cc1ef9\" x=\"150.791848\" y=\"87.432752\" style=\"fill: #1f77b4; stroke: #1f77b4\"/>\n     <use xlink:href=\"#m61b8cc1ef9\" x=\"212.7303\" y=\"111.084829\" style=\"fill: #1f77b4; stroke: #1f77b4\"/>\n     <use xlink:href=\"#m61b8cc1ef9\" x=\"177.484704\" y=\"107.955554\" style=\"fill: #1f77b4; stroke: #1f77b4\"/>\n     <use xlink:href=\"#m61b8cc1ef9\" x=\"125.186747\" y=\"78.47593\" style=\"fill: #1f77b4; stroke: #1f77b4\"/>\n     <use xlink:href=\"#m61b8cc1ef9\" x=\"114.757347\" y=\"72.026585\" style=\"fill: #1f77b4; stroke: #1f77b4\"/>\n     <use xlink:href=\"#m61b8cc1ef9\" x=\"178.881777\" y=\"102.469949\" style=\"fill: #1f77b4; stroke: #1f77b4\"/>\n     <use xlink:href=\"#m61b8cc1ef9\" x=\"175.844214\" y=\"90.604738\" style=\"fill: #1f77b4; stroke: #1f77b4\"/>\n     <use xlink:href=\"#m61b8cc1ef9\" x=\"119.939251\" y=\"57.915915\" style=\"fill: #1f77b4; stroke: #1f77b4\"/>\n     <use xlink:href=\"#m61b8cc1ef9\" x=\"131.819909\" y=\"57.82605\" style=\"fill: #1f77b4; stroke: #1f77b4\"/>\n     <use xlink:href=\"#m61b8cc1ef9\" x=\"174.364619\" y=\"85.650197\" style=\"fill: #1f77b4; stroke: #1f77b4\"/>\n     <use xlink:href=\"#m61b8cc1ef9\" x=\"139.996663\" y=\"77.317738\" style=\"fill: #1f77b4; stroke: #1f77b4\"/>\n     <use xlink:href=\"#m61b8cc1ef9\" x=\"138.005785\" y=\"83.179543\" style=\"fill: #1f77b4; stroke: #1f77b4\"/>\n     <use xlink:href=\"#m61b8cc1ef9\" x=\"150.475459\" y=\"82.731062\" style=\"fill: #1f77b4; stroke: #1f77b4\"/>\n     <use xlink:href=\"#m61b8cc1ef9\" x=\"163.077596\" y=\"76.752007\" style=\"fill: #1f77b4; stroke: #1f77b4\"/>\n     <use xlink:href=\"#m61b8cc1ef9\" x=\"140.330549\" y=\"68.909534\" style=\"fill: #1f77b4; stroke: #1f77b4\"/>\n     <use xlink:href=\"#m61b8cc1ef9\" x=\"148.45537\" y=\"66.498727\" style=\"fill: #1f77b4; stroke: #1f77b4\"/>\n     <use xlink:href=\"#m61b8cc1ef9\" x=\"150.088526\" y=\"79.53311\" style=\"fill: #1f77b4; stroke: #1f77b4\"/>\n     <use xlink:href=\"#m61b8cc1ef9\" x=\"182.584132\" y=\"96.027984\" style=\"fill: #1f77b4; stroke: #1f77b4\"/>\n     <use xlink:href=\"#m61b8cc1ef9\" x=\"172.882674\" y=\"95.681542\" style=\"fill: #1f77b4; stroke: #1f77b4\"/>\n     <use xlink:href=\"#m61b8cc1ef9\" x=\"152.780748\" y=\"74.068807\" style=\"fill: #1f77b4; stroke: #1f77b4\"/>\n     <use xlink:href=\"#m61b8cc1ef9\" x=\"105.479457\" y=\"50.15734\" style=\"fill: #1f77b4; stroke: #1f77b4\"/>\n     <use xlink:href=\"#m61b8cc1ef9\" x=\"142.38134\" y=\"63.884538\" style=\"fill: #1f77b4; stroke: #1f77b4\"/>\n     <use xlink:href=\"#m61b8cc1ef9\" x=\"128.708502\" y=\"73.0143\" style=\"fill: #1f77b4; stroke: #1f77b4\"/>\n     <use xlink:href=\"#m61b8cc1ef9\" x=\"155.956445\" y=\"77.867043\" style=\"fill: #1f77b4; stroke: #1f77b4\"/>\n     <use xlink:href=\"#m61b8cc1ef9\" x=\"139.341771\" y=\"87.876197\" style=\"fill: #1f77b4; stroke: #1f77b4\"/>\n     <use xlink:href=\"#m61b8cc1ef9\" x=\"118.955359\" y=\"61.139678\" style=\"fill: #1f77b4; stroke: #1f77b4\"/>\n     <use xlink:href=\"#m61b8cc1ef9\" x=\"184.837213\" y=\"100.092601\" style=\"fill: #1f77b4; stroke: #1f77b4\"/>\n     <use xlink:href=\"#m61b8cc1ef9\" x=\"80.127541\" y=\"53.761997\" style=\"fill: #1f77b4; stroke: #1f77b4\"/>\n     <use xlink:href=\"#m61b8cc1ef9\" x=\"159.519719\" y=\"93.39121\" style=\"fill: #1f77b4; stroke: #1f77b4\"/>\n     <use xlink:href=\"#m61b8cc1ef9\" x=\"165.222219\" y=\"73.078538\" style=\"fill: #1f77b4; stroke: #1f77b4\"/>\n     <use xlink:href=\"#m61b8cc1ef9\" x=\"148.179132\" y=\"85.476782\" style=\"fill: #1f77b4; stroke: #1f77b4\"/>\n     <use xlink:href=\"#m61b8cc1ef9\" x=\"151.257392\" y=\"76.398909\" style=\"fill: #1f77b4; stroke: #1f77b4\"/>\n     <use xlink:href=\"#m61b8cc1ef9\" x=\"134.218404\" y=\"62.989615\" style=\"fill: #1f77b4; stroke: #1f77b4\"/>\n     <use xlink:href=\"#m61b8cc1ef9\" x=\"207.329482\" y=\"120.289952\" style=\"fill: #1f77b4; stroke: #1f77b4\"/>\n     <use xlink:href=\"#m61b8cc1ef9\" x=\"124.898149\" y=\"58.836778\" style=\"fill: #1f77b4; stroke: #1f77b4\"/>\n     <use xlink:href=\"#m61b8cc1ef9\" x=\"134.53064\" y=\"82.421448\" style=\"fill: #1f77b4; stroke: #1f77b4\"/>\n     <use xlink:href=\"#m61b8cc1ef9\" x=\"150.21974\" y=\"105.820637\" style=\"fill: #1f77b4; stroke: #1f77b4\"/>\n     <use xlink:href=\"#m61b8cc1ef9\" x=\"162.22152\" y=\"87.864125\" style=\"fill: #1f77b4; stroke: #1f77b4\"/>\n     <use xlink:href=\"#m61b8cc1ef9\" x=\"187.067196\" y=\"105.858427\" style=\"fill: #1f77b4; stroke: #1f77b4\"/>\n     <use xlink:href=\"#m61b8cc1ef9\" x=\"178.657175\" y=\"89.206571\" style=\"fill: #1f77b4; stroke: #1f77b4\"/>\n     <use xlink:href=\"#m61b8cc1ef9\" x=\"177.872954\" y=\"92.186901\" style=\"fill: #1f77b4; stroke: #1f77b4\"/>\n     <use xlink:href=\"#m61b8cc1ef9\" x=\"164.700977\" y=\"104.612744\" style=\"fill: #1f77b4; stroke: #1f77b4\"/>\n     <use xlink:href=\"#m61b8cc1ef9\" x=\"165.453495\" y=\"85.241593\" style=\"fill: #1f77b4; stroke: #1f77b4\"/>\n     <use xlink:href=\"#m61b8cc1ef9\" x=\"182.930513\" y=\"101.943314\" style=\"fill: #1f77b4; stroke: #1f77b4\"/>\n     <use xlink:href=\"#m61b8cc1ef9\" x=\"165.930418\" y=\"87.113677\" style=\"fill: #1f77b4; stroke: #1f77b4\"/>\n     <use xlink:href=\"#m61b8cc1ef9\" x=\"165.939041\" y=\"96.896007\" style=\"fill: #1f77b4; stroke: #1f77b4\"/>\n     <use xlink:href=\"#m61b8cc1ef9\" x=\"122.705506\" y=\"82.065867\" style=\"fill: #1f77b4; stroke: #1f77b4\"/>\n     <use xlink:href=\"#m61b8cc1ef9\" x=\"142.969011\" y=\"80.645639\" style=\"fill: #1f77b4; stroke: #1f77b4\"/>\n     <use xlink:href=\"#m61b8cc1ef9\" x=\"192.09062\" y=\"106.856733\" style=\"fill: #1f77b4; stroke: #1f77b4\"/>\n     <use xlink:href=\"#m61b8cc1ef9\" x=\"136.090558\" y=\"76.980766\" style=\"fill: #1f77b4; stroke: #1f77b4\"/>\n     <use xlink:href=\"#m61b8cc1ef9\" x=\"168.724796\" y=\"96.011598\" style=\"fill: #1f77b4; stroke: #1f77b4\"/>\n     <use xlink:href=\"#m61b8cc1ef9\" x=\"134.186627\" y=\"73.432511\" style=\"fill: #1f77b4; stroke: #1f77b4\"/>\n     <use xlink:href=\"#m61b8cc1ef9\" x=\"125.815227\" y=\"74.042009\" style=\"fill: #1f77b4; stroke: #1f77b4\"/>\n     <use xlink:href=\"#m61b8cc1ef9\" x=\"118.700083\" y=\"70.513523\" style=\"fill: #1f77b4; stroke: #1f77b4\"/>\n     <use xlink:href=\"#m61b8cc1ef9\" x=\"151.944309\" y=\"90.236422\" style=\"fill: #1f77b4; stroke: #1f77b4\"/>\n     <use xlink:href=\"#m61b8cc1ef9\" x=\"170.827811\" y=\"106.796167\" style=\"fill: #1f77b4; stroke: #1f77b4\"/>\n     <use xlink:href=\"#m61b8cc1ef9\" x=\"148.470011\" y=\"83.369026\" style=\"fill: #1f77b4; stroke: #1f77b4\"/>\n     <use xlink:href=\"#m61b8cc1ef9\" x=\"115.729368\" y=\"75.480123\" style=\"fill: #1f77b4; stroke: #1f77b4\"/>\n     <use xlink:href=\"#m61b8cc1ef9\" x=\"106.332364\" y=\"51.939358\" style=\"fill: #1f77b4; stroke: #1f77b4\"/>\n     <use xlink:href=\"#m61b8cc1ef9\" x=\"178.291664\" y=\"95.622453\" style=\"fill: #1f77b4; stroke: #1f77b4\"/>\n     <use xlink:href=\"#m61b8cc1ef9\" x=\"157.891293\" y=\"92.143088\" style=\"fill: #1f77b4; stroke: #1f77b4\"/>\n     <use xlink:href=\"#m61b8cc1ef9\" x=\"105.394539\" y=\"61.839795\" style=\"fill: #1f77b4; stroke: #1f77b4\"/>\n     <use xlink:href=\"#m61b8cc1ef9\" x=\"113.04611\" y=\"58.724449\" style=\"fill: #1f77b4; stroke: #1f77b4\"/>\n     <use xlink:href=\"#m61b8cc1ef9\" x=\"114.315702\" y=\"70.999985\" style=\"fill: #1f77b4; stroke: #1f77b4\"/>\n     <use xlink:href=\"#m61b8cc1ef9\" x=\"110.227744\" y=\"75.717173\" style=\"fill: #1f77b4; stroke: #1f77b4\"/>\n     <use xlink:href=\"#m61b8cc1ef9\" x=\"168.741938\" y=\"96.077533\" style=\"fill: #1f77b4; stroke: #1f77b4\"/>\n     <use xlink:href=\"#m61b8cc1ef9\" x=\"157.05852\" y=\"90.344056\" style=\"fill: #1f77b4; stroke: #1f77b4\"/>\n     <use xlink:href=\"#m61b8cc1ef9\" x=\"86.951649\" y=\"32.430848\" style=\"fill: #1f77b4; stroke: #1f77b4\"/>\n     <use xlink:href=\"#m61b8cc1ef9\" x=\"172.819921\" y=\"94.231967\" style=\"fill: #1f77b4; stroke: #1f77b4\"/>\n     <use xlink:href=\"#m61b8cc1ef9\" x=\"134.213949\" y=\"69.446229\" style=\"fill: #1f77b4; stroke: #1f77b4\"/>\n     <use xlink:href=\"#m61b8cc1ef9\" x=\"119.451464\" y=\"60.315928\" style=\"fill: #1f77b4; stroke: #1f77b4\"/>\n     <use xlink:href=\"#m61b8cc1ef9\" x=\"123.224024\" y=\"71.921585\" style=\"fill: #1f77b4; stroke: #1f77b4\"/>\n     <use xlink:href=\"#m61b8cc1ef9\" x=\"161.637028\" y=\"72.216791\" style=\"fill: #1f77b4; stroke: #1f77b4\"/>\n     <use xlink:href=\"#m61b8cc1ef9\" x=\"165.632716\" y=\"71.229109\" style=\"fill: #1f77b4; stroke: #1f77b4\"/>\n     <use xlink:href=\"#m61b8cc1ef9\" x=\"153.012263\" y=\"86.692405\" style=\"fill: #1f77b4; stroke: #1f77b4\"/>\n     <use xlink:href=\"#m61b8cc1ef9\" x=\"139.924265\" y=\"79.248537\" style=\"fill: #1f77b4; stroke: #1f77b4\"/>\n     <use xlink:href=\"#m61b8cc1ef9\" x=\"89.122535\" y=\"47.390094\" style=\"fill: #1f77b4; stroke: #1f77b4\"/>\n     <use xlink:href=\"#m61b8cc1ef9\" x=\"143.386728\" y=\"72.437481\" style=\"fill: #1f77b4; stroke: #1f77b4\"/>\n     <use xlink:href=\"#m61b8cc1ef9\" x=\"197.049299\" y=\"104.733085\" style=\"fill: #1f77b4; stroke: #1f77b4\"/>\n     <use xlink:href=\"#m61b8cc1ef9\" x=\"148.242615\" y=\"74.512594\" style=\"fill: #1f77b4; stroke: #1f77b4\"/>\n     <use xlink:href=\"#m61b8cc1ef9\" x=\"136.134892\" y=\"74.088787\" style=\"fill: #1f77b4; stroke: #1f77b4\"/>\n     <use xlink:href=\"#m61b8cc1ef9\" x=\"147.7166\" y=\"82.159517\" style=\"fill: #1f77b4; stroke: #1f77b4\"/>\n     <use xlink:href=\"#m61b8cc1ef9\" x=\"137.9608\" y=\"73.828634\" style=\"fill: #1f77b4; stroke: #1f77b4\"/>\n     <use xlink:href=\"#m61b8cc1ef9\" x=\"128.274968\" y=\"74.089558\" style=\"fill: #1f77b4; stroke: #1f77b4\"/>\n     <use xlink:href=\"#m61b8cc1ef9\" x=\"161.009956\" y=\"84.300109\" style=\"fill: #1f77b4; stroke: #1f77b4\"/>\n     <use xlink:href=\"#m61b8cc1ef9\" x=\"163.683747\" y=\"90.237354\" style=\"fill: #1f77b4; stroke: #1f77b4\"/>\n     <use xlink:href=\"#m61b8cc1ef9\" x=\"174.717058\" y=\"101.339049\" style=\"fill: #1f77b4; stroke: #1f77b4\"/>\n     <use xlink:href=\"#m61b8cc1ef9\" x=\"139.493612\" y=\"67.256644\" style=\"fill: #1f77b4; stroke: #1f77b4\"/>\n     <use xlink:href=\"#m61b8cc1ef9\" x=\"122.041817\" y=\"81.810351\" style=\"fill: #1f77b4; stroke: #1f77b4\"/>\n     <use xlink:href=\"#m61b8cc1ef9\" x=\"188.205815\" y=\"111.087481\" style=\"fill: #1f77b4; stroke: #1f77b4\"/>\n     <use xlink:href=\"#m61b8cc1ef9\" x=\"107.711434\" y=\"62.504753\" style=\"fill: #1f77b4; stroke: #1f77b4\"/>\n     <use xlink:href=\"#m61b8cc1ef9\" x=\"119.877596\" y=\"63.618065\" style=\"fill: #1f77b4; stroke: #1f77b4\"/>\n     <use xlink:href=\"#m61b8cc1ef9\" x=\"171.310854\" y=\"87.838419\" style=\"fill: #1f77b4; stroke: #1f77b4\"/>\n     <use xlink:href=\"#m61b8cc1ef9\" x=\"116.089312\" y=\"48.599649\" style=\"fill: #1f77b4; stroke: #1f77b4\"/>\n     <use xlink:href=\"#m61b8cc1ef9\" x=\"177.583075\" y=\"90.017143\" style=\"fill: #1f77b4; stroke: #1f77b4\"/>\n     <use xlink:href=\"#m61b8cc1ef9\" x=\"178.289148\" y=\"88.795988\" style=\"fill: #1f77b4; stroke: #1f77b4\"/>\n     <use xlink:href=\"#m61b8cc1ef9\" x=\"177.815984\" y=\"104.014082\" style=\"fill: #1f77b4; stroke: #1f77b4\"/>\n     <use xlink:href=\"#m61b8cc1ef9\" x=\"105.675272\" y=\"53.429907\" style=\"fill: #1f77b4; stroke: #1f77b4\"/>\n     <use xlink:href=\"#m61b8cc1ef9\" x=\"165.099692\" y=\"79.975526\" style=\"fill: #1f77b4; stroke: #1f77b4\"/>\n     <use xlink:href=\"#m61b8cc1ef9\" x=\"163.074146\" y=\"82.764631\" style=\"fill: #1f77b4; stroke: #1f77b4\"/>\n     <use xlink:href=\"#m61b8cc1ef9\" x=\"148.753627\" y=\"77.923815\" style=\"fill: #1f77b4; stroke: #1f77b4\"/>\n     <use xlink:href=\"#m61b8cc1ef9\" x=\"142.747149\" y=\"74.398891\" style=\"fill: #1f77b4; stroke: #1f77b4\"/>\n     <use xlink:href=\"#m61b8cc1ef9\" x=\"175.336786\" y=\"97.12912\" style=\"fill: #1f77b4; stroke: #1f77b4\"/>\n     <use xlink:href=\"#m61b8cc1ef9\" x=\"143.376198\" y=\"66.44074\" style=\"fill: #1f77b4; stroke: #1f77b4\"/>\n     <use xlink:href=\"#m61b8cc1ef9\" x=\"99.796924\" y=\"56.308471\" style=\"fill: #1f77b4; stroke: #1f77b4\"/>\n     <use xlink:href=\"#m61b8cc1ef9\" x=\"139.892292\" y=\"62.997485\" style=\"fill: #1f77b4; stroke: #1f77b4\"/>\n     <use xlink:href=\"#m61b8cc1ef9\" x=\"177.747082\" y=\"118.140778\" style=\"fill: #1f77b4; stroke: #1f77b4\"/>\n     <use xlink:href=\"#m61b8cc1ef9\" x=\"100.681595\" y=\"52.722939\" style=\"fill: #1f77b4; stroke: #1f77b4\"/>\n     <use xlink:href=\"#m61b8cc1ef9\" x=\"137.175309\" y=\"70.184374\" style=\"fill: #1f77b4; stroke: #1f77b4\"/>\n     <use xlink:href=\"#m61b8cc1ef9\" x=\"121.891555\" y=\"80.557087\" style=\"fill: #1f77b4; stroke: #1f77b4\"/>\n     <use xlink:href=\"#m61b8cc1ef9\" x=\"114.41421\" y=\"57.00691\" style=\"fill: #1f77b4; stroke: #1f77b4\"/>\n     <use xlink:href=\"#m61b8cc1ef9\" x=\"122.083486\" y=\"68.557154\" style=\"fill: #1f77b4; stroke: #1f77b4\"/>\n     <use xlink:href=\"#m61b8cc1ef9\" x=\"110.831013\" y=\"54.014807\" style=\"fill: #1f77b4; stroke: #1f77b4\"/>\n     <use xlink:href=\"#m61b8cc1ef9\" x=\"68.165316\" y=\"57.960108\" style=\"fill: #1f77b4; stroke: #1f77b4\"/>\n     <use xlink:href=\"#m61b8cc1ef9\" x=\"122.390901\" y=\"65.448014\" style=\"fill: #1f77b4; stroke: #1f77b4\"/>\n     <use xlink:href=\"#m61b8cc1ef9\" x=\"129.699651\" y=\"70.81265\" style=\"fill: #1f77b4; stroke: #1f77b4\"/>\n     <use xlink:href=\"#m61b8cc1ef9\" x=\"161.489182\" y=\"77.757333\" style=\"fill: #1f77b4; stroke: #1f77b4\"/>\n     <use xlink:href=\"#m61b8cc1ef9\" x=\"120.545479\" y=\"47.496808\" style=\"fill: #1f77b4; stroke: #1f77b4\"/>\n     <use xlink:href=\"#m61b8cc1ef9\" x=\"162.020261\" y=\"78.697543\" style=\"fill: #1f77b4; stroke: #1f77b4\"/>\n     <use xlink:href=\"#m61b8cc1ef9\" x=\"155.274968\" y=\"75.783796\" style=\"fill: #1f77b4; stroke: #1f77b4\"/>\n     <use xlink:href=\"#m61b8cc1ef9\" x=\"96.797508\" y=\"50.718272\" style=\"fill: #1f77b4; stroke: #1f77b4\"/>\n     <use xlink:href=\"#m61b8cc1ef9\" x=\"175.923012\" y=\"101.040338\" style=\"fill: #1f77b4; stroke: #1f77b4\"/>\n     <use xlink:href=\"#m61b8cc1ef9\" x=\"149.43923\" y=\"81.682326\" style=\"fill: #1f77b4; stroke: #1f77b4\"/>\n     <use xlink:href=\"#m61b8cc1ef9\" x=\"122.71346\" y=\"50.6081\" style=\"fill: #1f77b4; stroke: #1f77b4\"/>\n     <use xlink:href=\"#m61b8cc1ef9\" x=\"177.50714\" y=\"87.994694\" style=\"fill: #1f77b4; stroke: #1f77b4\"/>\n     <use xlink:href=\"#m61b8cc1ef9\" x=\"144.507431\" y=\"77.964678\" style=\"fill: #1f77b4; stroke: #1f77b4\"/>\n     <use xlink:href=\"#m61b8cc1ef9\" x=\"153.572052\" y=\"82.309039\" style=\"fill: #1f77b4; stroke: #1f77b4\"/>\n     <use xlink:href=\"#m61b8cc1ef9\" x=\"137.091685\" y=\"76.227449\" style=\"fill: #1f77b4; stroke: #1f77b4\"/>\n     <use xlink:href=\"#m61b8cc1ef9\" x=\"133.672425\" y=\"77.394245\" style=\"fill: #1f77b4; stroke: #1f77b4\"/>\n     <use xlink:href=\"#m61b8cc1ef9\" x=\"157.222719\" y=\"77.751984\" style=\"fill: #1f77b4; stroke: #1f77b4\"/>\n     <use xlink:href=\"#m61b8cc1ef9\" x=\"133.036316\" y=\"58.525237\" style=\"fill: #1f77b4; stroke: #1f77b4\"/>\n     <use xlink:href=\"#m61b8cc1ef9\" x=\"136.594048\" y=\"81.204974\" style=\"fill: #1f77b4; stroke: #1f77b4\"/>\n     <use xlink:href=\"#m61b8cc1ef9\" x=\"125.133844\" y=\"72.593948\" style=\"fill: #1f77b4; stroke: #1f77b4\"/>\n     <use xlink:href=\"#m61b8cc1ef9\" x=\"91.936733\" y=\"56.84738\" style=\"fill: #1f77b4; stroke: #1f77b4\"/>\n     <use xlink:href=\"#m61b8cc1ef9\" x=\"172.06373\" y=\"101.959926\" style=\"fill: #1f77b4; stroke: #1f77b4\"/>\n     <use xlink:href=\"#m61b8cc1ef9\" x=\"83.224568\" y=\"52.840412\" style=\"fill: #1f77b4; stroke: #1f77b4\"/>\n     <use xlink:href=\"#m61b8cc1ef9\" x=\"99.178869\" y=\"37.357694\" style=\"fill: #1f77b4; stroke: #1f77b4\"/>\n     <use xlink:href=\"#m61b8cc1ef9\" x=\"136.897906\" y=\"76.066934\" style=\"fill: #1f77b4; stroke: #1f77b4\"/>\n     <use xlink:href=\"#m61b8cc1ef9\" x=\"132.709564\" y=\"68.102149\" style=\"fill: #1f77b4; stroke: #1f77b4\"/>\n     <use xlink:href=\"#m61b8cc1ef9\" x=\"102.271888\" y=\"60.067501\" style=\"fill: #1f77b4; stroke: #1f77b4\"/>\n     <use xlink:href=\"#m61b8cc1ef9\" x=\"147.453839\" y=\"75.365789\" style=\"fill: #1f77b4; stroke: #1f77b4\"/>\n     <use xlink:href=\"#m61b8cc1ef9\" x=\"174.269724\" y=\"80.8587\" style=\"fill: #1f77b4; stroke: #1f77b4\"/>\n     <use xlink:href=\"#m61b8cc1ef9\" x=\"126.990816\" y=\"64.938071\" style=\"fill: #1f77b4; stroke: #1f77b4\"/>\n     <use xlink:href=\"#m61b8cc1ef9\" x=\"147.765629\" y=\"72.303433\" style=\"fill: #1f77b4; stroke: #1f77b4\"/>\n     <use xlink:href=\"#m61b8cc1ef9\" x=\"176.30584\" y=\"91.809887\" style=\"fill: #1f77b4; stroke: #1f77b4\"/>\n     <use xlink:href=\"#m61b8cc1ef9\" x=\"99.352422\" y=\"55.653286\" style=\"fill: #1f77b4; stroke: #1f77b4\"/>\n     <use xlink:href=\"#m61b8cc1ef9\" x=\"159.229371\" y=\"97.876845\" style=\"fill: #1f77b4; stroke: #1f77b4\"/>\n     <use xlink:href=\"#m61b8cc1ef9\" x=\"160.72647\" y=\"77.400649\" style=\"fill: #1f77b4; stroke: #1f77b4\"/>\n     <use xlink:href=\"#m61b8cc1ef9\" x=\"205.225821\" y=\"110.458122\" style=\"fill: #1f77b4; stroke: #1f77b4\"/>\n     <use xlink:href=\"#m61b8cc1ef9\" x=\"140.305902\" y=\"71.588331\" style=\"fill: #1f77b4; stroke: #1f77b4\"/>\n     <use xlink:href=\"#m61b8cc1ef9\" x=\"140.04718\" y=\"79.07559\" style=\"fill: #1f77b4; stroke: #1f77b4\"/>\n     <use xlink:href=\"#m61b8cc1ef9\" x=\"121.844631\" y=\"55.768011\" style=\"fill: #1f77b4; stroke: #1f77b4\"/>\n     <use xlink:href=\"#m61b8cc1ef9\" x=\"125.005592\" y=\"73.617134\" style=\"fill: #1f77b4; stroke: #1f77b4\"/>\n     <use xlink:href=\"#m61b8cc1ef9\" x=\"162.439154\" y=\"82.632762\" style=\"fill: #1f77b4; stroke: #1f77b4\"/>\n     <use xlink:href=\"#m61b8cc1ef9\" x=\"141.308285\" y=\"77.919826\" style=\"fill: #1f77b4; stroke: #1f77b4\"/>\n     <use xlink:href=\"#m61b8cc1ef9\" x=\"134.5255\" y=\"77.074473\" style=\"fill: #1f77b4; stroke: #1f77b4\"/>\n     <use xlink:href=\"#m61b8cc1ef9\" x=\"83.304394\" y=\"40.951772\" style=\"fill: #1f77b4; stroke: #1f77b4\"/>\n     <use xlink:href=\"#m61b8cc1ef9\" x=\"153.098424\" y=\"78.376152\" style=\"fill: #1f77b4; stroke: #1f77b4\"/>\n     <use xlink:href=\"#m61b8cc1ef9\" x=\"131.617832\" y=\"90.015583\" style=\"fill: #1f77b4; stroke: #1f77b4\"/>\n     <use xlink:href=\"#m61b8cc1ef9\" x=\"110.880702\" y=\"41.030768\" style=\"fill: #1f77b4; stroke: #1f77b4\"/>\n     <use xlink:href=\"#m61b8cc1ef9\" x=\"158.754309\" y=\"93.935136\" style=\"fill: #1f77b4; stroke: #1f77b4\"/>\n     <use xlink:href=\"#m61b8cc1ef9\" x=\"163.211952\" y=\"84.010133\" style=\"fill: #1f77b4; stroke: #1f77b4\"/>\n     <use xlink:href=\"#m61b8cc1ef9\" x=\"146.213638\" y=\"79.222436\" style=\"fill: #1f77b4; stroke: #1f77b4\"/>\n     <use xlink:href=\"#m61b8cc1ef9\" x=\"152.30752\" y=\"89.102719\" style=\"fill: #1f77b4; stroke: #1f77b4\"/>\n     <use xlink:href=\"#m61b8cc1ef9\" x=\"151.138637\" y=\"102.671258\" style=\"fill: #1f77b4; stroke: #1f77b4\"/>\n     <use xlink:href=\"#m61b8cc1ef9\" x=\"195.179369\" y=\"102.833601\" style=\"fill: #1f77b4; stroke: #1f77b4\"/>\n     <use xlink:href=\"#m61b8cc1ef9\" x=\"157.866187\" y=\"65.216522\" style=\"fill: #1f77b4; stroke: #1f77b4\"/>\n     <use xlink:href=\"#m61b8cc1ef9\" x=\"106.051674\" y=\"63.252673\" style=\"fill: #1f77b4; stroke: #1f77b4\"/>\n     <use xlink:href=\"#m61b8cc1ef9\" x=\"136.173176\" y=\"76.791501\" style=\"fill: #1f77b4; stroke: #1f77b4\"/>\n    </g>\n   </g>\n   <g id=\"matplotlib.axis_1\">\n    <g id=\"xtick_1\">\n     <g id=\"line2d_1\">\n      <defs>\n       <path id=\"m2d2e068bd3\" d=\"M 0 0 \nL 0 3.5 \n\" style=\"stroke: #000000; stroke-width: 0.8\"/>\n      </defs>\n      <g>\n       <use xlink:href=\"#m2d2e068bd3\" x=\"86.337698\" y=\"145.8\" style=\"stroke: #000000; stroke-width: 0.8\"/>\n      </g>\n     </g>\n     <g id=\"text_1\">\n      <!-- −2 -->\n      <g transform=\"translate(78.966604 160.398438) scale(0.1 -0.1)\">\n       <defs>\n        <path id=\"DejaVuSans-2212\" d=\"M 678 2272 \nL 4684 2272 \nL 4684 1741 \nL 678 1741 \nL 678 2272 \nz\n\" transform=\"scale(0.015625)\"/>\n        <path id=\"DejaVuSans-32\" d=\"M 1228 531 \nL 3431 531 \nL 3431 0 \nL 469 0 \nL 469 531 \nQ 828 903 1448 1529 \nQ 2069 2156 2228 2338 \nQ 2531 2678 2651 2914 \nQ 2772 3150 2772 3378 \nQ 2772 3750 2511 3984 \nQ 2250 4219 1831 4219 \nQ 1534 4219 1204 4116 \nQ 875 4013 500 3803 \nL 500 4441 \nQ 881 4594 1212 4672 \nQ 1544 4750 1819 4750 \nQ 2544 4750 2975 4387 \nQ 3406 4025 3406 3419 \nQ 3406 3131 3298 2873 \nQ 3191 2616 2906 2266 \nQ 2828 2175 2409 1742 \nQ 1991 1309 1228 531 \nz\n\" transform=\"scale(0.015625)\"/>\n       </defs>\n       <use xlink:href=\"#DejaVuSans-2212\"/>\n       <use xlink:href=\"#DejaVuSans-32\" x=\"83.789062\"/>\n      </g>\n     </g>\n    </g>\n    <g id=\"xtick_2\">\n     <g id=\"line2d_2\">\n      <g>\n       <use xlink:href=\"#m2d2e068bd3\" x=\"141.095295\" y=\"145.8\" style=\"stroke: #000000; stroke-width: 0.8\"/>\n      </g>\n     </g>\n     <g id=\"text_2\">\n      <!-- 0 -->\n      <g transform=\"translate(137.914045 160.398438) scale(0.1 -0.1)\">\n       <defs>\n        <path id=\"DejaVuSans-30\" d=\"M 2034 4250 \nQ 1547 4250 1301 3770 \nQ 1056 3291 1056 2328 \nQ 1056 1369 1301 889 \nQ 1547 409 2034 409 \nQ 2525 409 2770 889 \nQ 3016 1369 3016 2328 \nQ 3016 3291 2770 3770 \nQ 2525 4250 2034 4250 \nz\nM 2034 4750 \nQ 2819 4750 3233 4129 \nQ 3647 3509 3647 2328 \nQ 3647 1150 3233 529 \nQ 2819 -91 2034 -91 \nQ 1250 -91 836 529 \nQ 422 1150 422 2328 \nQ 422 3509 836 4129 \nQ 1250 4750 2034 4750 \nz\n\" transform=\"scale(0.015625)\"/>\n       </defs>\n       <use xlink:href=\"#DejaVuSans-30\"/>\n      </g>\n     </g>\n    </g>\n    <g id=\"xtick_3\">\n     <g id=\"line2d_3\">\n      <g>\n       <use xlink:href=\"#m2d2e068bd3\" x=\"195.852892\" y=\"145.8\" style=\"stroke: #000000; stroke-width: 0.8\"/>\n      </g>\n     </g>\n     <g id=\"text_3\">\n      <!-- 2 -->\n      <g transform=\"translate(192.671642 160.398438) scale(0.1 -0.1)\">\n       <use xlink:href=\"#DejaVuSans-32\"/>\n      </g>\n     </g>\n    </g>\n   </g>\n   <g id=\"matplotlib.axis_2\">\n    <g id=\"ytick_1\">\n     <g id=\"line2d_4\">\n      <defs>\n       <path id=\"meeebf06c57\" d=\"M 0 0 \nL -3.5 0 \n\" style=\"stroke: #000000; stroke-width: 0.8\"/>\n      </defs>\n      <g>\n       <use xlink:href=\"#meeebf06c57\" x=\"35.304688\" y=\"139.560129\" style=\"stroke: #000000; stroke-width: 0.8\"/>\n      </g>\n     </g>\n     <g id=\"text_4\">\n      <!-- −10 -->\n      <g transform=\"translate(7.2 143.359348) scale(0.1 -0.1)\">\n       <defs>\n        <path id=\"DejaVuSans-31\" d=\"M 794 531 \nL 1825 531 \nL 1825 4091 \nL 703 3866 \nL 703 4441 \nL 1819 4666 \nL 2450 4666 \nL 2450 531 \nL 3481 531 \nL 3481 0 \nL 794 0 \nL 794 531 \nz\n\" transform=\"scale(0.015625)\"/>\n       </defs>\n       <use xlink:href=\"#DejaVuSans-2212\"/>\n       <use xlink:href=\"#DejaVuSans-31\" x=\"83.789062\"/>\n       <use xlink:href=\"#DejaVuSans-30\" x=\"147.412109\"/>\n      </g>\n     </g>\n    </g>\n    <g id=\"ytick_2\">\n     <g id=\"line2d_5\">\n      <g>\n       <use xlink:href=\"#meeebf06c57\" x=\"35.304688\" y=\"95.023654\" style=\"stroke: #000000; stroke-width: 0.8\"/>\n      </g>\n     </g>\n     <g id=\"text_5\">\n      <!-- 0 -->\n      <g transform=\"translate(21.942187 98.822873) scale(0.1 -0.1)\">\n       <use xlink:href=\"#DejaVuSans-30\"/>\n      </g>\n     </g>\n    </g>\n    <g id=\"ytick_3\">\n     <g id=\"line2d_6\">\n      <g>\n       <use xlink:href=\"#meeebf06c57\" x=\"35.304688\" y=\"50.487179\" style=\"stroke: #000000; stroke-width: 0.8\"/>\n      </g>\n     </g>\n     <g id=\"text_6\">\n      <!-- 10 -->\n      <g transform=\"translate(15.579687 54.286398) scale(0.1 -0.1)\">\n       <use xlink:href=\"#DejaVuSans-31\"/>\n       <use xlink:href=\"#DejaVuSans-30\" x=\"63.623047\"/>\n      </g>\n     </g>\n    </g>\n   </g>\n   <g id=\"patch_3\">\n    <path d=\"M 35.304688 145.8 \nL 35.304688 7.2 \n\" style=\"fill: none; stroke: #000000; stroke-width: 0.8; stroke-linejoin: miter; stroke-linecap: square\"/>\n   </g>\n   <g id=\"patch_4\">\n    <path d=\"M 230.604688 145.8 \nL 230.604688 7.2 \n\" style=\"fill: none; stroke: #000000; stroke-width: 0.8; stroke-linejoin: miter; stroke-linecap: square\"/>\n   </g>\n   <g id=\"patch_5\">\n    <path d=\"M 35.304687 145.8 \nL 230.604688 145.8 \n\" style=\"fill: none; stroke: #000000; stroke-width: 0.8; stroke-linejoin: miter; stroke-linecap: square\"/>\n   </g>\n   <g id=\"patch_6\">\n    <path d=\"M 35.304687 7.2 \nL 230.604688 7.2 \n\" style=\"fill: none; stroke: #000000; stroke-width: 0.8; stroke-linejoin: miter; stroke-linecap: square\"/>\n   </g>\n  </g>\n </g>\n <defs>\n  <clipPath id=\"p5789e4e978\">\n   <rect x=\"35.304688\" y=\"7.2\" width=\"195.3\" height=\"138.6\"/>\n  </clipPath>\n </defs>\n</svg>\n"
          },
          "metadata": {}
        }
      ]
    },
    {
      "cell_type": "code",
      "metadata": {
        "id": "3az2hO5lIYq1"
      },
      "source": [
        "# this is going through different iterations through the data ??\n",
        "# this is doing the selection\n",
        "def data_iter(batch_size, features, labels):\n",
        "    num_examples = len(features)\n",
        "    indices = list(range(num_examples))\n",
        "    # The examples are read at random, in no particular order\n",
        "    random.shuffle(indices)\n",
        "    for i in range(0, num_examples, batch_size):\n",
        "        batch_indices = torch.tensor(indices[i:min(i +\n",
        "                                                   batch_size, num_examples)])\n",
        "        yield features[batch_indices], labels[batch_indices]\n"
      ],
      "execution_count": 5,
      "outputs": []
    },
    {
      "cell_type": "code",
      "metadata": {
        "id": "uSgylI2hIiV-",
        "colab": {
          "base_uri": "https://localhost:8080/"
        },
        "outputId": "e17ea1c1-88ff-4fcd-b2ef-79fdf6130014"
      },
      "source": [
        "batch_size = 10 # selecting just 10 out of the 1000 that were generated\n",
        "\n",
        "for X, y in data_iter(batch_size, features, labels):\n",
        "    print(X, '\\n', y)\n",
        "    break"
      ],
      "execution_count": 6,
      "outputs": [
        {
          "output_type": "stream",
          "name": "stdout",
          "text": [
            "tensor([[ 2.0148,  1.8228],\n",
            "        [ 0.0582, -1.2092],\n",
            "        [-0.2489, -0.5254],\n",
            "        [-1.0380, -0.8261],\n",
            "        [-0.0341, -0.1247],\n",
            "        [-0.5881,  0.1589],\n",
            "        [ 1.6011, -0.0717],\n",
            "        [ 0.6656, -1.3335],\n",
            "        [-1.3794, -1.0706],\n",
            "        [ 0.2874, -1.3154]]) \n",
            " tensor([[ 2.0443],\n",
            "        [ 8.4224],\n",
            "        [ 5.4782],\n",
            "        [ 4.9306],\n",
            "        [ 4.5729],\n",
            "        [ 2.4850],\n",
            "        [ 7.6547],\n",
            "        [10.0701],\n",
            "        [ 5.0717],\n",
            "        [ 9.2457]])\n"
          ]
        }
      ]
    },
    {
      "cell_type": "code",
      "metadata": {
        "id": "QUQwlJe0InJ6"
      },
      "source": [
        "# our goal is to find the best values for w and b given the dataset that we have\n",
        "w = torch.normal(0, 0.01, size=(2, 1), requires_grad=True)\n",
        "b = torch.zeros(1, requires_grad=True)"
      ],
      "execution_count": 7,
      "outputs": []
    },
    {
      "cell_type": "code",
      "metadata": {
        "id": "5loPBe7lI6VZ"
      },
      "source": [
        "def linreg(X, w, b):\n",
        "    \"\"\"The linear regression model.\"\"\"\n",
        "    return torch.matmul(X, w) + b"
      ],
      "execution_count": 8,
      "outputs": []
    },
    {
      "cell_type": "code",
      "metadata": {
        "id": "Y1py56YuI_is"
      },
      "source": [
        "def squared_loss(y_hat, y):\n",
        "    \"\"\"Squared loss.\"\"\"\n",
        "    return (y_hat - y.reshape(y_hat.shape))**2 / 2"
      ],
      "execution_count": 9,
      "outputs": []
    },
    {
      "cell_type": "code",
      "metadata": {
        "id": "OegPZxgLJGQH"
      },
      "source": [
        "# stocastic gradient descent\n",
        "# the initial slope and intersept points could be random\n",
        "# sgd is trying to get the line closer to the best fit line\n",
        "# you want to step to the lower loss value\n",
        "def sgd(params, lr, batch_size):\n",
        "    \"\"\"Minibatch stochastic gradient descent.\"\"\"\n",
        "    with torch.no_grad():\n",
        "        for param in params:\n",
        "            param -= lr * param.grad / batch_size\n",
        "            param.grad.zero_()\n"
      ],
      "execution_count": 10,
      "outputs": []
    },
    {
      "cell_type": "code",
      "metadata": {
        "id": "ShiJFNc9LBi5",
        "colab": {
          "base_uri": "https://localhost:8080/"
        },
        "outputId": "3a766c19-d073-42ef-90aa-f27c776d0933"
      },
      "source": [
        "lr = 0.03 # learning rate. determines the amount of change each time we change the slope and intercept.\n",
        "# small steps give higher change of not missing the global minimum. bigger steps get you there fast, but you might step over/around it.\n",
        "num_epochs = 3 # the number of times you iterate. how many times are we stepping the learning rate\n",
        "net = linreg\n",
        "loss = squared_loss\n",
        "\n",
        "for epoch in range(num_epochs):\n",
        "    for X, y in data_iter(batch_size, features, labels):\n",
        "        l = loss(net(X, w, b), y)  # Minibatch loss in `X` and `y`\n",
        "        # Compute gradient on `l` with respect to [`w`, `b`]\n",
        "        l.sum().backward()\n",
        "        sgd([w, b], lr, batch_size)  # Update parameters using their gradient\n",
        "    with torch.no_grad():\n",
        "        train_l = loss(net(features, w, b), labels)\n",
        "        print(f'epoch {epoch + 1}, loss {float(train_l.mean()):f}')"
      ],
      "execution_count": 11,
      "outputs": [
        {
          "output_type": "stream",
          "name": "stdout",
          "text": [
            "epoch 1, loss 0.039421\n",
            "epoch 2, loss 0.000149\n",
            "epoch 3, loss 0.000052\n"
          ]
        }
      ]
    },
    {
      "cell_type": "code",
      "metadata": {
        "id": "QXNgxNm0LSQl",
        "colab": {
          "base_uri": "https://localhost:8080/"
        },
        "outputId": "16109ec0-4bee-4bc4-d178-a2e82e4ccd1f"
      },
      "source": [
        "print(f'error in estimating w: {true_w - w.reshape(true_w.shape)}')\n",
        "print(f'error in estimating b: {true_b - b}')"
      ],
      "execution_count": 12,
      "outputs": [
        {
          "output_type": "stream",
          "name": "stdout",
          "text": [
            "error in estimating w: tensor([-0.0006, -0.0016], grad_fn=<SubBackward0>)\n",
            "error in estimating b: tensor([0.0012], grad_fn=<RsubBackward1>)\n"
          ]
        }
      ]
    },
    {
      "cell_type": "markdown",
      "metadata": {
        "id": "jMGkGcdAyYO2"
      },
      "source": [
        "#Assigned tasks:\n",
        "##The MSE loss function is not the only loss function for linear regression. To be robust to outliers in the training data, the Huber loss and the Log-Cosh are used. Your task is to implement both loss functions in addition to the given MSE loss function (named squared_loss) of this notebook, and to compare their performance on data with outliers. The specific tasks are as follows -\n",
        "1.   Add two more code cells - one that defines the Huber loss function, and another with defines the Log-Cosh. This [blog post](https://heartbeat.fritz.ai/5-regression-loss-functions-all-machine-learners-should-know-4fb140e9d4b0) describes these loss functions and provides code which is written in numpy so it will need to changed to compatible with PyTorch.\n",
        "2.   Inject outliers in the data generated by the synthetic data generator of this notebook. You could add random noise to the existing data objects, i.e. changing a given percentage of the data entries to random values within the data range. Inclusion of these outliers will let you compare the benefits of these two loss functions against the MSE.\n",
        "3.   Create a text cell to summarize your experimental observations as follows: (1) note how many outliers you added (2) compare the error in estimating w and b between MSE, Huber loss, and Log-Cosh loss.\n",
        "\n",
        "\n",
        "\n",
        "\n",
        "\n"
      ]
    },
    {
      "cell_type": "code",
      "source": [
        "# Email from professor\n",
        "\n",
        "# In the mid term project a common question has been: how to create outliers in the synthetic data?\n",
        "# One way to do that is to generate random numbers from torch.normal (which is used in the\n",
        "# code for the main distribution) using a large standard deviation (e.g. 5) and add that to\n",
        "# a subset (e.g. 100 out of 1000) of the y-values that are generated from the main normal distribution\n",
        "\n",
        "\n",
        "# in class notes from monday 9/16\n",
        "# this does not effect the assignemnt (just to write about it)\n",
        "\n",
        "# for jakevdp notebook, there's an error in def hours_of_daylight\n",
        "\n",
        "\n",
        "# the correct line should be\n",
        "# days = (date - pd.Timestamp(2000, 12, 21)).days\n",
        "\n",
        "# it was originally pd.datetime or something similar\n"
      ],
      "metadata": {
        "id": "4q4oT-Ps7hVT"
      },
      "execution_count": null,
      "outputs": []
    },
    {
      "cell_type": "code",
      "source": [
        "# 1 hr 40 min for log cosh info"
      ],
      "metadata": {
        "id": "-QQ-dJY40rDx"
      },
      "execution_count": null,
      "outputs": []
    },
    {
      "cell_type": "code",
      "source": [
        "# Task 1: Implement Huber Loss and Log-Cosh Loss Functions\n",
        "# Create a new code cell to define the Huber loss function.\n",
        "# Use the Huber loss equation, which changes from quadratic to linear beyond a certain threshold.\n",
        "# The function should use PyTorch’s tensor operations for compatibility with the rest of the code.\n",
        "# Create another code cell to define the Log-Cosh loss function.\n",
        "# This loss function should also be implemented using PyTorch operations, and it will involve calculating the\n",
        "# logarithm of the hyperbolic cosine of the error.\n",
        "\n",
        "# Task 2: Inject Outliers in the Data\n",
        "# Modify the synthetic_data function to inject outliers.\n",
        "# Add random noise to a given percentage of the dataset (for example, 5-10%) by modifying the generated labels.\n",
        "# The noise can be generated within the existing data range.\n",
        "# Ensure that the outliers are introduced after the data is initially generated.\n",
        "\n",
        "\n",
        "# Task 3: Compare the Loss Functions\n",
        "# Train the model using the MSE loss, Huber loss, and Log-Cosh loss functions separately, keeping the rest of the code\n",
        "#  (SGD and linear regression) unchanged.\n",
        "# Log the errors in estimating weights (w) and bias (b) for each of the loss functions. The error can be calculated as\n",
        "# the difference between the true values (true_w, true_b) and the estimated values (w, b).\n",
        "\n",
        "\n"
      ],
      "metadata": {
        "id": "chdZCUfPCpXq"
      },
      "execution_count": null,
      "outputs": []
    },
    {
      "cell_type": "code",
      "source": [
        "# Define the Huber loss function using PyTorch\n",
        "def huber_loss(y_pred, y_true, delta=1.0):\n",
        "    # \"\"\"\n",
        "    # Calculate the Huber loss between predicted and true values.\n",
        "\n",
        "    # Parameters:\n",
        "    # y_pred (torch.Tensor): Predicted values\n",
        "    # y_true (torch.Tensor): True values\n",
        "    # delta (float): The threshold at which the loss changes from quadratic to linear\n",
        "\n",
        "    # Returns:\n",
        "    # torch.Tensor: The Huber loss\n",
        "    # \"\"\"\n",
        "    error = y_true - y_pred\n",
        "    abs_error = torch.abs(error)\n",
        "\n",
        "    is_small_error = abs_error <= delta\n",
        "    squared_loss = 0.5 * (error ** 2)\n",
        "    linear_loss = delta * (abs_error - 0.5 * delta)\n",
        "\n",
        "    return torch.where(is_small_error, squared_loss, linear_loss).mean()\n"
      ],
      "metadata": {
        "id": "7M--EG-f0rA1"
      },
      "execution_count": 27,
      "outputs": []
    },
    {
      "cell_type": "code",
      "source": [
        "def log_cosh_loss(y_pred, y_true):\n",
        "    # \"\"\"\n",
        "    # Calculate the Log-Cosh loss between predicted and true values.\n",
        "\n",
        "    # Parameters:\n",
        "    # y_pred (torch.Tensor): Predicted values\n",
        "    # y_true (torch.Tensor): True values\n",
        "\n",
        "    # Returns:\n",
        "    # torch.Tensor: The Log-Cosh loss\n",
        "    # \"\"\"\n",
        "    error = y_true - y_pred\n",
        "    return torch.log(torch.cosh(error)).mean()\n"
      ],
      "metadata": {
        "id": "y6NpLtk-0q8_"
      },
      "execution_count": 28,
      "outputs": []
    },
    {
      "cell_type": "code",
      "source": [
        "def inject_outliers(features, labels, percentage=0.05):\n",
        "    # \"\"\"\n",
        "    # Injects outliers by adding random noise to a percentage of the data.\n",
        "\n",
        "    # Parameters:\n",
        "    # features (torch.Tensor): Input features\n",
        "    # labels (torch.Tensor): True labels\n",
        "    # percentage (float): Percentage of data to modify with outliers\n",
        "\n",
        "    # Returns:\n",
        "    # torch.Tensor: Modified labels with outliers\n",
        "    # \"\"\"\n",
        "    num_outliers = int(percentage * len(labels))\n",
        "    indices = torch.randperm(len(labels))[:num_outliers]\n",
        "\n",
        "    # Add random noise to the selected indices in the label data\n",
        "    labels[indices] += torch.normal(0, 10, size=labels[indices].shape)\n",
        "    return labels\n",
        "\n",
        "# Inject 5% outliers\n",
        "labels_with_outliers = inject_outliers(features, labels.clone(), percentage=0.05)\n"
      ],
      "metadata": {
        "id": "RYExVFunDy9t"
      },
      "execution_count": 29,
      "outputs": []
    },
    {
      "cell_type": "code",
      "source": [
        "# Train the model with different loss functions\n",
        "def train_model(loss_fn, num_epochs=3, lr=0.1):\n",
        "    w = torch.normal(0, 0.01, size=(2, 1), requires_grad=True)\n",
        "    b = torch.zeros(1, requires_grad=True)\n",
        "\n",
        "    for epoch in range(num_epochs):\n",
        "        for X, y in data_iter(batch_size, features, labels_with_outliers):\n",
        "            l = loss_fn(linreg(X, w, b), y)\n",
        "            l.sum().backward()\n",
        "            sgd([w, b], lr, batch_size)\n",
        "\n",
        "        with torch.no_grad():\n",
        "            train_l = loss_fn(linreg(features, w, b), labels_with_outliers)\n",
        "            print(f'Epoch {epoch + 1}, Loss: {float(train_l.mean()):f}')\n",
        "\n",
        "    print(f'Error in estimating w: {true_w - w.reshape(true_w.shape)}')\n",
        "    print(f'Error in estimating b: {true_b - b}')\n",
        "\n",
        "# Train and compare models using different loss functions\n",
        "print(\"MSE Loss:\")\n",
        "train_model(squared_loss) # provided in notebook\n",
        "\n",
        "print(\"\\nHuber Loss:\")\n",
        "train_model(huber_loss)\n",
        "\n",
        "print(\"\\nLog-Cosh Loss:\")\n",
        "train_model(log_cosh_loss)\n"
      ],
      "metadata": {
        "id": "ieb0lMMQECJL",
        "outputId": "66399484-58f0-4f27-8acf-fa4c5facb123",
        "colab": {
          "base_uri": "https://localhost:8080/"
        }
      },
      "execution_count": 35,
      "outputs": [
        {
          "output_type": "stream",
          "name": "stdout",
          "text": [
            "MSE Loss:\n",
            "Epoch 1, Loss: 2.220629\n",
            "Epoch 2, Loss: 2.225912\n",
            "Epoch 3, Loss: 2.208471\n",
            "Error in estimating w: tensor([0.1085, 0.1708], grad_fn=<SubBackward0>)\n",
            "Error in estimating b: tensor([-0.0009], grad_fn=<RsubBackward1>)\n",
            "\n",
            "Huber Loss:\n",
            "Epoch 1, Loss: 3.783197\n",
            "Epoch 2, Loss: 3.153975\n",
            "Epoch 3, Loss: 2.547298\n",
            "Error in estimating w: tensor([ 1.2612, -2.1756], grad_fn=<SubBackward0>)\n",
            "Error in estimating b: tensor([2.3138], grad_fn=<RsubBackward1>)\n",
            "\n",
            "Log-Cosh Loss:\n",
            "Epoch 1, Loss: 3.620594\n",
            "Epoch 2, Loss: 3.005432\n",
            "Epoch 3, Loss: 2.416253\n",
            "Error in estimating w: tensor([ 1.2670, -2.1760], grad_fn=<SubBackward0>)\n",
            "Error in estimating b: tensor([2.3349], grad_fn=<RsubBackward1>)\n"
          ]
        }
      ]
    },
    {
      "cell_type": "markdown",
      "source": [
        "**Summary**\n",
        "\n",
        "---\n",
        "I added 5% outliers into the data by adding random noise. I compared the performance between MSE loss, Huber loss, and Log-Cosh loss. I set the number of epochs to 3 and set the learning rate to 0.1. The MSE loss is the least robut of the three loss functions. Huber loss and Log-Cosh loss are effective at decreasing the loss value but show results of high error in weights and bias estimates. Overall, Huber loss and Log-Cosh loss are more equipt at handeling data with outliers than MSE loss. MSE loss resulted in the lowest eorros for weights and bias estimates.  \n"
      ],
      "metadata": {
        "id": "T3HzL1ZvF3Ha"
      }
    },
    {
      "cell_type": "code",
      "source": [
        "# Summary\n",
        "\n",
        "# Task 4: Summarize Observations\n",
        "# Create a text cell summarizing:\n",
        "# Number of outliers added to the data (expressed as a percentage or a number).\n",
        "# Comparison of performance between MSE, Huber loss, and Log-Cosh loss.\n",
        "# Focus on how robust each loss function is in the presence of outliers.\n",
        "# Mention which loss function resulted in smaller errors for w and b estimates."
      ],
      "metadata": {
        "id": "_QiqRoY0FwIY"
      },
      "execution_count": null,
      "outputs": []
    },
    {
      "cell_type": "markdown",
      "source": [
        "#Assigned tasks:\n",
        "##This is not a coding task. Create a text cell below this cell, go through the Jake VDP linear regression notebook and write in your own words (2 -3 paragraphs):\n",
        "\n",
        "\n",
        "*   Different regression techniques presented in the notebook.\n",
        "*   Think of a problem similar to predicting bicycle traffic and describe how you would solve it with regression.\n",
        "\n",
        "\n",
        "\n",
        "\n",
        "\n",
        "\n",
        "\n"
      ],
      "metadata": {
        "id": "RgDBNpLsc77d"
      }
    },
    {
      "cell_type": "markdown",
      "source": [
        "The Jake VDP notebook covered a few regression techniques. First, simple linear regiression, which fits a straight line to the data, is presented. Scikit-Learn's linear regression used to fine the best-fit line for single and multi-dimensional models is discussed. It also covers basis function regression, including polynomial regression. Gaussian basis functions are discussed. Next, the notebook discusses the use of regularization techniques, those being L2 and L1. Ridge regression (L2 regularization) and Lasso regression (L1 regularization) both are used to help prevent overfitting by penalizing hte size of model coefficients.\n",
        "\n",
        "\n",
        "\n",
        "---\n",
        "\n",
        "A similar problem to the one presented here about bicycle traffic data could be using linear regression to predict movie box office revenue. This would be a multiple linear regression problem because there are multiple variables that infuence the revenue. To solve this problem I would list the independent variables:\n",
        "1. Budget - The amount spent to produce the movie. Higher quality production movies could correlate with higher revenue.\n",
        "2. Release date - Movies release during certian time periods may perform better than other time periods due to more attendance.\n",
        "3. Popularity: The name recognition of the director, actors, etc. may attact more audience leading to higher revenue.\n",
        "4. Genre: Different genres perform differently in theaters. Action movies might have higher revenue than horror movies.\n",
        "\n",
        "The model could be improved by including more features and data sources such as time series data. This could show changes in audiences behavior over time. Changes in preferences could impact movie sales and revenue. Also, marketing's effectiveness to influence audiences to see the movie could provide insights into movie sales and revenue. I would also inclue demographic information about audiences viewership. There's a lot of variables that could be added to this, but starting here would be provide an introductory method of viewing which of these factors influence movie box office revenues."
      ],
      "metadata": {
        "id": "kCmOupYF3HQ-"
      }
    },
    {
      "cell_type": "code",
      "source": [
        "'''\n",
        "\n",
        "Introduce a practical problem where linear regression can be applied, such as predicting household energy consumption.\n",
        "Identify potential independent variables: temperature, day of the week, time of day, and whether it is a weekday or weekend.\n",
        "Explain how regression could help estimate energy use based on these factors, similar to how weather and time predict bicycle traffic.\n",
        "Discuss briefly how the model could be improved by including additional variables like humidity or special events.\n",
        "This outline ensures you cover the key elements of regression techniques and a practical example, just as the assignment requires.\n",
        "Let me know if you'd like to refine any part!\n",
        "\n",
        "'''"
      ],
      "metadata": {
        "id": "BX8Npasz3dLg"
      },
      "execution_count": null,
      "outputs": []
    },
    {
      "cell_type": "code",
      "source": [],
      "metadata": {
        "id": "cAEUF93V2sJz"
      },
      "execution_count": null,
      "outputs": []
    }
  ]
}