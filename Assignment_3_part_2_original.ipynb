{
  "nbformat": 4,
  "nbformat_minor": 0,
  "metadata": {
    "colab": {
      "provenance": [],
      "include_colab_link": true
    },
    "kernelspec": {
      "name": "python3",
      "display_name": "Python 3"
    },
    "language_info": {
      "name": "python"
    }
  },
  "cells": [
    {
      "cell_type": "markdown",
      "metadata": {
        "id": "view-in-github",
        "colab_type": "text"
      },
      "source": [
        "<a href=\"https://colab.research.google.com/github/MadmanMarble/GLAP/blob/main/Assignment_3_part_2_original.ipynb\" target=\"_parent\"><img src=\"https://colab.research.google.com/assets/colab-badge.svg\" alt=\"Open In Colab\"/></a>"
      ]
    },
    {
      "cell_type": "code",
      "source": [
        "from google.colab import drive\n",
        "drive.mount('/content/drive')"
      ],
      "metadata": {
        "colab": {
          "base_uri": "https://localhost:8080/"
        },
        "id": "KoSaBvq0FUFo",
        "outputId": "95280cc0-3bb6-4028-8a9b-136b338dcd6a"
      },
      "execution_count": 1,
      "outputs": [
        {
          "output_type": "stream",
          "name": "stdout",
          "text": [
            "Mounted at /content/drive\n"
          ]
        }
      ]
    },
    {
      "cell_type": "code",
      "metadata": {
        "id": "LGVGS1qECa34"
      },
      "source": [
        "!pip install -U d2l"
      ],
      "execution_count": null,
      "outputs": []
    },
    {
      "cell_type": "code",
      "metadata": {
        "id": "FdM61hiJCTJt"
      },
      "source": [
        "%matplotlib inline\n",
        "import torch\n",
        "import numpy as np\n",
        "from IPython import display\n",
        "from d2l import torch as d2l"
      ],
      "execution_count": null,
      "outputs": []
    },
    {
      "cell_type": "code",
      "metadata": {
        "cellView": "form",
        "id": "Lj4W025ZDLiL"
      },
      "source": [
        "#@title Useful function definitions (RUN THIS CELL)\n",
        "def use_svg_display():\n",
        "    \"\"\"Use the svg format to display a plot in Jupyter.\"\"\"\n",
        "    display.set_matplotlib_formats('svg')\n",
        "\n",
        "def set_figsize(figsize=(3.5, 2.5)):\n",
        "    \"\"\"Set the figure size for matplotlib.\"\"\"\n",
        "    use_svg_display()\n",
        "    d2l.plt.rcParams['figure.figsize'] = figsize\n",
        "\n",
        "def set_axes(axes, xlabel, ylabel, xlim, ylim, xscale, yscale, legend):\n",
        "    \"\"\"Set the axes for matplotlib.\"\"\"\n",
        "    axes.set_xlabel(xlabel)\n",
        "    axes.set_ylabel(ylabel)\n",
        "    axes.set_xscale(xscale)\n",
        "    axes.set_yscale(yscale)\n",
        "    axes.set_xlim(xlim)\n",
        "    axes.set_ylim(ylim)\n",
        "    if legend:\n",
        "        axes.legend(legend)\n",
        "    axes.grid()\n",
        "\n",
        "def plot(X, Y=None, xlabel=None, ylabel=None, legend=None, xlim=None,\n",
        "         ylim=None, xscale='linear', yscale='linear',\n",
        "         fmts=('-', 'm--', 'g-.', 'r:'), figsize=(3.5, 2.5), axes=None):\n",
        "    \"\"\"Plot data points.\"\"\"\n",
        "    if legend is None:\n",
        "        legend = []\n",
        "\n",
        "    set_figsize(figsize)\n",
        "    axes = axes if axes else d2l.plt.gca()\n",
        "\n",
        "    # Return True if `X` (tensor or list) has 1 axis\n",
        "    def has_one_axis(X):\n",
        "        return (hasattr(X, \"ndim\") and X.ndim == 1 or\n",
        "                isinstance(X, list) and not hasattr(X[0], \"__len__\"))\n",
        "\n",
        "    if has_one_axis(X):\n",
        "        X = [X]\n",
        "    if Y is None:\n",
        "        X, Y = [[]] * len(X), X\n",
        "    elif has_one_axis(Y):\n",
        "        Y = [Y]\n",
        "    if len(X) != len(Y):\n",
        "        X = X * len(Y)\n",
        "    axes.cla()\n",
        "    for x, y, fmt in zip(X, Y, fmts):\n",
        "        if len(x):\n",
        "            axes.plot(x, y, fmt)\n",
        "        else:\n",
        "            axes.plot(y, fmt)\n",
        "    set_axes(axes, xlabel, ylabel, xlim, ylim, xscale, yscale, legend)\n"
      ],
      "execution_count": null,
      "outputs": []
    },
    {
      "cell_type": "markdown",
      "metadata": {
        "id": "mmN3btYgP2fw"
      },
      "source": [
        "##The code cell below shows an example of plotting a function and its derivative where the derivative equation is hand-calculated.\n"
      ]
    },
    {
      "cell_type": "code",
      "metadata": {
        "id": "vs98kbfNEceT"
      },
      "source": [
        "def f(x):\n",
        "    return 3 * x ** 2 - 4 * x\n",
        "\n",
        "x = np.arange(0, 3, 0.1)\n",
        "plot(x, [f(x), 6 * x - 4], 'x', 'f(x)', legend=['f(x)', 'derivative of f(x)'])\n"
      ],
      "execution_count": null,
      "outputs": []
    },
    {
      "cell_type": "markdown",
      "metadata": {
        "id": "CL1C9B9TqJA1"
      },
      "source": [
        "##The code cell below shows the same function and its derivative at a specific value where the derivative  is automatically calculate by PyTorch Autograd.\n"
      ]
    },
    {
      "cell_type": "code",
      "metadata": {
        "id": "BUGSTSsNa0qj"
      },
      "source": [
        "x = torch.tensor(1.0)\n",
        "x.requires_grad_(True)  # Same as `x = torch.arange(4.0, requires_grad=True)`\n",
        "y = f(x)\n",
        "y.backward()\n",
        "x.grad.item()"
      ],
      "execution_count": null,
      "outputs": []
    },
    {
      "cell_type": "markdown",
      "metadata": {
        "id": "hp4Mt714t_Uu"
      },
      "source": [
        "##The code cell below shows the same function and its derivatives at all values in the range where the derivatives are automatically calculates by PyTorch Autograd. The visualization is also shown to match the previous visualization with hand-calculated derivative."
      ]
    },
    {
      "cell_type": "code",
      "metadata": {
        "id": "wFWrXLaFqZMU"
      },
      "source": [
        "xvals = np.arange(0, 3, 0.1)\n",
        "grad_vals = []\n",
        "for val in xvals:\n",
        "  x = torch.tensor(val)\n",
        "  x.requires_grad_(True)\n",
        "  y = f(x)\n",
        "  y.backward()\n",
        "  grad_vals.append( x.grad.item() )"
      ],
      "execution_count": null,
      "outputs": []
    },
    {
      "cell_type": "code",
      "metadata": {
        "id": "DXGE6QJcrUyB"
      },
      "source": [
        "plot(xvals, [f(xvals), grad_vals], 'x', 'f(x)', legend=['f(x)', 'Tangent line (x=1)'])"
      ],
      "execution_count": null,
      "outputs": []
    },
    {
      "cell_type": "markdown",
      "metadata": {
        "id": "vUtnW3P4NQkO"
      },
      "source": [
        "#Assigned tasks:\n",
        "Create your own function called ***g(x)*** that is a polynomial of a single variable and some well known functions of that variable (there should be at least one trigonometric function).\n",
        "Plot this function ***g(x)*** along with its derivative (which you will need to write in code as another function), on a chosen numerical range of values.\n"
      ]
    },
    {
      "cell_type": "markdown",
      "metadata": {
        "id": "OFmX_CdPOEVa"
      },
      "source": [
        "#Assigned tasks:\n",
        "Create a function ***h(x)*** which is the product of ***f(x)*** given in the notebook and your own function ***g(x)***. Plot this function ***h(x)*** along with its derivative, on a chosen numerical range of values. **However this time you must use the PyTorch autograd to compute the gradient, not the hand-calculated gradient.**\n",
        "\n"
      ]
    }
  ]
}