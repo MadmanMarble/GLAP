{
  "cells": [
    {
      "cell_type": "markdown",
      "metadata": {
        "id": "view-in-github",
        "colab_type": "text"
      },
      "source": [
        "<a href=\"https://colab.research.google.com/github/MadmanMarble/GLAP/blob/main/Assignment_2.ipynb\" target=\"_parent\"><img src=\"https://colab.research.google.com/assets/colab-badge.svg\" alt=\"Open In Colab\"/></a>"
      ]
    },
    {
      "cell_type": "code",
      "source": [
        "from google.colab import drive\n",
        "drive.mount('/content/drive')"
      ],
      "metadata": {
        "colab": {
          "base_uri": "https://localhost:8080/"
        },
        "id": "-SBnJ_6qQAJS",
        "outputId": "a46093b7-e54a-43fd-e6aa-e4c36309dc62"
      },
      "execution_count": 5,
      "outputs": [
        {
          "output_type": "stream",
          "name": "stdout",
          "text": [
            "Drive already mounted at /content/drive; to attempt to forcibly remount, call drive.mount(\"/content/drive\", force_remount=True).\n"
          ]
        }
      ]
    },
    {
      "cell_type": "code",
      "execution_count": 6,
      "metadata": {
        "id": "crgx46dwOWBu"
      },
      "outputs": [],
      "source": [
        "import sys\n",
        "sys.path.insert(0,'/content/drive/MyDrive/GLAP/aipython/aipython/')"
      ]
    },
    {
      "cell_type": "code",
      "execution_count": 7,
      "metadata": {
        "id": "4BwJ35S4OiaY"
      },
      "outputs": [],
      "source": [
        "from searchGeneric import Searcher, AStarSearcher\n",
        "import searchExample\n",
        "# added during class\n",
        "from searchProblem import Arc"
      ]
    },
    {
      "cell_type": "code",
      "source": [
        "searcher_sdg = Searcher(searchExample.simp_delivery_graph)"
      ],
      "metadata": {
        "id": "Sm4NfNC0HgY-"
      },
      "execution_count": 8,
      "outputs": []
    },
    {
      "cell_type": "code",
      "source": [
        "searcher_sdg.search()"
      ],
      "metadata": {
        "id": "jnMSznnGHmj1",
        "colab": {
          "base_uri": "https://localhost:8080/"
        },
        "outputId": "dc29cd8b-89a8-4d65-f584-4374fba86547"
      },
      "execution_count": 9,
      "outputs": [
        {
          "output_type": "stream",
          "name": "stdout",
          "text": [
            "Solution: A --> B --> F --> D --> H --> G (cost: 14)\n",
            " 7 paths have been expanded and 2 paths remain in the frontier\n"
          ]
        },
        {
          "output_type": "execute_result",
          "data": {
            "text/plain": [
              "A --> B --> F --> D --> H --> G"
            ]
          },
          "metadata": {},
          "execution_count": 9
        }
      ]
    },
    {
      "cell_type": "code",
      "source": [
        "astar_searcher_sdg = AStarSearcher(searchExample.simp_delivery_graph)"
      ],
      "metadata": {
        "id": "VHtpOifaHpeq"
      },
      "execution_count": 10,
      "outputs": []
    },
    {
      "cell_type": "code",
      "source": [
        "# the first solution it found is the optimal path\n",
        "astar_searcher_sdg.search()"
      ],
      "metadata": {
        "id": "_pQWc-WtIwcu",
        "colab": {
          "base_uri": "https://localhost:8080/"
        },
        "outputId": "654dd96e-4ced-43a5-a565-ecb2157fce85"
      },
      "execution_count": 11,
      "outputs": [
        {
          "output_type": "stream",
          "name": "stdout",
          "text": [
            "Solution: A --> D --> H --> G (cost: 11)\n",
            " 7 paths have been expanded and 2 paths remain in the frontier\n"
          ]
        },
        {
          "output_type": "execute_result",
          "data": {
            "text/plain": [
              "A --> D --> H --> G"
            ]
          },
          "metadata": {},
          "execution_count": 11
        }
      ]
    },
    {
      "cell_type": "markdown",
      "source": [
        "#Assignment\n",
        "Create a problem instance of ***Search_problem_from_explicit_graph*** which is a Word Ladder problem. You can implement the COLD to WARM word ladder problem shown in <href> https://en.wikipedia.org/wiki/Word_ladder </href>\n",
        "\n",
        "Hints:\n",
        "\n",
        "\n",
        "1.   Look inside the script searchExample.py to look up examples.\n",
        "2.   You can follow the \"problem1\" example.\n",
        "3.   You don't need positions.\n",
        "4.   Each node is a single word from all the set of words shown in the solution.\n",
        "5.   Connect two nodes with an Arc as shown by the arrows in the Wikipedia example.\n",
        "\n",
        "Your code should have\n",
        "1.   the problem instance definition code\n",
        "2.   the call to Searcher along with the call to search( )\n",
        "3.   the call to AStarSearcher along with the call to search( )\n",
        "\n",
        "\n",
        "\n"
      ],
      "metadata": {
        "id": "qPioStoxRK58"
      }
    },
    {
      "cell_type": "code",
      "source": [
        "\"\"\"\n",
        "\n",
        "following along with professor\n",
        "\n",
        "name, list\n",
        "(rewatch 1:34)\n",
        "\n",
        "position is a dictionary\n",
        "------\n",
        "\n",
        "\n",
        "cold to warm, like the start position\n",
        "\n",
        "set up a\n",
        "\n",
        "it has to be a valid word. were doing words\n",
        "\n",
        "set up a graph each node would be a word, and create archs based on changing one\n",
        "word to the next by chanigning one letter\n",
        "visualas are not required, but you can if you want to.\n",
        "essential part is set up the nodes, archs, start, and goal(s). should be one goal\n",
        "if more than one goal use {}\n",
        "\n",
        "\n",
        "pick two words.\n",
        "\n",
        "\n",
        "arc is not in searchgexample.py WHERE is arc??? its in searchProblem, my notebook had\n",
        "disconnected\n",
        "\n",
        "\n",
        "\n",
        "set up using\n",
        "\n",
        "\"\"\""
      ],
      "metadata": {
        "id": "bkVL1u58gm4V"
      },
      "execution_count": null,
      "outputs": []
    },
    {
      "cell_type": "code",
      "source": [
        "# original\n",
        "# problem1 = Search_problem_from_explicit_graph('Problem 1',\n",
        "#     {'A','B','C','D','G'},\n",
        "#     [Arc('A','B',3), Arc('A','C',1), Arc('B','D',1), Arc('B','G',3),\n",
        "#          Arc('C','B',1), Arc('C','D',3), Arc('D','G',1)],\n",
        "#     start = 'A',\n",
        "#     goals = {'G'},\n",
        "#     positions={'A': (0, 1), 'B': (0.5, 0.5), 'C': (0,0.5), 'D': (0.5,0), 'G': (1,0)})\n",
        "\n",
        "\n",
        "\n",
        "# add searchExample. before the code\n",
        "\n",
        "\n",
        "problemX = searchExample.Search_problem_from_explicit_graph('Problem 1',\n",
        "    {'COLD','WARM','CORD','CORM','G'},\n",
        "    [Arc('COLD','CORD',1), Arc('X','C',1), Arc('B','D',1), Arc('B','G',3),\n",
        "         Arc('C','B',1), Arc('C','D',3), Arc('D','G',1)],\n",
        "    start = 'X',\n",
        "    goals = {'G'},\n",
        "    positions={'X': (0, 1), 'B': (0.5, 0.5), 'C': (0,0.5), 'D': (0.5,0), 'G': (1,0)})\n"
      ],
      "metadata": {
        "id": "5CF7CtVBgm2K"
      },
      "execution_count": null,
      "outputs": []
    },
    {
      "cell_type": "code",
      "source": [],
      "metadata": {
        "id": "yLL-S2Jmgmz5"
      },
      "execution_count": null,
      "outputs": []
    }
  ],
  "metadata": {
    "colab": {
      "provenance": [],
      "include_colab_link": true
    },
    "kernelspec": {
      "display_name": "Python 3",
      "name": "python3"
    },
    "language_info": {
      "name": "python"
    }
  },
  "nbformat": 4,
  "nbformat_minor": 0
}