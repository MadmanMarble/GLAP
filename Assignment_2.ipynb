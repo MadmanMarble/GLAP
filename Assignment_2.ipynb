{
  "cells": [
    {
      "cell_type": "markdown",
      "metadata": {
        "id": "view-in-github",
        "colab_type": "text"
      },
      "source": [
        "<a href=\"https://colab.research.google.com/github/MadmanMarble/GLAP/blob/main/Assignment_2.ipynb\" target=\"_parent\"><img src=\"https://colab.research.google.com/assets/colab-badge.svg\" alt=\"Open In Colab\"/></a>"
      ]
    },
    {
      "cell_type": "code",
      "execution_count": null,
      "metadata": {
        "id": "crgx46dwOWBu"
      },
      "outputs": [],
      "source": [
        "import sys\n",
        "sys.path.insert(0,'/content/drive/MyDrive/GLAI/aipython/')"
      ]
    },
    {
      "cell_type": "code",
      "execution_count": null,
      "metadata": {
        "id": "4BwJ35S4OiaY"
      },
      "outputs": [],
      "source": [
        "from searchGeneric import Searcher, AStarSearcher\n",
        "import searchExample"
      ]
    },
    {
      "cell_type": "code",
      "source": [
        "searcher_sdg = Searcher(searchExample.simp_delivery_graph)"
      ],
      "metadata": {
        "id": "Sm4NfNC0HgY-"
      },
      "execution_count": null,
      "outputs": []
    },
    {
      "cell_type": "code",
      "source": [
        "searcher_sdg.search()"
      ],
      "metadata": {
        "id": "jnMSznnGHmj1"
      },
      "execution_count": null,
      "outputs": []
    },
    {
      "cell_type": "code",
      "source": [
        "astar_searcher_sdg = AStarSearcher(searchExample.simp_delivery_graph)"
      ],
      "metadata": {
        "id": "VHtpOifaHpeq"
      },
      "execution_count": null,
      "outputs": []
    },
    {
      "cell_type": "code",
      "source": [
        "astar_searcher_sdg.search()"
      ],
      "metadata": {
        "id": "_pQWc-WtIwcu"
      },
      "execution_count": null,
      "outputs": []
    },
    {
      "cell_type": "markdown",
      "source": [
        "#Assignment\n",
        "Create a problem instance of ***Search_problem_from_explicit_graph*** which is a Word Ladder problem. You can implement the COLD to WARM word ladder problem shown in <href> https://en.wikipedia.org/wiki/Word_ladder </href>\n",
        "\n",
        "Hints:\n",
        "\n",
        "\n",
        "1.   Look inside the script searchExample.py to look up examples.\n",
        "2.   You can follow the \"problem1\" example.\n",
        "3.   You don't need positions.\n",
        "4.   Each node is a single word from all the set of words shown in the solution.\n",
        "5.   Connect two nodes with an Arc as shown by the arrows in the Wikipedia example.\n",
        "\n",
        "Your code should have\n",
        "1.   the problem instance definition code\n",
        "2.   the call to Searcher along with the call to search( )\n",
        "3.   the call to AStarSearcher along with the call to search( )\n",
        "\n",
        "\n",
        "\n"
      ],
      "metadata": {
        "id": "qPioStoxRK58"
      }
    }
  ],
  "metadata": {
    "colab": {
      "provenance": [],
      "include_colab_link": true
    },
    "kernelspec": {
      "display_name": "Python 3",
      "name": "python3"
    },
    "language_info": {
      "name": "python"
    }
  },
  "nbformat": 4,
  "nbformat_minor": 0
}