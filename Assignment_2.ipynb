{
  "cells": [
    {
      "cell_type": "markdown",
      "metadata": {
        "id": "view-in-github",
        "colab_type": "text"
      },
      "source": [
        "<a href=\"https://colab.research.google.com/github/MadmanMarble/GLAP/blob/main/Assignment_2.ipynb\" target=\"_parent\"><img src=\"https://colab.research.google.com/assets/colab-badge.svg\" alt=\"Open In Colab\"/></a>"
      ]
    },
    {
      "cell_type": "code",
      "source": [
        "from google.colab import drive\n",
        "drive.mount('/content/drive')"
      ],
      "metadata": {
        "colab": {
          "base_uri": "https://localhost:8080/"
        },
        "id": "-SBnJ_6qQAJS",
        "outputId": "a46093b7-e54a-43fd-e6aa-e4c36309dc62"
      },
      "execution_count": 5,
      "outputs": [
        {
          "output_type": "stream",
          "name": "stdout",
          "text": [
            "Drive already mounted at /content/drive; to attempt to forcibly remount, call drive.mount(\"/content/drive\", force_remount=True).\n"
          ]
        }
      ]
    },
    {
      "cell_type": "code",
      "execution_count": 6,
      "metadata": {
        "id": "crgx46dwOWBu"
      },
      "outputs": [],
      "source": [
        "import sys\n",
        "sys.path.insert(0,'/content/drive/MyDrive/GLAP/aipython/aipython/')"
      ]
    },
    {
      "cell_type": "code",
      "execution_count": 7,
      "metadata": {
        "id": "4BwJ35S4OiaY"
      },
      "outputs": [],
      "source": [
        "from searchGeneric import Searcher, AStarSearcher\n",
        "import searchExample\n",
        "# added during class\n",
        "from searchProblem import Arc"
      ]
    },
    {
      "cell_type": "code",
      "source": [
        "searcher_sdg = Searcher(searchExample.simp_delivery_graph)"
      ],
      "metadata": {
        "id": "Sm4NfNC0HgY-"
      },
      "execution_count": 8,
      "outputs": []
    },
    {
      "cell_type": "code",
      "source": [
        "searcher_sdg.search()"
      ],
      "metadata": {
        "id": "jnMSznnGHmj1",
        "colab": {
          "base_uri": "https://localhost:8080/"
        },
        "outputId": "dc29cd8b-89a8-4d65-f584-4374fba86547"
      },
      "execution_count": 9,
      "outputs": [
        {
          "output_type": "stream",
          "name": "stdout",
          "text": [
            "Solution: A --> B --> F --> D --> H --> G (cost: 14)\n",
            " 7 paths have been expanded and 2 paths remain in the frontier\n"
          ]
        },
        {
          "output_type": "execute_result",
          "data": {
            "text/plain": [
              "A --> B --> F --> D --> H --> G"
            ]
          },
          "metadata": {},
          "execution_count": 9
        }
      ]
    },
    {
      "cell_type": "code",
      "source": [
        "astar_searcher_sdg = AStarSearcher(searchExample.simp_delivery_graph)"
      ],
      "metadata": {
        "id": "VHtpOifaHpeq"
      },
      "execution_count": 10,
      "outputs": []
    },
    {
      "cell_type": "code",
      "source": [
        "# the first solution it found is the optimal path\n",
        "astar_searcher_sdg.search()"
      ],
      "metadata": {
        "id": "_pQWc-WtIwcu",
        "colab": {
          "base_uri": "https://localhost:8080/"
        },
        "outputId": "654dd96e-4ced-43a5-a565-ecb2157fce85"
      },
      "execution_count": 11,
      "outputs": [
        {
          "output_type": "stream",
          "name": "stdout",
          "text": [
            "Solution: A --> D --> H --> G (cost: 11)\n",
            " 7 paths have been expanded and 2 paths remain in the frontier\n"
          ]
        },
        {
          "output_type": "execute_result",
          "data": {
            "text/plain": [
              "A --> D --> H --> G"
            ]
          },
          "metadata": {},
          "execution_count": 11
        }
      ]
    },
    {
      "cell_type": "markdown",
      "source": [
        "#Assignment\n",
        "Create a problem instance of ***Search_problem_from_explicit_graph*** which is a Word Ladder problem. You can implement the COLD to WARM word ladder problem shown in <href> https://en.wikipedia.org/wiki/Word_ladder </href>\n",
        "\n",
        "Hints:\n",
        "\n",
        "\n",
        "1.   Look inside the script searchExample.py to look up examples.\n",
        "2.   You can follow the \"problem1\" example.\n",
        "3.   You don't need positions.\n",
        "4.   Each node is a single word from all the set of words shown in the solution.\n",
        "5.   Connect two nodes with an Arc as shown by the arrows in the Wikipedia example.\n",
        "\n",
        "Your code should have\n",
        "1.   the problem instance definition code\n",
        "2.   the call to Searcher along with the call to search( )\n",
        "3.   the call to AStarSearcher along with the call to search( )\n",
        "\n",
        "\n",
        "\n"
      ],
      "metadata": {
        "id": "qPioStoxRK58"
      }
    },
    {
      "cell_type": "code",
      "source": [
        "\"\"\"\n",
        "\n",
        "following along with professor\n",
        "\n",
        "name, list\n",
        "(rewatch 1:34)\n",
        "\n",
        "position is a dictionary\n",
        "------\n",
        "\n",
        "\n",
        "cold to warm, like the start position\n",
        "\n",
        "set up a\n",
        "\n",
        "it has to be a valid word. were doing words\n",
        "\n",
        "set up a graph each node would be a word, and create archs based on changing one\n",
        "word to the next by chanigning one letter\n",
        "visualas are not required, but you can if you want to.\n",
        "essential part is set up the nodes, archs, start, and goal(s). should be one goal\n",
        "if more than one goal use {}\n",
        "\n",
        "\n",
        "pick two words.\n",
        "\n",
        "\n",
        "arc is not in searchgexample.py WHERE is arc??? its in searchProblem, my notebook had\n",
        "disconnected\n",
        "\n",
        "\n",
        "\n",
        "set up using\n",
        "\n",
        "\"\"\""
      ],
      "metadata": {
        "id": "bkVL1u58gm4V"
      },
      "execution_count": null,
      "outputs": []
    },
    {
      "cell_type": "code",
      "source": [
        "# original\n",
        "# problem1 = Search_problem_from_explicit_graph('Problem 1',\n",
        "#     {'A','B','C','D','G'},\n",
        "#     [Arc('A','B',3), Arc('A','C',1), Arc('B','D',1), Arc('B','G',3),\n",
        "#          Arc('C','B',1), Arc('C','D',3), Arc('D','G',1)],\n",
        "#     start = 'A',\n",
        "#     goals = {'G'},\n",
        "#     positions={'A': (0, 1), 'B': (0.5, 0.5), 'C': (0,0.5), 'D': (0.5,0), 'G': (1,0)})\n",
        "\n",
        "\n",
        "\n",
        "# add searchExample. before the code\n",
        "\n",
        "problem1 = searchExample.Search_problem_from_explicit_graph('Problem 1',\n",
        "    {'A','B','C','D','G'},\n",
        "    [Arc('A','B',3), Arc('A','C',1), Arc('B','D',1), Arc('B','G',3),\n",
        "         Arc('C','B',1), Arc('C','D',3), Arc('D','G',1)],\n",
        "    start = 'A',\n",
        "    goals = {'G'},\n",
        "    positions={'A': (0, 1), 'B': (0.5, 0.5), 'C': (0,0.5), 'D': (0.5,0), 'G': (1,0)})\n"
      ],
      "metadata": {
        "id": "5CF7CtVBgm2K"
      },
      "execution_count": 12,
      "outputs": []
    },
    {
      "cell_type": "code",
      "source": [
        "searcher_sdg1 = Searcher(problem1)"
      ],
      "metadata": {
        "id": "15gH8KgfmuQf"
      },
      "execution_count": 13,
      "outputs": []
    },
    {
      "cell_type": "code",
      "source": [
        "searcher_sdg1.search()"
      ],
      "metadata": {
        "colab": {
          "base_uri": "https://localhost:8080/"
        },
        "id": "4tRt4qNmm5L-",
        "outputId": "ef407bbb-fc76-4bfe-c40d-ec580b3fa58b"
      },
      "execution_count": 14,
      "outputs": [
        {
          "output_type": "stream",
          "name": "stdout",
          "text": [
            "Solution: A --> B --> D --> G (cost: 5)\n",
            " 4 paths have been expanded and 2 paths remain in the frontier\n"
          ]
        },
        {
          "output_type": "execute_result",
          "data": {
            "text/plain": [
              "A --> B --> D --> G"
            ]
          },
          "metadata": {},
          "execution_count": 14
        }
      ]
    },
    {
      "cell_type": "code",
      "source": [
        "astar_searcher_sdg1 = AStarSearcher(problem1)"
      ],
      "metadata": {
        "id": "1laTOcs9nazb"
      },
      "execution_count": 16,
      "outputs": []
    },
    {
      "cell_type": "code",
      "source": [
        "astar_searcher_sdg1.search()"
      ],
      "metadata": {
        "colab": {
          "base_uri": "https://localhost:8080/"
        },
        "id": "hWWb-ALWnas4",
        "outputId": "b3579a72-532c-4cbd-ab47-daaf79c2424a"
      },
      "execution_count": 17,
      "outputs": [
        {
          "output_type": "stream",
          "name": "stdout",
          "text": [
            "Solution: A --> C --> B --> D --> G (cost: 4)\n",
            " 7 paths have been expanded and 4 paths remain in the frontier\n"
          ]
        },
        {
          "output_type": "execute_result",
          "data": {
            "text/plain": [
              "A --> C --> B --> D --> G"
            ]
          },
          "metadata": {},
          "execution_count": 17
        }
      ]
    },
    {
      "cell_type": "code",
      "source": [
        "# # in class example in work\n",
        "# problemX = searchExample.Search_problem_from_explicit_graph('Problem 1',\n",
        "#     {'COLD','WARM','CORD','CORM','G'},\n",
        "#     [Arc('COLD','CORD',1), Arc('X','C',1), Arc('B','D',1), Arc('B','G',3),\n",
        "#          Arc('C','B',1), Arc('C','D',3), Arc('D','G',1)],\n",
        "#     start = 'X',\n",
        "#     goals = {'G'},\n",
        "#     positions={'X': (0, 1), 'B': (0.5, 0.5), 'C': (0,0.5), 'D': (0.5,0), 'G': (1,0)})\n"
      ],
      "metadata": {
        "id": "yLL-S2Jmgmz5"
      },
      "execution_count": null,
      "outputs": []
    },
    {
      "cell_type": "code",
      "source": [
        "# my problem\n",
        "\n",
        "# start word:\n",
        "# end word:\n",
        "# change the start word to the end word\n",
        "# each step, you can change one letter\n",
        "# COLD to WARM has the least # of solutions, 7\n",
        "# each step has to be a valid word\n",
        "# music to movie\n",
        "\n",
        "\n",
        "# -----MUSIC\n",
        "# -----MESIC\n",
        "# -----MELIC\n",
        "# -----MALIC\n",
        "\n",
        "# -----MANIC\n",
        "\n",
        "# -----MANIA\n",
        "\n",
        "# -----MANGA\n",
        "\n",
        "# -----MANGO\n",
        "# -----MONGO\n",
        "\n",
        "# -----MONDO\n",
        "\n",
        "# -----MONDE\n",
        "\n",
        "# -----MONIE\n",
        "# -----MOVIE\n",
        "\n",
        "# -----MALIS\n",
        "# -----MAVIS\n",
        "\n",
        "# -----MAVIE\n",
        "\n",
        "# -----METIC\n",
        "\n",
        "# -----METIS\n",
        "# -----METES\n",
        "\n",
        "# -----MATES\n",
        "\n",
        "# -----MAKES\n",
        "\n",
        "# -----CAKES\n",
        "\n",
        "# -----CASES\n",
        "# -----CASTS\n",
        "\n",
        "# -----COSTS\n",
        "# -----COATS\n",
        "# -----BOATS\n",
        "# -----BOOTS\n",
        "# -----BOOTH\n",
        "# -----SOOTH\n",
        "\n",
        "# -----SOUTH\n",
        "# -----MOUTH\n",
        "# -----MONTH\n",
        "# -----MONTE\n",
        "\n",
        "\n",
        "problem_amanda = searchExample.Search_problem_from_explicit_graph('Problem Amanda',\n",
        "    {'MUSIC', 'MESIC', 'MELIC', 'MALIC', 'MANIC', 'MANIA', 'MANGA', 'MANGO', 'MONGO',\n",
        "     'MONDO', 'MONDE', 'MONIE', 'MALIS', 'MAVIS', 'MAVIE', 'METIC',\n",
        "     'METIS', 'METES', 'MATES', 'MAKES', 'CAKES', 'CASES', 'CASTS',\n",
        "     'COSTS', 'COATS', 'BOATS', 'BOOTS', 'BOOTH', 'SOOTH', 'SOUTH',\n",
        "     'MOUTH', 'MONTH', 'MONTE', 'MOVIE'},\n",
        "    [Arc('MUSIC', 'MESIC', 1),  # Arcs representing valid word transformations\n",
        "     Arc('MESIC', 'MELIC', 1),\n",
        "     Arc('MELIC', 'MALIC', 1),\n",
        "     Arc('MALIC', 'MANIC', 1),\n",
        "     Arc('MANIC', 'MANIA', 1),\n",
        "     Arc('MANIA', 'MANGA', 1),\n",
        "     Arc('MANGA', 'MANGO', 1),\n",
        "     Arc('MANGO', 'MONGO', 1),\n",
        "     Arc('MONGO', 'MONDO', 1),\n",
        "     Arc('MONDO', 'MONDE', 1),\n",
        "     Arc('MONDE', 'MONIE', 1),\n",
        "     Arc('MONIE', 'MOVIE', 1),\n",
        "     Arc('', '', 1),\n",
        "     Arc('', '', 1),\n",
        "     Arc('', '', 1),\n",
        "     Arc('', '', 1),\n",
        "     Arc('', '', 1),\n",
        "\n",
        "\n",
        "     Arc('MONIE', 'MOVIE', 1)],\n",
        "    start='MUSIC',  # Start word\n",
        "    goals={'MOVIE'},  # End word\n",
        "    positions={\n",
        "        'MUSIC': (.21,.21),\n",
        "        'B': (.13,.20),\n",
        "        'C': (.62,.05),\n",
        "        'D': (.50,.28),\n",
        "        'E': (.72,.61),\n",
        "        'F': (.17,.75),\n",
        "        'G': (.10,.50),\n",
        "        'H': (.18,.60),\n",
        "        'I': (.90,.23),\n",
        "        'J': (.40,.12),\n",
        "        'K': (.26,.26),\n",
        "        'MOVIE': (.34,.80)\n",
        "    }\n",
        ")\n",
        "\n",
        "\n",
        "\n",
        "\n"
      ],
      "metadata": {
        "id": "OtZqBWAWn4gL"
      },
      "execution_count": 33,
      "outputs": []
    },
    {
      "cell_type": "code",
      "source": [
        "searcher_sdg_amanda = Searcher(problem_amanda)"
      ],
      "metadata": {
        "id": "R29zvDEgrqwq"
      },
      "execution_count": 34,
      "outputs": []
    },
    {
      "cell_type": "code",
      "source": [
        "searcher_sdg_amanda.search()"
      ],
      "metadata": {
        "colab": {
          "base_uri": "https://localhost:8080/"
        },
        "id": "XupcDZ0srzEm",
        "outputId": "dc08acd0-2bc4-480e-a37f-13471b24f8d2"
      },
      "execution_count": 35,
      "outputs": [
        {
          "output_type": "stream",
          "name": "stdout",
          "text": [
            "Solution: MUSIC --> MESIC --> MELIC --> MALIC --> MANIC --> MANIA --> MANGA --> MANGO --> MONGO --> MONDO --> MONDE --> MONIE --> MOVIE (cost: 12)\n",
            " 13 paths have been expanded and 0 paths remain in the frontier\n"
          ]
        },
        {
          "output_type": "execute_result",
          "data": {
            "text/plain": [
              "MUSIC --> MESIC --> MELIC --> MALIC --> MANIC --> MANIA --> MANGA --> MANGO --> MONGO --> MONDO --> MONDE --> MONIE --> MOVIE"
            ]
          },
          "metadata": {},
          "execution_count": 35
        }
      ]
    },
    {
      "cell_type": "code",
      "source": [
        "astar_searcher_sdg_amanda = AStarSearcher(problem_amanda)"
      ],
      "metadata": {
        "id": "ovkMY-bar2YL"
      },
      "execution_count": 36,
      "outputs": []
    },
    {
      "cell_type": "code",
      "source": [
        "astar_searcher_sdg_amanda.search()"
      ],
      "metadata": {
        "colab": {
          "base_uri": "https://localhost:8080/"
        },
        "id": "kDsu0Psgr2qH",
        "outputId": "43ec3d13-04cd-4fdd-cab6-2f21143340e6"
      },
      "execution_count": 37,
      "outputs": [
        {
          "output_type": "stream",
          "name": "stdout",
          "text": [
            "Solution: MUSIC --> MESIC --> MELIC --> MALIC --> MANIC --> MANIA --> MANGA --> MANGO --> MONGO --> MONDO --> MONDE --> MONIE --> MOVIE (cost: 12)\n",
            " 13 paths have been expanded and 0 paths remain in the frontier\n"
          ]
        },
        {
          "output_type": "execute_result",
          "data": {
            "text/plain": [
              "MUSIC --> MESIC --> MELIC --> MALIC --> MANIC --> MANIA --> MANGA --> MANGO --> MONGO --> MONDO --> MONDE --> MONIE --> MOVIE"
            ]
          },
          "metadata": {},
          "execution_count": 37
        }
      ]
    },
    {
      "cell_type": "code",
      "source": [
        "import matplotlib.pyplot as plt\n",
        "\n",
        "\n",
        "\n",
        "\n",
        "# 'A': (21,21)\n",
        "# 'B': (13,20)\n",
        "# 'C': (2,17)\n",
        "# 'D': (5,28)\n",
        "# 'E': (22,1)\n",
        "# 'F': (17,15)\n",
        "# 'G': (15,3)\n",
        "# 'H': (18,6)\n",
        "# 'I': (9,23)\n",
        "# 'J': (4,12)\n",
        "# 'K': (26,26)\n",
        "# 'L': (14,8)\n",
        "\n",
        "# Define positions\n",
        "positions = {\n",
        "    'A': (.21,.21),\n",
        "    'B': (.13,.20),\n",
        "    'C': (.62,.05),\n",
        "    'D': (.50,.28),\n",
        "    'E': (.72,.61),\n",
        "    'F': (.17,.75),\n",
        "    'G': (.10,.50),\n",
        "    'H': (.18,.60),\n",
        "    'I': (.90,.23),\n",
        "    'J': (.40,.12),\n",
        "    'K': (.26,.26),\n",
        "    'L': (.34,.80)\n",
        "\n",
        "}\n",
        "\n",
        "# Prepare plot\n",
        "fig, ax = plt.subplots()\n",
        "\n",
        "# Plot each point and label them\n",
        "for node, (x, y) in positions.items():\n",
        "    ax.plot(x, y, 'o', label=f'{node} at ({x}, {y})')\n",
        "    ax.text(x, y + 0.05, f'{node}', ha='center')\n",
        "\n",
        "# Set limits and grid\n",
        "ax.set_xlim(-0.1, 1.1)\n",
        "ax.set_ylim(-0.1, 1.1)\n",
        "ax.set_title('Graphical Representation of Positions')\n",
        "ax.grid(True)\n",
        "\n",
        "# Show plot with legend\n",
        "# ax.legend()\n",
        "plt.show()\n"
      ],
      "metadata": {
        "colab": {
          "base_uri": "https://localhost:8080/",
          "height": 452
        },
        "id": "F_naNoZ9xR0u",
        "outputId": "3b17424f-db24-429b-fed1-1a0baa619a35"
      },
      "execution_count": 32,
      "outputs": [
        {
          "output_type": "display_data",
          "data": {
            "text/plain": [
              "<Figure size 640x480 with 1 Axes>"
            ],
            "image/png": "[encoded data removed]"
          },
          "metadata": {}
        }
      ]
    }
  ],
  "metadata": {
    "colab": {
      "provenance": [],
      "include_colab_link": true
    },
    "kernelspec": {
      "display_name": "Python 3",
      "name": "python3"
    },
    "language_info": {
      "name": "python"
    }
  },
  "nbformat": 4,
  "nbformat_minor": 0
}