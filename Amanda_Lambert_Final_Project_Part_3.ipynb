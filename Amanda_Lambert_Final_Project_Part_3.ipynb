{
  "nbformat": 4,
  "nbformat_minor": 0,
  "metadata": {
    "colab": {
      "provenance": [],
      "include_colab_link": true
    },
    "kernelspec": {
      "name": "python3",
      "display_name": "Python 3"
    },
    "language_info": {
      "name": "python"
    }
  },
  "cells": [
    {
      "cell_type": "markdown",
      "metadata": {
        "id": "view-in-github",
        "colab_type": "text"
      },
      "source": [
        "<a href=\"https://colab.research.google.com/github/MadmanMarble/GLAP/blob/main/Amanda_Lambert_Final_Project_Part_3.ipynb\" target=\"_parent\"><img src=\"https://colab.research.google.com/assets/colab-badge.svg\" alt=\"Open In Colab\"/></a>"
      ]
    },
    {
      "cell_type": "markdown",
      "source": [
        "**How It Works:**\n",
        "* Preprocessing: The text is preprocessed by lowercasing, removing punctuation, and filtering stopwords using NLTK.\n",
        "* Word2Vec Model: We train a Word2Vec model on the preprocessed text. In this case, a sample corpus is used, but you can use a larger dataset for better predictions.\n",
        "* Next Word Prediction: The function predict_next_word() takes a context (a string of words) and computes the mean vector of the context words. It then finds the most similar words to this vector in the Word2Vec space, which are returned as the predicted next words."
      ],
      "metadata": {
        "id": "j9sfwwJ3jq5v"
      }
    },
    {
      "cell_type": "code",
      "source": [
        "# Install gensim in Colab if not already installed\n",
        "!pip install gensim\n",
        "\n",
        "# Import necessary libraries\n",
        "import gensim\n",
        "from gensim.models import Word2Vec\n",
        "import numpy as np\n",
        "import re\n",
        "from sklearn.decomposition import PCA\n",
        "import matplotlib.pyplot as plt\n",
        "from nltk.corpus import stopwords\n",
        "from nltk.tokenize import word_tokenize\n",
        "import nltk\n",
        "\n",
        "# Download the necessary NLTK data\n",
        "nltk.download('punkt')\n",
        "nltk.download('stopwords')"
      ],
      "metadata": {
        "id": "bcdjTcysj9Bn",
        "outputId": "c30dbd75-ca97-4a3b-ee45-ad52d7e3667e",
        "colab": {
          "base_uri": "https://localhost:8080/"
        }
      },
      "execution_count": 1,
      "outputs": [
        {
          "output_type": "stream",
          "name": "stdout",
          "text": [
            "Requirement already satisfied: gensim in /usr/local/lib/python3.10/dist-packages (4.3.3)\n",
            "Requirement already satisfied: numpy<2.0,>=1.18.5 in /usr/local/lib/python3.10/dist-packages (from gensim) (1.26.4)\n",
            "Requirement already satisfied: scipy<1.14.0,>=1.7.0 in /usr/local/lib/python3.10/dist-packages (from gensim) (1.13.1)\n",
            "Requirement already satisfied: smart-open>=1.8.1 in /usr/local/lib/python3.10/dist-packages (from gensim) (7.0.4)\n",
            "Requirement already satisfied: wrapt in /usr/local/lib/python3.10/dist-packages (from smart-open>=1.8.1->gensim) (1.16.0)\n"
          ]
        },
        {
          "output_type": "stream",
          "name": "stderr",
          "text": [
            "[nltk_data] Downloading package punkt to /root/nltk_data...\n",
            "[nltk_data]   Unzipping tokenizers/punkt.zip.\n",
            "[nltk_data] Downloading package stopwords to /root/nltk_data...\n",
            "[nltk_data]   Unzipping corpora/stopwords.zip.\n"
          ]
        },
        {
          "output_type": "execute_result",
          "data": {
            "text/plain": [
              "True"
            ]
          },
          "metadata": {},
          "execution_count": 1
        }
      ]
    },
    {
      "cell_type": "code",
      "source": [
        "\n",
        "# Sample training corpus (You can replace this with a larger dataset)\n",
        "# For example, you can load a text file from Google Drive or online source.\n",
        "corpus = \"\"\"\n",
        "Machine learning is the study of computer algorithms that improve automatically through experience and by the use of data.\n",
        "It is seen as a part of artificial intelligence.\n",
        "Machine learning algorithms build a mathematical model based on sample data, known as training data,\n",
        "in order to make predictions or decisions without being explicitly programmed to do so.\n",
        "Machine learning algorithms are used in a wide variety of applications, such as email filtering and computer vision,\n",
        "where it is difficult or unfeasible to develop conventional algorithms to perform the needed tasks.\n",
        "\"\"\"\n",
        "\n",
        "# Preprocess the text (lowercase, remove punctuation, stopwords)\n",
        "def preprocess_text(text):\n",
        "    text = text.lower()\n",
        "    text = re.sub(r'[^\\w\\s]', '', text)  # Remove punctuation\n",
        "    stop_words = set(stopwords.words('english'))\n",
        "    words = word_tokenize(text)\n",
        "    words = [word for word in words if word not in stop_words]\n",
        "    return words\n",
        "\n",
        "# Preprocess the corpus\n",
        "preprocessed_corpus = preprocess_text(corpus)\n",
        "\n",
        "# Prepare data in the form required for Word2Vec (sentences split)\n",
        "sentences = [preprocessed_corpus]  # List of tokenized sentences\n",
        "\n",
        "# Train a Word2Vec model\n",
        "model = Word2Vec(sentences, vector_size=100, window=5, min_count=1, workers=4)\n",
        "\n",
        "# Function to predict the next word given a sequence of words\n",
        "def predict_next_word(model, context, top_n=3):\n",
        "    context_words = context.split()\n",
        "\n",
        "    # Check if all words in the context are in the model's vocabulary\n",
        "    if all(word in model.wv.index_to_key for word in context_words):\n",
        "        # Get the average vector of the context words\n",
        "        context_vector = np.mean([model.wv[word] for word in context_words], axis=0)\n",
        "\n",
        "        # Find the top_n most similar words to the context vector\n",
        "        similar_words = model.wv.similar_by_vector(context_vector, topn=top_n)\n",
        "        return [word for word, score in similar_words]\n",
        "    else:\n",
        "        return [\"One or more words in the context are not in the model vocabulary\"]\n",
        "\n",
        "# Example usage: Predicting the next word for a given context\n",
        "context = \"machine learning\"\n",
        "predicted_words = predict_next_word(model, context, top_n=3)\n",
        "print(f\"Context: '{context}'\")\n",
        "print(f\"Predicted next words: {predicted_words}\")"
      ],
      "metadata": {
        "id": "gOq4kKcOcIOD",
        "outputId": "700d994e-0e8e-4201-fae4-ecfe5209c5b2",
        "colab": {
          "base_uri": "https://localhost:8080/"
        }
      },
      "execution_count": 2,
      "outputs": [
        {
          "output_type": "stream",
          "name": "stdout",
          "text": [
            "Context: 'machine learning'\n",
            "Predicted next words: ['learning', 'machine', 'seen']\n"
          ]
        }
      ]
    },
    {
      "cell_type": "markdown",
      "source": [
        "#Assigned task:\n",
        "Create a larger training corpus, and perform next word prediction and print the predicted next words."
      ],
      "metadata": {
        "id": "pFnZTgOgkdXu"
      }
    },
    {
      "cell_type": "code",
      "execution_count": 12,
      "metadata": {
        "id": "NO2JkagojDsl",
        "outputId": "f5c4bf50-6df7-4f93-bd02-6a7dab621d23",
        "colab": {
          "base_uri": "https://localhost:8080/"
        }
      },
      "outputs": [
        {
          "output_type": "stream",
          "name": "stdout",
          "text": [
            "Context: 'enemy sang journey road'\n",
            "Predicted next words: ['journey', 'enemy', 'road', 'sang', 'lessen', 'attack', 'resist', 'crosses', 'heal', 'answer']\n"
          ]
        }
      ],
      "source": [
        "# An excerpt from Chapter 12: Flight to the Ford in Fellowship of the Ring by J. R. R. Tolkien (what I'm currently reading)\n",
        "corpus = \"\"\"\n",
        "When Frodo came to himself he was still clutching the Ring desperately. He was lying by the fire, which was now piled high and burning brightly.\n",
        "His three companions were bending over him.\n",
        "\n",
        "\"What has happened? Where is the pale king?\" he asked wildly.\n",
        "\n",
        "They were too overjoyed to hear him speak to answer for a while; nor did they understand his question. At length, he gathered from Sam that they\n",
        "had seen nothing but the vague shadowy shapes coming towards them. Suddenly, to his horror, Sam found that his master had vanished; and at that moment,\n",
        "a black shadow rushed past him, and he fell. He heard Frodo’s voice, but it seemed to come from a great distance, or from under the earth, crying out\n",
        "strange words. They saw nothing more until they stumbled over Frodo’s body, lying as if dead, face downwards on the grass with his sword beneath him.\n",
        "Strider ordered them to pick him up and lay him near the fire, and then he disappeared. That was now a good while ago.\n",
        "\n",
        "Sam was plainly beginning to have doubts again about Strider; but while they were talking, he returned, appearing suddenly out of the shadows. They\n",
        "started, and Sam drew his sword and stood over Frodo; but Strider knelt down swiftly at his side.\n",
        "\n",
        "\"I am not a Black Rider, Sam,\" he said gently, \"nor in league with them. I have been trying to discover something of their movements, but I have found\n",
        "nothing. I cannot think why they have gone and do not attack again. But there is no feeling of their presence anywhere at hand.\"\n",
        "\n",
        "When he heard what Frodo had to tell, he became full of concern, and shook his head and sighed. Then he ordered Pippin and Merry to heat as much water\n",
        "as they could in their small kettles, and to bathe the wound with it. \"Keep the fire going well, and keep Frodo warm!\" he said. Then he got up and walked\n",
        "away, and called Sam to him. \"I think I understand things better now,\" he said in a low voice. \"There seem only to have been five of the enemy. Why they\n",
        "were not all here, I don’t know; but I don’t think they expected to be resisted. They have drawn off for the time being. But not far, I fear. They will\n",
        "come again another night, if we cannot escape. They are only waiting, because they think that their purpose is almost accomplished, and that the Ring\n",
        "cannot fly much further. I fear, Sam, that they believe your master has a deadly wound that will subdue him to their will. We shall see!\"\n",
        "\n",
        "Sam choked with tears. \"Don’t despair!\" said Strider. \"You must trust me now. Your Frodo is made of sterner stuff than I had guessed, though Gandalf\n",
        "hinted that it might prove so. He is not slain, and I think he will resist the evil power of the wound longer than his enemies expect. I will do all I\n",
        "can to help and heal him. Guard him well, while I am away!\" He hurried off and disappeared again into the darkness.\n",
        "\n",
        "Frodo dozed, though the pain of his wound was slowly growing, and a deadly chill was spreading from his shoulder to his arm and side. His friends watched\n",
        "over him, warming him, and bathing his wound. The night passed slowly and wearily. Dawn was growing in the sky, and the dell was filling with grey light\n",
        "when Strider at last returned.\n",
        "\n",
        "\"Look!\" he cried; and stooping, he lifted from the ground a black cloak that had lain there hidden by the darkness. A foot above the lower hem, there\n",
        "was a slash. \"This was the stroke of Frodo’s sword,\" he said. \"The only hurt that it did to his enemy, I fear; for it is unharmed, but all blades perish\n",
        "that pierce that dreadful King. More deadly to him was the name of Elbereth.\"\n",
        "\n",
        "\"And more deadly to Frodo was this!\" He stooped again and lifted up a long thin knife. There was a cold gleam in it. As Strider raised it, they saw that\n",
        "near the end, its edge was notched, and the point was broken off. But even as he held it up in the growing light, they gazed in astonishment, for the\n",
        "blade seemed to melt and vanished like smoke in the air, leaving only the hilt in Strider’s hand. \"Alas!\" he cried. \"It was this accursed knife that\n",
        "gave the wound. Few now have the skill in healing to match such evil weapons. But I will do what I can.\"\n",
        "\n",
        "He sat down on the ground, and taking the dagger-hilt, laid it on his knees, and he sang over it a slow song in a strange tongue. Then setting it aside,\n",
        "he turned to Frodo and in a soft tone spoke words the others could not catch. From the pouch at his belt, he drew out the long leaves of a plant.\n",
        "\n",
        "\"These leaves,\" he said, \"I have walked far to find; for this plant does not grow in the bare hills; but in the thickets away south of the Road, I found\n",
        "it in the dark by the scent of its leaves.\" He crushed a leaf in his fingers, and it gave out a sweet and pungent fragrance. \"It is fortunate that I\n",
        "could find it, for it is a healing plant that the Men of the West brought to Middle-earth. Athelas they named it, and it grows now sparsely and only near\n",
        "places where they dwelt or camped of old; and it is not known in the North, except to some of those who wander in the Wild. It has great virtues, but over\n",
        "such a wound as this its healing powers may be small.\"\n",
        "\n",
        "He threw the leaves into boiling water and bathed Frodo’s shoulder. The fragrance of the steam was refreshing, and those that were unhurt felt their\n",
        "minds calmed and cleared. The herb had also some power over the wound, for Frodo felt the pain and also the sense of frozen cold lessen in his side;\n",
        "but the life did not return to his arm, and he could not raise or use his hand. He bitterly regretted his foolishness and reproached himself for\n",
        "weakness of will; for he now perceived that in putting on the Ring, he obeyed not his own desire but the commanding wish of his enemies. He wondered\n",
        "if he would remain maimed for life and how they would now manage to continue their journey. He felt too weak to stand.\n",
        "\n",
        "The others were discussing this very question. They quickly decided to leave Weathertop as soon as possible. \"I think now,\" said Strider, \"that the\n",
        "enemy has been watching this place for some days. If Gandalf ever came here, then he must have been forced to ride away, and he will not return. In\n",
        "any case, we are in great peril here after dark, since the attack of last night, and we can hardly meet greater danger wherever we go.\"\n",
        "\n",
        "As soon as the daylight was full, they had some hurried food and packed. It was impossible for Frodo to walk, so they divided the greater part of\n",
        "their baggage among the four of them, and put Frodo on the pony. In the last few days, the poor beast had improved wonderfully; it already seemed\n",
        "fatter and stronger and had begun to show affection for its new masters, especially for Sam. Bill Ferny’s treatment must have been very hard for the\n",
        "journey in the wild to seem so much better than its former life.\n",
        "\n",
        "They started off in a southerly direction. This would mean crossing the Road, but it was the quickest way to more wooded country. And they needed fuel;\n",
        "for Strider said that Frodo must be kept warm, especially at night, while fire would be some protection for them all. It was also his plan to shorten\n",
        "their journey by cutting across another great loop of the Road: east beyond Weathertop, it changed its course and took a wide bend northwards.\n",
        "\n",
        "They made their way slowly and cautiously around the southwestern slopes of the hill and came in a little while to the edge of the Road. There was no\n",
        "sign of the Riders. But even as they were hurrying across, they heard far away two cries: a cold voice calling and a cold voice answering. Trembling,\n",
        "they sprang forward and made for the thickets that lay ahead. The land before them sloped away southwards, but it was wild and pathless; bushes and\n",
        "stunted trees grew in dense patches with wide barren spaces in between. The grass was scanty, coarse, and grey; and the leaves in the thickets were\n",
        "faded and falling. It was a cheerless land, and their journey was slow and gloomy. They spoke little as they trudged along. Frodo’s heart was grieved\n",
        "as he watched them walking beside him with their heads down and their backs bowed under their burdens. Even Strider seemed tired and heavy-hearted.\n",
        "\n",
        "Before the first day’s march was over, Frodo’s pain began to grow again, but he did not speak of it for a long time. Four days passed, without the\n",
        "ground or the scene changing much, except that behind them Weathertop slowly sank, and before them the distant mountains loomed a little nearer. Yet\n",
        "since that far cry, they had seen and heard no sign that the enemy had marked their flight or followed them. They dreaded the dark hours and kept\n",
        "watch in pairs by night, expecting at any time to see black shapes stalking in the grey night, dimly lit by the cloud-veiled moon; but they saw nothing\n",
        "and heard no sound but the sigh of withered leaves and grass. Not once did they feel the sense of present evil that had assailed them before the attack\n",
        "in the dell. It seemed too much to hope that the Riders had already lost their trail again. Perhaps they were waiting to make some ambush in a narrow place?\n",
        "\n",
        "At the end of the fifth day, the ground began once more to rise slowly out of the wide shallow valley into which they had descended. Strider now turned\n",
        "their course again northeastwards, and on the sixth day, they reached the top of a long slow-climbing slope, and saw far ahead a huddle of wooded hills.\n",
        "Away below them, they could see the Road sweeping around the feet of the hills; and to their right, a grey river gleamed pale in the thin sunshine.\n",
        "In the distance, they glimpsed yet another river in a stony valley half-veiled in mist.\n",
        "\n",
        "\"I am afraid we must go back to the Road here for a while,\" said Strider. \"We have now come to the River Hoarwell, that the Elves call Mitheithel. It flows\n",
        "down out of the Ettenmoors, the troll-fells north of Rivendell, and joins the Loudwater away in the South. Some call it the Greyflood after that. It is a\n",
        "great water before it finds the Sea. There is no way over it below its sources in the Ettenmoors, except by the Last Bridge on which the Road crosses.\"\n",
        "\"\"\"\n",
        "\n",
        "# Preprocess the text (lowercase, remove punctuation, stopwords)\n",
        "def preprocess_text(text):\n",
        "    text = text.lower()\n",
        "    text = re.sub(r'[^\\w\\s]', '', text)  # Remove punctuation\n",
        "    stop_words = set(stopwords.words('english'))\n",
        "    words = word_tokenize(text)\n",
        "    words = [word for word in words if word not in stop_words]\n",
        "    return words\n",
        "\n",
        "# Preprocess the corpus\n",
        "preprocessed_corpus = preprocess_text(corpus)\n",
        "\n",
        "# Prepare data in the form required for Word2Vec (sentences split)\n",
        "sentences = [preprocessed_corpus]  # List of tokenized sentences\n",
        "\n",
        "# Train a Word2Vec model\n",
        "model = Word2Vec(sentences, vector_size=100, window=5, min_count=1, workers=4)\n",
        "\n",
        "# Function to predict the next word given a sequence of words\n",
        "def predict_next_word(model, context, top_n=3):\n",
        "    context_words = context.split()\n",
        "\n",
        "    # Check if all words in the context are in the model's vocabulary\n",
        "    if all(word in model.wv.index_to_key for word in context_words):\n",
        "        # Get the average vector of the context words\n",
        "        context_vector = np.mean([model.wv[word] for word in context_words], axis=0)\n",
        "\n",
        "        # Find the top_n most similar words to the context vector\n",
        "        similar_words = model.wv.similar_by_vector(context_vector, topn=top_n)\n",
        "        return [word for word, score in similar_words]\n",
        "    else:\n",
        "        return [\"One or more words in the context are not in the model vocabulary\"]\n",
        "\n",
        "# # Example usage: Predicting the next word for a given context\n",
        "# context = \"machine learning\"\n",
        "# # top n = 3 means to sepect 3 from the top probable words\n",
        "# predicted_words = predict_next_word(model, context, top_n=3)\n",
        "# print(f\"Context: '{context}'\")\n",
        "# print(f\"Predicted next words: {predicted_words}\")\n",
        "\n",
        "\n",
        "\n",
        "# # Example usage: Predicting the next word for a given context\n",
        "# context = \"ford reaching\"\n",
        "# # top n = 3 means to sepect 3 from the top probable words\n",
        "# predicted_words = predict_next_word(model, context, top_n=3)\n",
        "# print(f\"Context: '{context}'\")\n",
        "# print(f\"Predicted next words: {predicted_words}\")\n",
        "# # Context: 'ford reaching'\n",
        "# # Predicted next words: ['ford', 'reaching', 'quick']\n",
        "\n",
        "\n",
        "\n",
        "# Example usage: Predicting the next word for a given context\n",
        "context = \"enemy sang journey road\" # \"ford reaching sang direction journey\"\n",
        "# top n = 3 means to sepect 3 from the top probable words\n",
        "predicted_words = predict_next_word(model, context, top_n=10)\n",
        "print(f\"Context: '{context}'\")\n",
        "print(f\"Predicted next words: {predicted_words}\")\n"
      ]
    }
  ]
}